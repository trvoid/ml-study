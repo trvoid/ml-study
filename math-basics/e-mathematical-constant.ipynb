{
 "cells": [
  {
   "cell_type": "markdown",
   "id": "b84f32b3",
   "metadata": {},
   "source": [
    "# e (수학 상수)\n",
    "\n",
    "아래 자료들을 참고하여 실습하면서 작성한 노트북입니다.\n",
    "\n",
    "* [자연상수 e의 역사 이야기 / 뜻과 정의, 개념 / 값, 수식, 활용](https://blog.naver.com/prayer2k/222471310302), 수냐의 수학카페\n",
    "* [자연 상수 e](https://terms.naver.com/entry.naver?docId=3568951&cid=58944&categoryId=58970), 네이버 지식백과\n",
    "* [자연상수 e의 의미](https://angeloyeo.github.io/2019/09/04/natural_number_e.html), 공돌이의 수학정리노트\n",
    "* [e  (mathematical constant)](https://en.wikipedia.org/wiki/E_(mathematical_constant)), Wikipedia"
   ]
  },
  {
   "cell_type": "markdown",
   "id": "4b0506e8",
   "metadata": {},
   "source": [
    "## 지수와 지수거듭제곱의 관계로부터 정의"
   ]
  },
  {
   "cell_type": "markdown",
   "id": "8b7603df",
   "metadata": {},
   "source": [
    "## 복리 계산으로부터 정의\n",
    "\n",
    "* 1년에 $100$ % 이자를 줄 때 1년 후 성장 비율: \n",
    "\n",
    "$$(1 + {1 \\over 1}) = 2$$\n",
    "\n",
    "* 6개월 마다 $100 * {6 \\over 12}$ % 이자를 줄 때 1년 후 성장 비율: \n",
    "\n",
    "$$(1 + {1 \\over 2}) \\times (1 + {1 \\over 2}) = 2.25$$\n",
    "\n",
    "* 1개월 마다 $100 * {1 \\over 12}$ % 이자를 줄 때 1년 후 성장 비율: \n",
    "\n",
    "$$(1 + {1 \\over 12})^{12} = ...$$\n",
    "\n",
    "* 하루 마다 $100 * {1 \\over {365}}$ % 이자를 줄 때 1년 후 성장 비율: \n",
    "\n",
    "$$(1 + {1 \\over 365})^{365} = ...$$\n",
    "\n",
    "* 1시간 마다 $100 * {1 \\over {365*24}}$ % 이자를 줄 때 1년 후 성장 비율: \n",
    "\n",
    "$$(1 + {1 \\over {365*24}})^{365*24} = ...$$"
   ]
  },
  {
   "cell_type": "code",
   "execution_count": 8,
   "id": "a9377a49",
   "metadata": {},
   "outputs": [
    {
     "name": "stdout",
     "output_type": "stream",
     "text": [
      "[1, 2, 3, 4, 5, 6, 7, 8, 9, 10, 11, 12]\n"
     ]
    }
   ],
   "source": [
    "n = [i for i in range(1, 13, 1)]\n",
    "print(n)"
   ]
  },
  {
   "cell_type": "code",
   "execution_count": 6,
   "id": "cfc68325",
   "metadata": {},
   "outputs": [
    {
     "name": "stdout",
     "output_type": "stream",
     "text": [
      "[2.0, 2.25, 2.37037037037037, 2.44140625, 2.4883199999999994, 2.5216263717421135, 2.546499697040712, 2.565784513950348, 2.5811747917131984, 2.5937424601000023, 2.6041990118975287, 2.613035290224676]\n"
     ]
    }
   ],
   "source": [
    "def compound_interest(n, k=1.0):\n",
    "    return (1 + k/n)**n\n",
    "\n",
    "interests = []\n",
    "for i in n:\n",
    "    interests.append(compound_interest(i))\n",
    "    \n",
    "print(interests)"
   ]
  },
  {
   "cell_type": "code",
   "execution_count": 9,
   "id": "7e358444",
   "metadata": {},
   "outputs": [
    {
     "name": "stdout",
     "output_type": "stream",
     "text": [
      "[10, 20, 30, 40, 50, 60, 70, 80, 90, 100]\n"
     ]
    }
   ],
   "source": [
    "n = [i for i in range(10, 101, 10)]\n",
    "print(n)"
   ]
  },
  {
   "cell_type": "code",
   "execution_count": 10,
   "id": "2d60390a",
   "metadata": {},
   "outputs": [
    {
     "name": "stdout",
     "output_type": "stream",
     "text": [
      "[2.5937424601000023, 2.653297705144422, 2.6743187758703026, 2.685063838389963, 2.691588029073608, 2.6959701393302162, 2.6991163709761854, 2.7014849407533275, 2.703332461058186, 2.7048138294215285]\n"
     ]
    }
   ],
   "source": [
    "interests = []\n",
    "for i in n:\n",
    "    interests.append(compound_interest(i))\n",
    "    \n",
    "print(interests)"
   ]
  },
  {
   "cell_type": "code",
   "execution_count": 11,
   "id": "929426e0",
   "metadata": {},
   "outputs": [],
   "source": [
    "n = [i for i in range(1, 201, 10)]\n",
    "\n",
    "interests = []\n",
    "for i in n:\n",
    "    interests.append(compound_interest(i))"
   ]
  },
  {
   "cell_type": "code",
   "execution_count": 16,
   "id": "e203fe32",
   "metadata": {},
   "outputs": [
    {
     "data": {
      "image/png": "[encoded data removed]",
      "text/plain": [
       "<Figure size 432x288 with 1 Axes>"
      ]
     },
     "metadata": {
      "needs_background": "light"
     },
     "output_type": "display_data"
    }
   ],
   "source": [
    "import matplotlib.pyplot as plt\n",
    "\n",
    "plt.plot(n, interests, marker='o')\n",
    "plt.ylim(1.9, 2.8)\n",
    "plt.grid(True)\n",
    "plt.show()"
   ]
  },
  {
   "cell_type": "code",
   "execution_count": null,
   "id": "753a526b",
   "metadata": {},
   "outputs": [],
   "source": []
  }
 ],
 "metadata": {
  "kernelspec": {
   "display_name": "Python 3 (ipykernel)",
   "language": "python",
   "name": "python3"
  },
  "language_info": {
   "codemirror_mode": {
    "name": "ipython",
    "version": 3
   },
   "file_extension": ".py",
   "mimetype": "text/x-python",
   "name": "python",
   "nbconvert_exporter": "python",
   "pygments_lexer": "ipython3",
   "version": "3.9.12"
  }
 },
 "nbformat": 4,
 "nbformat_minor": 5
}
