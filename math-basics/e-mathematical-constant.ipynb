{
 "cells": [
  {
   "cell_type": "markdown",
   "id": "9ef8e85f",
   "metadata": {},
   "source": [
    "# e (수학 상수)\n",
    "\n",
    "아래 자료들을 참고하여 실습하면서 작성한 노트북입니다.\n",
    "\n",
    "* [자연상수 e의 역사 이야기 / 뜻과 정의, 개념 / 값, 수식, 활용](https://blog.naver.com/prayer2k/222471310302), 수냐의 수학카페\n",
    "* [자연 상수 e](https://terms.naver.com/entry.naver?docId=3568951&cid=58944&categoryId=58970), 네이버 지식백과\n",
    "* [자연상수 e의 의미](https://angeloyeo.github.io/2019/09/04/natural_number_e.html), 공돌이의 수학정리노트\n",
    "* [e  (mathematical constant)](https://en.wikipedia.org/wiki/E_(mathematical_constant)), Wikipedia"
   ]
  },
  {
   "cell_type": "markdown",
   "id": "6e93b17e",
   "metadata": {},
   "source": [
    "## 자연상수 정의 방법\n",
    "\n",
    "### 지수와 지수거듭제곱의 관계로부터 정의"
   ]
  },
  {
   "cell_type": "markdown",
   "id": "116faa82",
   "metadata": {},
   "source": [
    "### 복리 계산으로부터 정의 (베르누이)\n",
    "\n",
    "여기서 성장 비율은 다음의 값을 의미합니다.\n",
    "\n",
    "$$\n",
    "성장 비율 = {{원금 + 수익} \\over 원금}\n",
    "$$\n",
    "\n",
    "1 년 동안 이자 지급 횟수를 점차 늘려감에 따라 성장 비율이 어떻게 달라지는지 살펴 봅니다.\n",
    "\n",
    "* 1년에 $100$ % 이자를  $1$ 번 줄 때 1년 후 성장 비율: \n",
    "\n",
    "$$(1 + {1 \\over 1}) = 2$$\n",
    "\n",
    "* 6개월 마다 $100 \\times {6 \\over 12}$ % 이자를 $12 \\over 6$ 번 줄 때 1년 후 성장 비율: \n",
    "\n",
    "$$(1 + {1 \\over 2}) \\times (1 + {1 \\over 2}) = 2.25$$\n",
    "\n",
    "* 1개월 마다 $100 \\times {1 \\over 12}$ % 이자를 $12$ 번 줄 때 1년 후 성장 비율: \n",
    "\n",
    "$$(1 + {1 \\over 12})^{12} = ...$$\n",
    "\n",
    "* 하루 마다 $100 \\times {1 \\over {365}}$ % 이자를 $365$ 번 줄 때 1년 후 성장 비율: \n",
    "\n",
    "$$(1 + {1 \\over 365})^{365} = ...$$\n",
    "\n",
    "* 1시간 마다 $100 \\times {1 \\over {365 \\times 24}}$ % 이자를 $365 \\times 24$ 번 줄 때 1년 후 성장 비율: \n",
    "\n",
    "$$(1 + {1 \\over {365 \\times 24}})^{365 \\times 24} = ...$$\n",
    "\n",
    "* n 번으로 나누어서 $100 \\times {1 \\over n}$ % 이자를 $n$ 번 줄 때 1년 후 성장 비율:\n",
    "\n",
    "$$(1 + {1 \\over n})^n = ...$$\n",
    "\n",
    "* 무한히 쪼개서 줄 때 1년 후 성장 비율:\n",
    "\n",
    "$$\\lim_{n\\to\\infty} (1 + {1 \\over n})^n = 2.7182818284...$$\n",
    "\n",
    "오일러는 위에서 무한히 쪼개서 줄 때 1년 후 성장 비율에 해당하는 수를 자연상수 e로 명명합니다.\n",
    "\n",
    "$$e = \\lim_{n\\to\\infty} (1 + {1 \\over n})^n$$"
   ]
  },
  {
   "cell_type": "code",
   "execution_count": 1,
   "id": "b799fc9f",
   "metadata": {},
   "outputs": [],
   "source": [
    "def compound_interest(n, k=1.0):\n",
    "    return (1 + k/n)**n"
   ]
  },
  {
   "cell_type": "code",
   "execution_count": 2,
   "id": "90dfe7a1",
   "metadata": {},
   "outputs": [
    {
     "name": "stdout",
     "output_type": "stream",
     "text": [
      "[2.0, 2.25, 2.613035290224676, 2.7145674820219727, 2.7181266916179077]\n"
     ]
    }
   ],
   "source": [
    "n = [1, 2, 12, 365, 365*24]\n",
    "\n",
    "interests = []\n",
    "for i in n:\n",
    "    interests.append(compound_interest(i))\n",
    "    \n",
    "print(interests)"
   ]
  },
  {
   "cell_type": "code",
   "execution_count": 3,
   "id": "f17dcd39",
   "metadata": {},
   "outputs": [
    {
     "data": {
      "image/png": "[encoded data removed]",
      "text/plain": [
       "<Figure size 432x288 with 1 Axes>"
      ]
     },
     "metadata": {
      "needs_background": "light"
     },
     "output_type": "display_data"
    }
   ],
   "source": [
    "import matplotlib.pyplot as plt\n",
    "\n",
    "plt.plot(n, interests, marker='o')\n",
    "plt.ylim(1.9, 2.8)\n",
    "plt.grid(True)\n",
    "plt.show()"
   ]
  },
  {
   "cell_type": "code",
   "execution_count": null,
   "id": "8e9308e2",
   "metadata": {},
   "outputs": [],
   "source": []
  }
 ],
 "metadata": {
  "kernelspec": {
   "display_name": "Python 3 (ipykernel)",
   "language": "python",
   "name": "python3"
  },
  "language_info": {
   "codemirror_mode": {
    "name": "ipython",
    "version": 3
   },
   "file_extension": ".py",
   "mimetype": "text/x-python",
   "name": "python",
   "nbconvert_exporter": "python",
   "pygments_lexer": "ipython3",
   "version": "3.9.12"
  }
 },
 "nbformat": 4,
 "nbformat_minor": 5
}
