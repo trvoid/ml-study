{
 "cells": [
  {
   "cell_type": "markdown",
   "id": "6e8bdf77",
   "metadata": {},
   "source": [
    "# 푸아송 분포\n",
    "\n",
    "아래 자료들을 참고하여 실습하면서 작성한 노트북입니다.\n",
    "\n",
    "* [푸아송 분포](https://ko.wikipedia.org/wiki/%ED%91%B8%EC%95%84%EC%86%A1_%EB%B6%84%ED%8F%AC), 위키백과\n",
    "* [푸아송 분포, 직관적으로 이해하기](https://danbi-ncsoft.github.io/study/2019/07/15/poisson.html), DANBI\n",
    "\n",
    "## 이항분포와의 관계\n",
    "\n",
    "* 출처: [푸아송 분포](https://ko.wikipedia.org/wiki/%ED%91%B8%EC%95%84%EC%86%A1_%EB%B6%84%ED%8F%AC), 위키백과\n",
    "\n",
    "푸아송 분포는 [이항 분포](https://ko.wikipedia.org/wiki/%EC%9D%B4%ED%95%AD_%EB%B6%84%ED%8F%AC)의 특수한 형태로 볼 수 있다.\n",
    "\n",
    "$$\n",
    "{\\displaystyle X \\sim {\\textrm {B}}(n,p).}\n",
    "$$\n",
    "\n",
    "이항분포를 따르는 위와 같은 확률변수 $X$에서, $n$이 대단히 크고 $p$가 대단히 작을 경우, 이 확률변수 $X$는 $λ=np$인 푸아송 분포로 근사할 수 있다.\n",
    "\n",
    "예를 들어 DNA에 방사선을 쬐었을 때, 각 염기쌍이 돌연변이를 일으킬 확률은 각각 매우 작고 서로 독립적이다. 또한 하나의 DNA에는 많은 염기쌍이 있다. 따라서 DNA에 방사선을 쬐었을 때 발생하는 돌연변이의 개수는 푸아송 분포로 나타낼 수 있다.\n",
    "\n",
    "$$\n",
    "{\\displaystyle X \\sim {\\textrm {Pois}}(np).\\,}\n",
    "$$"
   ]
  },
  {
   "cell_type": "markdown",
   "id": "fb88ac23",
   "metadata": {},
   "source": [
    "## 이항 분포로부터 푸아송 분포 유도\n",
    "\n",
    "$$\n",
    "\\begin{equation} \\label{eq1}\n",
    "\\begin{split}\n",
    "\\lim_{n \\to \\infty} B(k;n,p) & = \\lim_{n \\to \\infty} {n \\choose k} p^k (1-p)^{n-k} \\\\\n",
    "                             & = \\lim_{n \\to \\infty} \\frac{n!}{k!(n-k)!} p^k (1-p)^{n-k} \\\\\n",
    "                             & = \\lim_{n \\to \\infty} \\left[\\frac{n!}{n^k (n-k)!}\\right] \\left[\\frac{\\lambda^k}{k!}(1 - \\frac{\\lambda}{n})^n\\right] \\left[(1 - \\frac{\\lambda}{n})^{-k}\\right] \\\\\n",
    "                             & \\qquad\\qquad(가) \\qquad\\qquad\\qquad\\qquad\\qquad(나) \\\\\n",
    "                             & = \\lim_{n \\to \\infty} [1] \\left[\\frac{\\lambda^k}{k!}(1 - \\frac{\\lambda}{n})^n\\right] [1] \\\\\n",
    "                             & = \\frac{\\lambda^k}{k!} \\lim_{n \\to \\infty} (1 - \\frac{\\lambda}{n})^n \\\\\n",
    "                             & = \\frac{\\lambda^k}{k!} e^{- \\lambda}\n",
    "\\end{split}\n",
    "\\end{equation}\n",
    "$$\n"
   ]
  },
  {
   "cell_type": "code",
   "execution_count": null,
   "id": "7f10ac93",
   "metadata": {},
   "outputs": [],
   "source": []
  }
 ],
 "metadata": {
  "kernelspec": {
   "display_name": "Python 3 (ipykernel)",
   "language": "python",
   "name": "python3"
  },
  "language_info": {
   "codemirror_mode": {
    "name": "ipython",
    "version": 3
   },
   "file_extension": ".py",
   "mimetype": "text/x-python",
   "name": "python",
   "nbconvert_exporter": "python",
   "pygments_lexer": "ipython3",
   "version": "3.9.13"
  }
 },
 "nbformat": 4,
 "nbformat_minor": 5
}
