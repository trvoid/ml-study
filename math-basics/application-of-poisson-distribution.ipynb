{
 "cells": [
  {
   "cell_type": "markdown",
   "id": "2b21cea1",
   "metadata": {},
   "source": [
    "## 푸아송 분포 응용 사례\n",
    "\n",
    "* [[문학이 사랑한 통계⑬] 로저 멕시코와 함께하는 확률론 강의](https://www.sisaweek.com/news/articleView.html?idxno=117210), 2019.01.03, 시사위크\n",
    "  > 로저는 그녀에게 **V폭탄**의 통계에 대해 애써 설명했다. 천사의 눈에나 보일 영국 지도 안의 분포와 이 아래 인간의 눈에 보이는, 그들 자신이 살아남을 기회의 차이에 대해.\n",
    "    “그러나 이미 폭격을 몇 번이나 받은 곳도 있잖아. 그러니까-”\n",
    "    “미안하지만 그게 바로 몬테카를로 오류라는 거야. 특정한 지역에 얼마나 많이 떨어졌든 미래의 확률은 차이가 없어. 로켓들은 각자, 서로와 아무 관계없이 떨어져. 폭탄은 개가 아니야. 관계도 모르고, 기억도 없어. 적응이란 것도 없어.”\n",
    "    교과서의 푸아송 공식으로 예측되는 분포 그대로, 정말로 로켓들은 런던 전역에 떨어진다.\n",
    "    \n",
    "  > 런던 대공습에 나선 독일의 **폭격기** 조종사들은 과연 폭탄을 떨어트릴 때 분명한 목표물을 갖고 있었을까. 이 주제에 대해선 실제로 연구가 진행된 바 있다. 2차 세계대전 당시 영국 통계학자 **R.D.클라크**는 런던 남부를 576개(24*24) 구역으로 나누고, 각각의 구역에 떨어진 폭탄의 개수를 세는 방식으로 통계검정을 진행했다. 만약 독일 공군이 특별한 타깃 없이 무작위로 폭탄을 떨어트렸다면(평균확률밀도가 일정하다면) 구역별로 폭탄이 떨어진 횟수의 분포는 푸아송분포를 따를 것이다.\n",
    "\n",
    "위 글에서 다음 두 가지 사항이 맞는지 확인해 볼 필요가 있습니다.\n",
    "\n",
    "* 로저가 **V폭탄**의 통계에 대해 설명했다고 하는데 **V-1, V-2 로켓**과는 다른 **V폭탄**이 있었던 걸까? 폭탄과 로켓은 다르니까. (현대 무기 분류에 따르면 로켓이 아니라 미사일에 해당한다고 하지만 당시에 로켓이라고 불렀음)\n",
    "* **폭격기** 조종사들, 폭탄에 이어서 **R.D.클라크**의 연구를 언급했다. 그런데 **R.D.클라크**가 연구에 사용한 데이터가 런던 대공습 당시에 독일 공군이 투하한 폭탄이 떨어진 지점에 대한 것인지, 아니면 2차 대전 말기 독일이 개발해서 원거리에서 발사한 V-2 로켓이 떨어진 지점에 것인지?\n",
    "\n",
    "**V폭탄**이 있었는지부터 살펴 보겠습니다.\n",
    "\n",
    "* [V1(로켓)](https://namu.wiki/w/V1(%EB%A1%9C%EC%BC%93))\n",
    "  > Vergeltungswaffe 1(보복병기 1호)는 제2차 세계 대전 당시 나치 독일의 '피젤러'사에서 개발한 무기이다. 약자인 V-1, V1은 아돌프 히틀러가 선전 선동 목적으로 붙인 이름이다.\n",
    "  \n",
    "  > 당시에는 <font color='red'>**순항 미사일**이라는 개념이 없었기 때문에 '**비행폭탄**'이라고 불리기도 했다.</font> 폭탄(850kg)이 든 시가형 동체에 작은 날개와 펄스제트 엔진이 붙어있는 형태로, 세계 최초의 제트 추진 순항 미사일로 평가된다. 다만, 나온 시기가 시기이다 보니 앞에 작은 프로펠러를 달아 그것이 돌아간 숫자로 거리를 재서 목표 상공에서 연료 공급을 끊어 추락하는 방식이라 도시 정도 크기의 목표를 향한 무차별 폭격만이 가능했다.\n",
    "\n",
    "\"2차 대전 독일 **V폭탄**\"으로 검색하면 V-1(로켓)이 나오므로 V폭탄이란 모델이 따로 있었던 것은 아닌 것으로 보입니다. **V폭탄**이 V-1, V-2를 지칭한다고 하면 이것들을 만들었을 당시에 '비행폭탄'이라고 불렀으므로 폭탄이라는 용어를 쓰는 것이 틀렸다고 말하기는 어렵습니다.\n",
    "\n",
    "* [Poisson distribution](https://www.britannica.com/topic/Poisson-distribution), Britannica\n",
    "  > The Poisson distribution is now recognized as a vitally important distribution in its own right. For example, in 1946 the British statistician R.D. Clarke published “An Application of the Poisson Distribution,” in which he disclosed his analysis of the distribution of hits of **flying bombs (V-1 and V-2 missiles)** in London during World War II. Some areas were hit more often than others. The British military wished to know if the Germans were targeting these districts (the hits indicating great technical precision) or if the distribution was due to chance. <font color='red'>If the missiles were in fact only randomly targeted (within a more general area), the British could simply disperse important installations to decrease the likelihood of their being hit.</font>\n",
    "\n",
    "이제 위의 브리태니커 사전 내용을 보자면 두 가지 사항이 명확해 집니다.\n",
    "\n",
    "* **비행폭탄**이라고 쓰고 괄호 속에 **V-1, V-2 미사일**을 덧붙였습니다.\n",
    "* R.D.클라크가 연구한 데이터는 **V-1, V-2 미사일** 폭격 지점의 분포입니다.\n",
    "\n",
    "따라서 기사에서 발견된 오류는 다음과 같습니다.\n",
    "\n",
    "* **V폭탄** ==> V-1, V-2 로켓(미사일)과는 별개의 모델로 오인될 수 있으므로 V-1, V-2 로켓 또는 미사일로 표기하는 것이 바람직함.\n",
    "* 런던 대공습에 나선 독일의 **폭격기** 조종사들은 과연 폭탄을 떨어트릴 때 분명한 목표물을 갖고 있었을까. ==> 런던 대공습 시기도 아니고 폭격기에서 떨어트린 폭탄도 아니므로 \"2차 대전 말기 독일은 미사일 공격을 할 때 분명한 목표물을 갖고 있었을까\" 정도로 수정하는 것이 바람직함.\n",
    "\n",
    "### V2 로켓과 런던 폭격\n",
    "\n",
    "* [1944년 독일 V2 로켓 런던 공격](https://m.khan.co.kr/people/people-general/article/201109072143355#c2b), 2011.09.07, 경향신문\n",
    "  > 제2차 세계대전이 막바지를 향해 가던 1944년 9월8일. 영국 런던은 거대한 **미사일** 공격을 받았다.\n",
    "\n",
    "  > **V2**는 1945년 3월까지 총 3200여발이 발사됐다. 벨기에의 안트베르펜을 향해 1610발, 런던을 목표로 1358발이 집중 발사됐다. 그러나 유도장치가 정밀하지 못해 목표지점의 수㎞ 밖에 떨어지기도 했다. \n",
    "\n",
    "\n",
    "* [V2(로켓)](https://namu.wiki/w/V2(%EB%A1%9C%EC%BC%93)), 나무위키\n",
    "  ![](https://i.namu.wiki/i/G0lHdAgXXZGq8NhVtdR2FIhcCpIEEz2xSZpr16Lb67vxqtheQRxAkcDYrnDIh4113c8PpiWnpV76a2m1At89Yaf42WiZbpZRkHrbjub3EDB_ri_ItkBlFO0gL8znW83JBALel370weueumNohXGieA.webp)\n",
    "\n",
    "* [큰 수의 법칙](https://namu.wiki/w/%ED%81%B0%20%EC%88%98%EC%9D%98%20%EB%B2%95%EC%B9%99), 나무위키\n",
    "  > 때문에 책 <이공계의 뇌로 산다>에서 소개된 노벨경제학상 수상자 **대니얼 카너먼**은 우스갯소리로 이러한 불충분한 표본으로 잘못 만들어진 p 값으로 인한 '잘못된 큰 수의 법칙 적용 사례'를 두고 '작은 수의 법칙'이라고 얘기했다고 한다. 즉 실제 있는 법칙은 아니다. 또한 잘못된 p 값 예시로 V2의 런던폭격분포를 예로 들었다.\n",
    "  \n",
    "\n",
    "* [독일 V2로켓 영국 폭격 - 포아송 분포](https://statkclee.github.io/statistics/stat-flying-bomb-poisson.html)"
   ]
  },
  {
   "cell_type": "code",
   "execution_count": null,
   "id": "0f5334bc",
   "metadata": {},
   "outputs": [],
   "source": []
  }
 ],
 "metadata": {
  "kernelspec": {
   "display_name": "Python 3 (ipykernel)",
   "language": "python",
   "name": "python3"
  },
  "language_info": {
   "codemirror_mode": {
    "name": "ipython",
    "version": 3
   },
   "file_extension": ".py",
   "mimetype": "text/x-python",
   "name": "python",
   "nbconvert_exporter": "python",
   "pygments_lexer": "ipython3",
   "version": "3.9.13"
  }
 },
 "nbformat": 4,
 "nbformat_minor": 5
}
