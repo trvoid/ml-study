{
 "cells": [
  {
   "cell_type": "markdown",
   "id": "09390b6a",
   "metadata": {},
   "source": [
    "# 2장 파이썬 속성 강좌"
   ]
  },
  {
   "cell_type": "markdown",
   "id": "aff95c7b",
   "metadata": {},
   "source": [
    "## 2.2 기본기에서 한 걸음 나아가기\n",
    "\n",
    "### 2.2.7 함수형 도구"
   ]
  },
  {
   "cell_type": "code",
   "execution_count": 1,
   "id": "667018ae",
   "metadata": {},
   "outputs": [],
   "source": [
    "def exp(base, power):\n",
    "    return base ** power"
   ]
  },
  {
   "cell_type": "markdown",
   "id": "11a9dce6",
   "metadata": {},
   "source": [
    "밑을 2로 하는 지수 함수를 정의할 때 아래와 같이 <font color='red'>기존 함수를 호출</font>하는 방식으로 정의할 수 있습니다."
   ]
  },
  {
   "cell_type": "code",
   "execution_count": 2,
   "id": "48e53934",
   "metadata": {},
   "outputs": [],
   "source": [
    "def two_to_the_by_call(power):\n",
    "    return exp(2, power)"
   ]
  },
  {
   "cell_type": "markdown",
   "id": "b32914e1",
   "metadata": {},
   "source": [
    "또는 functools.partial을 이용하면 기존 함수의 특정 부분을 이용하여 <font color='red'>새로운 함수를 만드는 것</font>이 가능합니다."
   ]
  },
  {
   "cell_type": "code",
   "execution_count": 3,
   "id": "c87bde07",
   "metadata": {},
   "outputs": [
    {
     "name": "stdout",
     "output_type": "stream",
     "text": [
      "8\n"
     ]
    }
   ],
   "source": [
    "from functools import partial\n",
    "\n",
    "two_to_the_by_new = partial(exp, 2)\n",
    "print(two_to_the_by_new(3))"
   ]
  },
  {
   "cell_type": "markdown",
   "id": "3893e84d",
   "metadata": {},
   "source": [
    "`exp()` 함수를 수정하고 실행해 보면 호출 방식과 새로운 함수 생성 방식의 차이를 확인할 수 있습니다."
   ]
  },
  {
   "cell_type": "code",
   "execution_count": 4,
   "id": "b5e102e3",
   "metadata": {},
   "outputs": [
    {
     "name": "stdout",
     "output_type": "stream",
     "text": [
      "9\n",
      "8\n"
     ]
    }
   ],
   "source": [
    "def exp(base, power):\n",
    "    return base ** power + 1\n",
    "\n",
    "print(two_to_the_by_call(3))\n",
    "print(two_to_the_by_new(3))"
   ]
  },
  {
   "cell_type": "markdown",
   "id": "1ee85d48",
   "metadata": {},
   "source": [
    "# 4장 선형대수"
   ]
  },
  {
   "cell_type": "markdown",
   "id": "82f6160d",
   "metadata": {},
   "source": [
    "## 4.1 벡터"
   ]
  },
  {
   "cell_type": "code",
   "execution_count": 5,
   "id": "39cfd77b",
   "metadata": {},
   "outputs": [
    {
     "data": {
      "text/plain": [
       "[5, 7, 9]"
      ]
     },
     "execution_count": 5,
     "metadata": {},
     "output_type": "execute_result"
    }
   ],
   "source": [
    "v = [1, 2, 3]\n",
    "w = [4, 5, 6]\n",
    "\n",
    "def vector_add(v, w):\n",
    "    return [v_i + w_i for v_i, w_i in zip(v, w)]\n",
    "\n",
    "vector_add(v, w)"
   ]
  },
  {
   "cell_type": "code",
   "execution_count": 6,
   "id": "3dda4f1e",
   "metadata": {},
   "outputs": [
    {
     "data": {
      "text/plain": [
       "[-3, -3, -3]"
      ]
     },
     "execution_count": 6,
     "metadata": {},
     "output_type": "execute_result"
    }
   ],
   "source": [
    "def vector_subtract(v, w):\n",
    "    return [v_i - w_i for v_i, w_i in zip(v, w)]\n",
    "\n",
    "vector_subtract(v, w)"
   ]
  },
  {
   "cell_type": "code",
   "execution_count": 7,
   "id": "12037a3b",
   "metadata": {},
   "outputs": [
    {
     "data": {
      "text/plain": [
       "[5, 7, 9]"
      ]
     },
     "execution_count": 7,
     "metadata": {},
     "output_type": "execute_result"
    }
   ],
   "source": [
    "from functools import reduce\n",
    "\n",
    "def vector_sum(vectors):\n",
    "    return reduce(vector_add, vectors)\n",
    "    \n",
    "vector_sum([v, w])"
   ]
  },
  {
   "cell_type": "code",
   "execution_count": 8,
   "id": "93711826",
   "metadata": {},
   "outputs": [
    {
     "data": {
      "text/plain": [
       "[5, 7, 9]"
      ]
     },
     "execution_count": 8,
     "metadata": {},
     "output_type": "execute_result"
    }
   ],
   "source": [
    "from functools import partial\n",
    "\n",
    "vector_sum = partial(reduce, vector_add)\n",
    "\n",
    "vector_sum([v, w])"
   ]
  },
  {
   "cell_type": "code",
   "execution_count": 9,
   "id": "da62baf3",
   "metadata": {},
   "outputs": [],
   "source": [
    "def scalar_multiply(c, v):\n",
    "    return [c * v_i for v_i in v]"
   ]
  },
  {
   "cell_type": "code",
   "execution_count": 10,
   "id": "562c7ac1",
   "metadata": {},
   "outputs": [
    {
     "data": {
      "text/plain": [
       "[2.5, 3.5, 4.5]"
      ]
     },
     "execution_count": 10,
     "metadata": {},
     "output_type": "execute_result"
    }
   ],
   "source": [
    "def vector_mean(vectors):\n",
    "    return scalar_multiply(1/len(vectors), vector_sum(vectors))\n",
    "\n",
    "vector_mean([v, w])"
   ]
  },
  {
   "cell_type": "code",
   "execution_count": 11,
   "id": "ebc4a9f5",
   "metadata": {},
   "outputs": [
    {
     "data": {
      "text/plain": [
       "32"
      ]
     },
     "execution_count": 11,
     "metadata": {},
     "output_type": "execute_result"
    }
   ],
   "source": [
    "v1 = [1, 2, 3]\n",
    "v2 = [4, 5, 6]\n",
    "\n",
    "def dot(v, w):\n",
    "    return sum(v_i * w_i for v_i, w_i in zip(v, w))\n",
    "\n",
    "dot(v1, v2)"
   ]
  },
  {
   "cell_type": "code",
   "execution_count": 12,
   "id": "e82326f6",
   "metadata": {},
   "outputs": [],
   "source": [
    "def sum_of_squares(v):\n",
    "    return dot(v, v)\n",
    "\n",
    "import math\n",
    "\n",
    "def magnitude(v):\n",
    "    return math.sqrt(dot(v, v))"
   ]
  },
  {
   "cell_type": "code",
   "execution_count": 13,
   "id": "85bf81f4",
   "metadata": {},
   "outputs": [],
   "source": [
    "def distance(v, w):\n",
    "    return magnitude(vector_subtract(v, w))"
   ]
  },
  {
   "cell_type": "markdown",
   "id": "dc8486b5",
   "metadata": {},
   "source": [
    "## 4.2 행렬"
   ]
  },
  {
   "cell_type": "code",
   "execution_count": 14,
   "id": "f5baee24",
   "metadata": {},
   "outputs": [],
   "source": [
    "A = [[1, 2, 3],\n",
    "     [4, 5, 6]]"
   ]
  },
  {
   "cell_type": "code",
   "execution_count": 15,
   "id": "a3f56ee5",
   "metadata": {},
   "outputs": [],
   "source": [
    "def shape(A):\n",
    "    num_rows = len(A)\n",
    "    num_cols = len(A[0]) if A else 0\n",
    "    return num_rows, num_cols"
   ]
  },
  {
   "cell_type": "code",
   "execution_count": 16,
   "id": "77eeff83",
   "metadata": {},
   "outputs": [],
   "source": [
    "def get_row(A, i):\n",
    "    return A[i]\n",
    "\n",
    "def get_column(A, j):\n",
    "    return [A_i[j] for A_i in A]"
   ]
  },
  {
   "cell_type": "code",
   "execution_count": 17,
   "id": "7dbe6e39",
   "metadata": {},
   "outputs": [],
   "source": [
    "def make_matrix(num_rows, num_cols, entry_fn):\n",
    "    [\n",
    "        [entry_fn(i, j) for j in range(num_cols)] \n",
    "        for i in range(num_rows)\n",
    "    ]"
   ]
  },
  {
   "cell_type": "markdown",
   "id": "14394093",
   "metadata": {},
   "source": [
    "# 5장 통계"
   ]
  },
  {
   "cell_type": "markdown",
   "id": "0f17933f",
   "metadata": {},
   "source": [
    "## 5.1 데이터셋 설명하기"
   ]
  },
  {
   "cell_type": "markdown",
   "id": "1ca9726c",
   "metadata": {},
   "source": [
    "### 5.1.1 중심 경향성"
   ]
  },
  {
   "cell_type": "code",
   "execution_count": 18,
   "id": "524056db",
   "metadata": {},
   "outputs": [],
   "source": [
    "num_friends = [100, 49, 41, 40, 25]"
   ]
  },
  {
   "cell_type": "code",
   "execution_count": 19,
   "id": "c27cedaa",
   "metadata": {},
   "outputs": [
    {
     "data": {
      "text/plain": [
       "51.0"
      ]
     },
     "execution_count": 19,
     "metadata": {},
     "output_type": "execute_result"
    }
   ],
   "source": [
    "def mean(x):\n",
    "    return sum(x) / len(x)\n",
    "\n",
    "mean(num_friends)"
   ]
  },
  {
   "cell_type": "markdown",
   "id": "72839132",
   "metadata": {},
   "source": [
    "### 5.1.2 산포도"
   ]
  },
  {
   "cell_type": "code",
   "execution_count": 20,
   "id": "af2c45e0",
   "metadata": {},
   "outputs": [
    {
     "data": {
      "text/plain": [
       "[49.0, -2.0, -10.0, -11.0, -26.0]"
      ]
     },
     "execution_count": 20,
     "metadata": {},
     "output_type": "execute_result"
    }
   ],
   "source": [
    "def de_mean(x):\n",
    "    x_bar = mean(x)\n",
    "    return [x_i - x_bar for x_i in x]\n",
    "\n",
    "de_mean(num_friends)"
   ]
  },
  {
   "cell_type": "code",
   "execution_count": 21,
   "id": "45fdebc8",
   "metadata": {},
   "outputs": [
    {
     "data": {
      "text/plain": [
       "660.4"
      ]
     },
     "execution_count": 21,
     "metadata": {},
     "output_type": "execute_result"
    }
   ],
   "source": [
    "def variance(x):\n",
    "    n = len(x)\n",
    "    deviations = de_mean(x)\n",
    "    return sum([x_i * x_i for x_i in de_mean(x)]) / len(x)\n",
    "\n",
    "variance(num_friends)"
   ]
  },
  {
   "cell_type": "code",
   "execution_count": 22,
   "id": "df983f7b",
   "metadata": {},
   "outputs": [
    {
     "data": {
      "text/plain": [
       "25.69824896758532"
      ]
     },
     "execution_count": 22,
     "metadata": {},
     "output_type": "execute_result"
    }
   ],
   "source": [
    "import math\n",
    "\n",
    "def standard_deviation(x):\n",
    "    return math.sqrt(variance(x))\n",
    "    \n",
    "standard_deviation(num_friends)"
   ]
  },
  {
   "cell_type": "markdown",
   "id": "e0b9a72f",
   "metadata": {},
   "source": [
    "# 8장 경사 하강법\n",
    "\n",
    "## 8.1 경사 하강법에 숨은 의미\n",
    "\n",
    "## 8.2 Gradient 계산하기"
   ]
  },
  {
   "cell_type": "code",
   "execution_count": 30,
   "id": "8e183185",
   "metadata": {},
   "outputs": [],
   "source": [
    "def difference_quotient(f, x, h):\n",
    "    return (f(x+h) - f(x)) / h"
   ]
  },
  {
   "cell_type": "code",
   "execution_count": 31,
   "id": "e79a0058",
   "metadata": {},
   "outputs": [],
   "source": [
    "def square(x):\n",
    "    return x * x\n",
    "\n",
    "def derivative(x):\n",
    "    return 2 * x"
   ]
  },
  {
   "cell_type": "code",
   "execution_count": 32,
   "id": "a8ba282b",
   "metadata": {},
   "outputs": [],
   "source": [
    "derivative_estimate = lambda x: difference_quotient(square, x, h=0.00001)"
   ]
  },
  {
   "cell_type": "code",
   "execution_count": 35,
   "id": "480e9a4a",
   "metadata": {},
   "outputs": [
    {
     "data": {
      "image/png": "[encoded data removed]",
      "text/plain": [
       "<Figure size 640x480 with 1 Axes>"
      ]
     },
     "metadata": {},
     "output_type": "display_data"
    }
   ],
   "source": [
    "import matplotlib.pyplot as plt\n",
    "\n",
    "x = range(-10, 10)\n",
    "y = list(map(derivative, x))\n",
    "y_estimate = list(map(derivative_estimate, x))\n",
    "\n",
    "plt.title('Actual Derivatives vs. Estimates')\n",
    "plt.plot(x, y, 'rx', label='Actual')\n",
    "plt.plot(x, y_estimate, 'b+', label='Estimate')\n",
    "plt.legend(loc=9)\n",
    "plt.show()"
   ]
  },
  {
   "cell_type": "markdown",
   "id": "de470d16",
   "metadata": {},
   "source": [
    "다변수 함수에 대한 편도함수를 구합니다."
   ]
  },
  {
   "cell_type": "code",
   "execution_count": 44,
   "id": "1a5a57da",
   "metadata": {},
   "outputs": [
    {
     "name": "stdout",
     "output_type": "stream",
     "text": [
      "[-2, -2, -4]\n",
      "[0] -3.999990000025377\n",
      "[1] -3.999990000025377\n",
      "[2] -7.999990000229217\n"
     ]
    }
   ],
   "source": [
    "def partial_difference_quotient(f, v, i, h=0.00001):\n",
    "    w = [v_j + (h if i == j else 0) for j, v_j in enumerate(v)]\n",
    "    \n",
    "    return (f(w) - f(v)) / h\n",
    "\n",
    "v = [random.randint(-10, 10) for i in range(3)]\n",
    "print(v)\n",
    "for i in range(len(v)):\n",
    "    result = partial_difference_quotient(sum_of_squares, v, i)\n",
    "    print(f'{[i]} {result}')"
   ]
  },
  {
   "cell_type": "code",
   "execution_count": 46,
   "id": "aead4200",
   "metadata": {},
   "outputs": [
    {
     "name": "stdout",
     "output_type": "stream",
     "text": [
      "[-3.999990000025377, -3.999990000025377, -7.999990000229217]\n"
     ]
    }
   ],
   "source": [
    "def estimate_gradient(f, v, h=0.00001):\n",
    "    return [partial_difference_quotient(f, v, i, h) for i, _ in enumerate(v)]\n",
    "\n",
    "result = estimate_gradient(sum_of_squares, v)\n",
    "print(result)"
   ]
  },
  {
   "cell_type": "markdown",
   "id": "2edc0cd1",
   "metadata": {},
   "source": [
    "## 8.3 Gradient 적용하기\n",
    "\n",
    "경사하강법을 이용해서 3차원 벡터의 최솟값을 구해 봅니다."
   ]
  },
  {
   "cell_type": "code",
   "execution_count": 29,
   "id": "d9222357",
   "metadata": {},
   "outputs": [
    {
     "name": "stdout",
     "output_type": "stream",
     "text": [
      "[3.5544203636441233e-06, -2.6658152727330933e-06, -2.2215127272775794e-06]\n"
     ]
    }
   ],
   "source": [
    "import random\n",
    "\n",
    "def step(v, direction, step_size):\n",
    "    return [v_i + step_size * direction_i for v_i, direction_i in zip(v, direction)]\n",
    "\n",
    "def sum_of_squares_gradient(v):\n",
    "    return [2 * v_i for v_i in v]\n",
    "\n",
    "v = [random.randint(-10, 10) for i in range(3)]\n",
    "\n",
    "tolerance = 0.0000001\n",
    "\n",
    "while True:\n",
    "    gradient = sum_of_squares_gradient(v)\n",
    "    next_v = step(v, gradient, -0.01)\n",
    "    if distance(next_v, v) < tolerance:\n",
    "        break\n",
    "    v = next_v\n",
    "    \n",
    "print(v)"
   ]
  },
  {
   "cell_type": "markdown",
   "id": "17d8e28c",
   "metadata": {},
   "source": [
    "## 8.4 적절한 이동 거리 정하기"
   ]
  },
  {
   "cell_type": "code",
   "execution_count": 24,
   "id": "72ad0f2d",
   "metadata": {},
   "outputs": [],
   "source": [
    "step_sizes = [100, 10, 1, 0.1, 0.01, 0.001, 0.0001, 0.00001]\n",
    "\n",
    "def safe(f):\n",
    "    def safe_f(*args, **kwargs):\n",
    "        try:\n",
    "            return f(*args, **kwargs)\n",
    "        except:\n",
    "            return float('inf')\n",
    "    \n",
    "    return safe_f"
   ]
  },
  {
   "cell_type": "markdown",
   "id": "b051d928",
   "metadata": {},
   "source": [
    "## 8.5 종합하기"
   ]
  },
  {
   "cell_type": "markdown",
   "id": "9d08145b",
   "metadata": {},
   "source": [
    "모든 데이터에 대하여 함수를 최소화합니다."
   ]
  },
  {
   "cell_type": "code",
   "execution_count": 25,
   "id": "ea96776e",
   "metadata": {},
   "outputs": [],
   "source": [
    "def minimize_batch(target_fn, gradient_fn, theta_0, tolerance=0.000001):\n",
    "    step_sizes = [100, 10, 1, 0.1, 0.01, 0.001, 0.0001, 0.00001]\n",
    "    \n",
    "    theta = theta_0\n",
    "    target_fn = safe(target_fn)\n",
    "    value = target_fn(theta)\n",
    "    \n",
    "    while True:\n",
    "        gradient = gradient_fn(theta)\n",
    "        next_thetas = [step(theta, gradient, -step_size) for step_size in step_sizes]\n",
    "        \n",
    "        next_theta = min(next_thetas, key=target_fn)\n",
    "        next_value = target_fn(next_theta)\n",
    "        \n",
    "        if abs(value - next_value) < tolerance:\n",
    "            return theta\n",
    "        else:\n",
    "            theta, value = next_theta, next_value"
   ]
  },
  {
   "cell_type": "markdown",
   "id": "32f5d92a",
   "metadata": {},
   "source": [
    "모든 데이터에 대하여 함수를 최대화 할 때는 목적 함수의 음수값을 최소화하면 됩니다. 결과적으로 gradient도 음수값입니다."
   ]
  },
  {
   "cell_type": "code",
   "execution_count": 27,
   "id": "8d9c654d",
   "metadata": {},
   "outputs": [],
   "source": [
    "def negate(f):\n",
    "    return lambda *args, **kwargs: -f(*args, **kwargs)\n",
    "\n",
    "def negate_all(f):\n",
    "    return lambda *args, **kwargs: [-y for y in f(*args, **kwargs)]"
   ]
  },
  {
   "cell_type": "code",
   "execution_count": 47,
   "id": "00f8553b",
   "metadata": {},
   "outputs": [],
   "source": [
    "def maximize_batch(target_fn, gradient_fn, theta_0, tolerance=0.000001):\n",
    "    return minimize_batch(negate(target_fn), negate_all(gradient_fn), theta_0, tolerance)"
   ]
  },
  {
   "cell_type": "markdown",
   "id": "828789f3",
   "metadata": {},
   "source": [
    "## 8.6 SGD(stochastic gradient descent)"
   ]
  },
  {
   "cell_type": "code",
   "execution_count": 48,
   "id": "91c2a877",
   "metadata": {},
   "outputs": [],
   "source": [
    "def in_random_order(data):\n",
    "    indices = [i for i, _ in enumerate(data)]\n",
    "    random.shuffle(indices)\n",
    "    for i in indices:\n",
    "        yield data[i]"
   ]
  },
  {
   "cell_type": "code",
   "execution_count": 50,
   "id": "9d5759b0",
   "metadata": {},
   "outputs": [
    {
     "name": "stdout",
     "output_type": "stream",
     "text": [
      "77\n",
      "11\n",
      "88\n",
      "66\n",
      "99\n",
      "33\n",
      "22\n",
      "55\n",
      "44\n"
     ]
    }
   ],
   "source": [
    "test_x = [11, 22, 33, 44, 55, 66, 77, 88, 99]\n",
    "for x_i in in_random_order(test_x):\n",
    "    print(x_i)"
   ]
  },
  {
   "cell_type": "code",
   "execution_count": 56,
   "id": "290f4bf3",
   "metadata": {},
   "outputs": [
    {
     "name": "stdout",
     "output_type": "stream",
     "text": [
      "[0] 22\n",
      "[0] 33\n",
      "[0] 11\n",
      "[0] 88\n",
      "[0] 66\n",
      "[0] 77\n",
      "[0] 55\n",
      "[0] 99\n",
      "[0] 44\n",
      "[1] 11\n",
      "[1] 66\n",
      "[1] 44\n",
      "[1] 88\n",
      "[1] 33\n",
      "[1] 77\n",
      "[1] 99\n",
      "[1] 22\n",
      "[1] 55\n"
     ]
    }
   ],
   "source": [
    "for i in range(2):\n",
    "    for x_i in in_random_order(test_x):\n",
    "        print(f'[{i}] {x_i}')"
   ]
  },
  {
   "cell_type": "code",
   "execution_count": 49,
   "id": "646d0b28",
   "metadata": {},
   "outputs": [],
   "source": [
    "def minimize_stochastic(target_fn, gradient_fn, x, y, theta_0, alpha_0=0.01):\n",
    "    data = zip(x, y)\n",
    "    theta = theta_0\n",
    "    alpha = alpha_0\n",
    "    min_theta, min_value = None, float('inf')\n",
    "    iterations_with_no_improvement = 0\n",
    "    \n",
    "    while iterations_with_no_improvement < 100:\n",
    "        value = sum(target_fn(x_i, y_i, theta) for x_i, y_i in data)\n",
    "        \n",
    "        if value < min_value:\n",
    "            min_theta, min_value = theta, value\n",
    "            iterations_with_no_improvement = 0\n",
    "            alpha = alpha_0\n",
    "        else:\n",
    "            iterations_with_no_improvement += 1\n",
    "            alpha *= 0.9\n",
    "            \n",
    "        for x_i, y_i in in_random_order(data):\n",
    "            gradient_i = gradient_fn(x_i, y_i, theta)\n",
    "            theta = vector_subtract(theta, scalar_multiply(alpha, gradient_i))\n",
    "            \n",
    "    return min_theta"
   ]
  },
  {
   "cell_type": "code",
   "execution_count": 57,
   "id": "9c71e630",
   "metadata": {},
   "outputs": [],
   "source": [
    "def maximize_stochastic(target_fn, gradient_fn, x, y, theta_0, alpha_0=0.01):\n",
    "    return minimize_stochastic(negate(target_fn), negate_all(gradient_fn), x, y, theta_0, alpha_0)"
   ]
  },
  {
   "cell_type": "markdown",
   "id": "eb154048",
   "metadata": {},
   "source": [
    "# 10장 데이터 다루기"
   ]
  },
  {
   "cell_type": "markdown",
   "id": "e98f0d24",
   "metadata": {},
   "source": [
    "## 10.1 데이터 탐색하기"
   ]
  },
  {
   "cell_type": "markdown",
   "id": "306ee54d",
   "metadata": {},
   "source": [
    "## 10.4 척도 조절"
   ]
  },
  {
   "cell_type": "code",
   "execution_count": null,
   "id": "5491758a",
   "metadata": {},
   "outputs": [],
   "source": [
    "# 각 열의 평균과 표준편차를 반환\n",
    "def scale(data_matrix):\n",
    "    num_rows, num_cols = shape(data_matrix)\n",
    "    means = [mean(get_column(data_matrix, j)) for j in range(num_cols)]\n",
    "    stdevs = [standard_devication(get_column(data_matrix, j)) for j in range(num_cols)]\n",
    "    return means, stdevs"
   ]
  },
  {
   "cell_type": "markdown",
   "id": "e75d59d0",
   "metadata": {},
   "source": [
    "## 10.5 차원 축소"
   ]
  },
  {
   "cell_type": "code",
   "execution_count": null,
   "id": "40649790",
   "metadata": {},
   "outputs": [],
   "source": [
    "def de_mean_matrix(A):\n",
    "    nr, nc = shape(A)\n",
    "    column_means, _ = scale(A)\n",
    "    return make_matrix(nr, nc, lambda i, j: A[i][j] - column_means[j])"
   ]
  },
  {
   "cell_type": "code",
   "execution_count": null,
   "id": "a0d9105e",
   "metadata": {},
   "outputs": [],
   "source": [
    "def direction(w):\n",
    "    mag = magnitude(w)\n",
    "    return [w_i / mag for w_i in w]"
   ]
  },
  {
   "cell_type": "code",
   "execution_count": null,
   "id": "06396444",
   "metadata": {},
   "outputs": [],
   "source": [
    "def directional_variance_i(x_i, w):\n",
    "    return dot(x_i, w) ** 2\n",
    "\n",
    "def directional_variance(X, w):\n",
    "    return sum(directional_variance_i(x_i, w) for x_i in X)"
   ]
  },
  {
   "cell_type": "code",
   "execution_count": null,
   "id": "88590c40",
   "metadata": {},
   "outputs": [],
   "source": []
  }
 ],
 "metadata": {
  "kernelspec": {
   "display_name": "Python 3 (ipykernel)",
   "language": "python",
   "name": "python3"
  },
  "language_info": {
   "codemirror_mode": {
    "name": "ipython",
    "version": 3
   },
   "file_extension": ".py",
   "mimetype": "text/x-python",
   "name": "python",
   "nbconvert_exporter": "python",
   "pygments_lexer": "ipython3",
   "version": "3.9.13"
  }
 },
 "nbformat": 4,
 "nbformat_minor": 5
}
