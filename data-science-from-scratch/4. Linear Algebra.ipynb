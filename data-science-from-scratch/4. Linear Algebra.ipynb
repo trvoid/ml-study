{
 "cells": [
  {
   "cell_type": "markdown",
   "id": "e9ba402d",
   "metadata": {},
   "source": [
    "# 4장 선형대수"
   ]
  },
  {
   "cell_type": "markdown",
   "id": "6648d1f9",
   "metadata": {},
   "source": [
    "## 14.2 행렬"
   ]
  },
  {
   "cell_type": "code",
   "execution_count": 4,
   "id": "6177401b",
   "metadata": {},
   "outputs": [],
   "source": [
    "A = [[1, 2, 3],\n",
    "     [4, 5, 6]]"
   ]
  },
  {
   "cell_type": "code",
   "execution_count": 5,
   "id": "2a1ac326",
   "metadata": {},
   "outputs": [],
   "source": [
    "def shape(A):\n",
    "    num_rows = len(A)\n",
    "    num_cols = len(A[0]) if A else 0\n",
    "    return num_rows, num_cols"
   ]
  },
  {
   "cell_type": "code",
   "execution_count": 6,
   "id": "46848423",
   "metadata": {},
   "outputs": [],
   "source": [
    "def make_matrix(num_rows, num_cols, entry_fn):\n",
    "    [\n",
    "        [entry_fn(i, j) for j in range(num_cols)] \n",
    "        for i in range(num_rows)\n",
    "    ]"
   ]
  },
  {
   "cell_type": "code",
   "execution_count": null,
   "id": "b13357d5",
   "metadata": {},
   "outputs": [],
   "source": []
  }
 ],
 "metadata": {
  "kernelspec": {
   "display_name": "Python 3 (ipykernel)",
   "language": "python",
   "name": "python3"
  },
  "language_info": {
   "codemirror_mode": {
    "name": "ipython",
    "version": 3
   },
   "file_extension": ".py",
   "mimetype": "text/x-python",
   "name": "python",
   "nbconvert_exporter": "python",
   "pygments_lexer": "ipython3",
   "version": "3.9.13"
  }
 },
 "nbformat": 4,
 "nbformat_minor": 5
}
