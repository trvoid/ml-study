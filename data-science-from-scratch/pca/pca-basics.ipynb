{
 "cells": [
  {
   "cell_type": "markdown",
   "id": "b83f54ee",
   "metadata": {},
   "source": [
    "# PCA 기본 개념 익히기\n",
    "\n",
    "PCA 기본 개념을 익히기 위하여 아래 책을 보며 실습한 노트북입니다.\n",
    "\n",
    "* \"밑바닥부터 시작하는 데이터 과학\", 조엘 그루스 지음\n",
    "  * 10장 데이터 다루기\n",
    "    * 10.5 차원 축소"
   ]
  },
  {
   "cell_type": "code",
   "execution_count": null,
   "id": "5501a6e3",
   "metadata": {},
   "outputs": [],
   "source": []
  }
 ],
 "metadata": {
  "kernelspec": {
   "display_name": "Python 3 (ipykernel)",
   "language": "python",
   "name": "python3"
  },
  "language_info": {
   "codemirror_mode": {
    "name": "ipython",
    "version": 3
   },
   "file_extension": ".py",
   "mimetype": "text/x-python",
   "name": "python",
   "nbconvert_exporter": "python",
   "pygments_lexer": "ipython3",
   "version": "3.9.13"
  }
 },
 "nbformat": 4,
 "nbformat_minor": 5
}
