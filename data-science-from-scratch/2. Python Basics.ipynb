{
 "cells": [
  {
   "cell_type": "markdown",
   "id": "09390b6a",
   "metadata": {},
   "source": [
    "# 2장 파이썬 속성 강좌"
   ]
  },
  {
   "cell_type": "markdown",
   "id": "aff95c7b",
   "metadata": {},
   "source": [
    "## 2.2 기본기에서 한 걸음 나아가기\n",
    "\n",
    "### 2.2.7 함수형 도구"
   ]
  },
  {
   "cell_type": "code",
   "execution_count": 5,
   "id": "667018ae",
   "metadata": {},
   "outputs": [],
   "source": [
    "def exp(base, power):\n",
    "    return base ** power"
   ]
  },
  {
   "cell_type": "markdown",
   "id": "11a9dce6",
   "metadata": {},
   "source": [
    "밑을 2로 하는 지수 함수를 정의할 때 아래와 같이 <font color='red'>기존 함수를 호출</font>하는 방식으로 정의할 수 있습니다."
   ]
  },
  {
   "cell_type": "code",
   "execution_count": 6,
   "id": "48e53934",
   "metadata": {},
   "outputs": [],
   "source": [
    "def two_to_the_by_call(power):\n",
    "    return exp(2, power)"
   ]
  },
  {
   "cell_type": "markdown",
   "id": "b32914e1",
   "metadata": {},
   "source": [
    "또는 functools.partial을 이용하면 기존 함수의 특정 부분을 이용하여 <font color='red'>새로운 함수를 만드는 것</font>이 가능합니다."
   ]
  },
  {
   "cell_type": "code",
   "execution_count": 7,
   "id": "c87bde07",
   "metadata": {},
   "outputs": [
    {
     "name": "stdout",
     "output_type": "stream",
     "text": [
      "8\n"
     ]
    }
   ],
   "source": [
    "from functools import partial\n",
    "\n",
    "two_to_the_by_new = partial(exp, 2)\n",
    "print(two_to_the_by_new(3))"
   ]
  },
  {
   "cell_type": "markdown",
   "id": "3893e84d",
   "metadata": {},
   "source": [
    "`exp()` 함수를 수정하고 실행해 보면 호출 방식과 새로운 함수 생성 방식의 차이를 확인할 수 있습니다."
   ]
  },
  {
   "cell_type": "code",
   "execution_count": 8,
   "id": "b5e102e3",
   "metadata": {},
   "outputs": [
    {
     "name": "stdout",
     "output_type": "stream",
     "text": [
      "9\n",
      "8\n"
     ]
    }
   ],
   "source": [
    "def exp(base, power):\n",
    "    return base ** power + 1\n",
    "\n",
    "print(two_to_the_by_call(3))\n",
    "print(two_to_the_by_new(3))"
   ]
  },
  {
   "cell_type": "code",
   "execution_count": null,
   "id": "7d7d9856",
   "metadata": {},
   "outputs": [],
   "source": []
  }
 ],
 "metadata": {
  "kernelspec": {
   "display_name": "Python 3 (ipykernel)",
   "language": "python",
   "name": "python3"
  },
  "language_info": {
   "codemirror_mode": {
    "name": "ipython",
    "version": 3
   },
   "file_extension": ".py",
   "mimetype": "text/x-python",
   "name": "python",
   "nbconvert_exporter": "python",
   "pygments_lexer": "ipython3",
   "version": "3.9.13"
  }
 },
 "nbformat": 4,
 "nbformat_minor": 5
}
