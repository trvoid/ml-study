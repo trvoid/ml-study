{
 "cells": [
  {
   "cell_type": "markdown",
   "id": "7191facf",
   "metadata": {},
   "source": [
    "# 상품 기반 협업 필터링\n",
    "\n",
    "## 참고 자료\n",
    "\n",
    "* [Item-based Collaborative Filtering : Build Your own Recommender System!](https://www.analyticsvidhya.com/blog/2021/05/item-based-collaborative-filtering-build-your-own-recommender-system/), Saumyab271, 2023.11.08\n",
    "\n",
    "## 준비\n",
    "\n",
    "### 라이브러리"
   ]
  },
  {
   "cell_type": "code",
   "execution_count": 1,
   "id": "cae9fd58",
   "metadata": {},
   "outputs": [],
   "source": [
    "import pandas as pd\n",
    "import numpy as np\n",
    "from scipy.sparse import csr_matrix\n",
    "from sklearn.neighbors import NearestNeighbors\n",
    "import matplotlib.pyplot as plt\n",
    "import seaborn as sns"
   ]
  },
  {
   "cell_type": "markdown",
   "id": "835c156a",
   "metadata": {},
   "source": [
    "### 데이터 세트\n",
    "\n",
    "* [MovieLens 100K Dataset](https://grouplens.org/datasets/movielens/100k/)"
   ]
  },
  {
   "cell_type": "code",
   "execution_count": 2,
   "id": "05a99bd5",
   "metadata": {},
   "outputs": [
    {
     "name": "stdout",
     "output_type": "stream",
     "text": [
      "   user_id  item_id  rating  timestamp\n",
      "0      196      242       3  881250949\n",
      "1      186      302       3  891717742\n",
      "2       22      377       1  878887116\n",
      "3      244       51       2  880606923\n",
      "4      166      346       1  886397596\n"
     ]
    }
   ],
   "source": [
    "header = ['user_id', 'item_id', 'rating', 'timestamp']\n",
    "dataset = pd.read_csv('u.data', sep = '\\t', names = header)\n",
    "print(dataset.head())"
   ]
  },
  {
   "cell_type": "code",
   "execution_count": 18,
   "id": "e19c20a7",
   "metadata": {},
   "outputs": [
    {
     "name": "stdout",
     "output_type": "stream",
     "text": [
      "   movie_id        movie_title\n",
      "0         1   Toy Story (1995)\n",
      "1         2   GoldenEye (1995)\n",
      "2         3  Four Rooms (1995)\n",
      "3         4  Get Shorty (1995)\n",
      "4         5     Copycat (1995)\n"
     ]
    }
   ],
   "source": [
    "item_header = ['movie_id', 'movie_title']\n",
    "item_dataset = pd.read_csv('u.item', sep = '|', header=None)\n",
    "item_dataset = item_dataset.iloc[:, 0:2]\n",
    "item_dataset.set_axis(item_header, axis=1, inplace=True)\n",
    "print(item_dataset.head())"
   ]
  },
  {
   "cell_type": "markdown",
   "id": "20d302f0",
   "metadata": {},
   "source": [
    "## 사용자-영화 평가 테이블 만들기"
   ]
  },
  {
   "cell_type": "code",
   "execution_count": 3,
   "id": "12b0fe10",
   "metadata": {},
   "outputs": [
    {
     "name": "stdout",
     "output_type": "stream",
     "text": [
      "n_users:  943\n",
      "n_items:  1682\n",
      "Original rating matrix :  [[5. 3. 4. ... 0. 0. 0.]\n",
      " [4. 0. 0. ... 0. 0. 0.]\n",
      " [0. 0. 0. ... 0. 0. 0.]\n",
      " ...\n",
      " [5. 0. 0. ... 0. 0. 0.]\n",
      " [0. 0. 0. ... 0. 0. 0.]\n",
      " [0. 5. 0. ... 0. 0. 0.]]\n"
     ]
    }
   ],
   "source": [
    "n_users = dataset.user_id.unique().shape[0]\n",
    "n_items = dataset.item_id.unique().shape[0]\n",
    "n_items = dataset['item_id'].max()\n",
    "A = np.zeros((n_users,n_items))\n",
    "for line in dataset.itertuples():\n",
    "    A[line[1]-1,line[2]-1] = line[3]\n",
    "    \n",
    "print('n_users: ', n_users)\n",
    "print('n_items: ', n_items)\n",
    "print(\"Original rating matrix : \",A)"
   ]
  },
  {
   "cell_type": "markdown",
   "id": "1fd6320c",
   "metadata": {},
   "source": [
    "### 이진 평가로 대체"
   ]
  },
  {
   "cell_type": "code",
   "execution_count": 4,
   "id": "e3ffd67f",
   "metadata": {},
   "outputs": [
    {
     "name": "stdout",
     "output_type": "stream",
     "text": [
      "[[1. 1. 1. ... 0. 0. 0.]\n",
      " [1. 0. 0. ... 0. 0. 0.]\n",
      " [0. 0. 0. ... 0. 0. 0.]\n",
      " ...\n",
      " [1. 0. 0. ... 0. 0. 0.]\n",
      " [0. 0. 0. ... 0. 0. 0.]\n",
      " [0. 1. 0. ... 0. 0. 0.]]\n",
      "[1. 1. 1. 1. 1. 1. 1. 0. 1. 1. 0. 1. 1. 1. 1. 1. 1. 1. 1. 1.]\n"
     ]
    }
   ],
   "source": [
    "for i in range(len(A)):\n",
    "  for j in range(len(A[0])):\n",
    "    if A[i][j]>=3:\n",
    "      A[i][j]=1\n",
    "    else:\n",
    "      A[i][j]=0\n",
    "\n",
    "print(A)\n",
    "print(A[0, 0:20])"
   ]
  },
  {
   "cell_type": "code",
   "execution_count": 39,
   "id": "a26b414b",
   "metadata": {},
   "outputs": [
    {
     "name": "stdout",
     "output_type": "stream",
     "text": [
      "(943, 1682)\n"
     ]
    }
   ],
   "source": [
    "csr_sample = csr_matrix(A)\n",
    "print(csr_sample.shape)"
   ]
  },
  {
   "cell_type": "markdown",
   "id": "6eafd915",
   "metadata": {},
   "source": [
    "## 유사도 계산"
   ]
  },
  {
   "cell_type": "code",
   "execution_count": 6,
   "id": "0116bfcb",
   "metadata": {},
   "outputs": [
    {
     "data": {
      "text/plain": [
       "NearestNeighbors(algorithm='brute', metric='cosine', n_jobs=-1, n_neighbors=3)"
      ]
     },
     "execution_count": 6,
     "metadata": {},
     "output_type": "execute_result"
    }
   ],
   "source": [
    "knn = NearestNeighbors(metric='cosine', algorithm='brute', n_neighbors=3, n_jobs=-1)\n",
    "knn.fit(csr_sample)"
   ]
  },
  {
   "cell_type": "markdown",
   "id": "20ebe50a",
   "metadata": {},
   "source": [
    "## 영화 추천\n",
    "\n",
    "### 한 사용자가 좋아한 영화 목록 추출"
   ]
  },
  {
   "cell_type": "code",
   "execution_count": 20,
   "id": "4620b02b",
   "metadata": {},
   "outputs": [
    {
     "name": "stdout",
     "output_type": "stream",
     "text": [
      "Items liked by user:  [74, 102, 256, 5, 171, 111, 242, 189, 32, 209, 270, 18, 6, 244, 221, 129, 20, 271, 272, 255]\n",
      "['Brother Minister: The Assassination of Malcolm X (1994)', 'All Dogs Go to Heaven 2 (1996)', 'Men in Black (1997)', 'Shanghai Triad (Yao a yao yao dao waipo qiao) (1995)', 'Empire Strikes Back, The (1980)', 'Flipper (1996)', 'Jungle2Jungle (1997)', 'Henry V (1989)', 'Desperado (1995)', 'Indiana Jones and the Last Crusade (1989)', 'Starship Troopers (1997)', \"Antonia's Line (1995)\", 'Twelve Monkeys (1995)', \"Devil's Own, The (1997)\", 'Star Trek: First Contact (1996)', 'Kansas City (1996)', 'Muppet Treasure Island (1996)', 'Good Will Hunting (1997)', 'Heat (1995)', 'When the Cats Away (Chacun cherche son chat) (1996)']\n"
     ]
    }
   ],
   "source": [
    "dataset_sort_des = dataset.sort_values(['user_id', 'timestamp'], ascending=[True, False])\n",
    "filter1 = dataset_sort_des[dataset_sort_des['user_id'] == 1].item_id\n",
    "filter1 = filter1.tolist()\n",
    "filter1 = filter1[:20]\n",
    "print(\"Items liked by user: \",filter1)\n",
    "movie_titles = [item_dataset.iloc[item_id, 1] for item_id in filter1]\n",
    "print(movie_titles)"
   ]
  },
  {
   "cell_type": "markdown",
   "id": "96fca939",
   "metadata": {},
   "source": [
    "### 유사한 영화 추천\n",
    "\n",
    "한 사용자가 좋아하는 영화에 대해 유사한 영화들을 찾아서 추천합니다."
   ]
  },
  {
   "cell_type": "code",
   "execution_count": 28,
   "id": "0f9eab00",
   "metadata": {},
   "outputs": [
    {
     "name": "stdout",
     "output_type": "stream",
     "text": [
      "Brother Minister: The Assassination of Malcolm X (1994)\n",
      "                 One Flew Over the Cuckoo's Nest (1975)\n",
      "                 Dumbo (1941)\n",
      "All Dogs Go to Heaven 2 (1996)\n",
      "                 Fair Game (1995)\n",
      "                 Third Man, The (1949)\n",
      "Men in Black (1997)\n",
      "                 Year of the Horse (1997)\n",
      "                 Home Alone 3 (1997)\n",
      "Shanghai Triad (Yao a yao yao dao waipo qiao) (1995)\n",
      "                 Dr. Strangelove or: How I Learned to Stop Worrying and Love the Bomb (1963)\n",
      "                 White Balloon, The (1995)\n",
      "Empire Strikes Back, The (1980)\n",
      "                 Midnight in the Garden of Good and Evil (1997)\n",
      "                 Wes Craven's New Nightmare (1994)\n",
      "Flipper (1996)\n",
      "                 Kids (1995)\n",
      "                 Tin Cup (1996)\n",
      "Jungle2Jungle (1997)\n",
      "                 39 Steps, The (1935)\n",
      "                 Diabolique (1996)\n",
      "Henry V (1989)\n",
      "                 Great Expectations (1998)\n",
      "                 Abyss, The (1989)\n",
      "Desperado (1995)\n",
      "                 Lawrence of Arabia (1962)\n",
      "                 Bananas (1971)\n",
      "Indiana Jones and the Last Crusade (1989)\n",
      "                 The Innocent (1994)\n",
      "                 Spy Hard (1996)\n",
      "Starship Troopers (1997)\n",
      "                 Dr. Strangelove or: How I Learned to Stop Worrying and Love the Bomb (1963)\n",
      "                 White Balloon, The (1995)\n",
      "Antonia's Line (1995)\n",
      "                 Fatal Instinct (1993)\n",
      "                 First Wives Club, The (1996)\n",
      "Twelve Monkeys (1995)\n",
      "                 Titanic (1997)\n",
      "                 To Gillian on Her 37th Birthday (1996)\n",
      "Devil's Own, The (1997)\n",
      "                 Jackal, The (1997)\n",
      "                 Drop Zone (1994)\n",
      "Star Trek: First Contact (1996)\n",
      "                 I Know What You Did Last Summer (1997)\n",
      "                 Lord of Illusions (1995)\n",
      "Kansas City (1996)\n",
      "                 Leaving Las Vegas (1995)\n",
      "                 Soul Food (1997)\n",
      "Muppet Treasure Island (1996)\n",
      "                 Dangerous Minds (1995)\n",
      "                 Jeffrey (1995)\n",
      "Good Will Hunting (1997)\n",
      "                 Perfect World, A (1993)\n",
      "                 Harriet the Spy (1996)\n",
      "Heat (1995)\n",
      "                 First Knight (1995)\n",
      "                 Tin Cup (1996)\n",
      "When the Cats Away (Chacun cherche son chat) (1996)\n",
      "                 Mighty Morphin Power Rangers: The Movie (1995)\n",
      "                 Kiss the Girls (1997)\n"
     ]
    }
   ],
   "source": [
    "distances1=[]\n",
    "indices1=[]\n",
    "for i in filter1:\n",
    "  distances, indices = knn.kneighbors(csr_sample[i],n_neighbors=3)\n",
    "  \n",
    "  distances = distances.flatten()\n",
    "  distances = distances[1:]\n",
    "  distances1.extend(distances)\n",
    "  \n",
    "  indices = indices.flatten()\n",
    "  indices = indices[1:]\n",
    "  indices1.extend(indices)\n",
    "\n",
    "  print(item_dataset.iloc[i, 1])\n",
    "  movie_titles = [item_dataset.iloc[item_id, 1] for item_id in indices]\n",
    "  for title in movie_titles:\n",
    "    print('                ', title)"
   ]
  },
  {
   "cell_type": "code",
   "execution_count": null,
   "id": "05812a14",
   "metadata": {},
   "outputs": [],
   "source": []
  }
 ],
 "metadata": {
  "kernelspec": {
   "display_name": "Python 3 (ipykernel)",
   "language": "python",
   "name": "python3"
  },
  "language_info": {
   "codemirror_mode": {
    "name": "ipython",
    "version": 3
   },
   "file_extension": ".py",
   "mimetype": "text/x-python",
   "name": "python",
   "nbconvert_exporter": "python",
   "pygments_lexer": "ipython3",
   "version": "3.9.13"
  }
 },
 "nbformat": 4,
 "nbformat_minor": 5
}
