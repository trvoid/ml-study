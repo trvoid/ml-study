{
 "cells": [
  {
   "cell_type": "markdown",
   "metadata": {},
   "source": [
    "# Naive Bayes Classifier on Mushroom Dataset\n",
    "\n",
    "This notebook is applying Naive Bayes classification on the mushroom dataset.\n",
    "\n",
    "**References:**\n",
    "\n",
    "* For Naive Bayes Classifier implementation, [Naive Bayes Classification explained with Python code](http://www.datasciencecentral.com/profiles/blogs/naive-bayes-classification-explained-with-python-code) by Ahmet Taspinar.\n",
    "* For data visualization, [Mushroom Classification - Edible or Poisonous?](https://github.com/paix120/DataScienceLearningClubActivities/blob/master/Activity05/Mushroom%20Edibility%20Classification%20-%20Naive%20Bayes.ipynb) by Renee Teate.\n",
    "* For mushroom dataset, [Kaggle Mushroom Classification](https://www.kaggle.com/uciml/mushroom-classification)."
   ]
  },
  {
   "cell_type": "code",
   "execution_count": 27,
   "metadata": {
    "collapsed": false
   },
   "outputs": [],
   "source": [
    "import numpy as np\n",
    "import pandas as pd\n",
    "from collections import Counter, defaultdict\n",
    "from sklearn.model_selection import train_test_split\n",
    "from sklearn import metrics\n",
    "import seaborn as sns\n",
    "\n",
    "%matplotlib inline"
   ]
  },
  {
   "cell_type": "markdown",
   "metadata": {},
   "source": [
    "## 1 Data\n",
    "\n",
    "### 1.1 Load data"
   ]
  },
  {
   "cell_type": "code",
   "execution_count": 35,
   "metadata": {
    "collapsed": false
   },
   "outputs": [
    {
     "data": {
      "text/html": [
       "<div>\n",
       "<table border=\"1\" class=\"dataframe\">\n",
       "  <thead>\n",
       "    <tr style=\"text-align: right;\">\n",
       "      <th></th>\n",
       "      <th>class</th>\n",
       "      <th>cap-shape</th>\n",
       "      <th>cap-surface</th>\n",
       "      <th>cap-color</th>\n",
       "      <th>bruises</th>\n",
       "      <th>odor</th>\n",
       "      <th>gill-attachment</th>\n",
       "      <th>gill-spacing</th>\n",
       "      <th>gill-size</th>\n",
       "      <th>gill-color</th>\n",
       "      <th>...</th>\n",
       "      <th>stalk-surface-below-ring</th>\n",
       "      <th>stalk-color-above-ring</th>\n",
       "      <th>stalk-color-below-ring</th>\n",
       "      <th>veil-type</th>\n",
       "      <th>veil-color</th>\n",
       "      <th>ring-number</th>\n",
       "      <th>ring-type</th>\n",
       "      <th>spore-print-color</th>\n",
       "      <th>population</th>\n",
       "      <th>habitat</th>\n",
       "    </tr>\n",
       "  </thead>\n",
       "  <tbody>\n",
       "    <tr>\n",
       "      <th>count</th>\n",
       "      <td>8124</td>\n",
       "      <td>8124</td>\n",
       "      <td>8124</td>\n",
       "      <td>8124</td>\n",
       "      <td>8124</td>\n",
       "      <td>8124</td>\n",
       "      <td>8124</td>\n",
       "      <td>8124</td>\n",
       "      <td>8124</td>\n",
       "      <td>8124</td>\n",
       "      <td>...</td>\n",
       "      <td>8124</td>\n",
       "      <td>8124</td>\n",
       "      <td>8124</td>\n",
       "      <td>8124</td>\n",
       "      <td>8124</td>\n",
       "      <td>8124</td>\n",
       "      <td>8124</td>\n",
       "      <td>8124</td>\n",
       "      <td>8124</td>\n",
       "      <td>8124</td>\n",
       "    </tr>\n",
       "    <tr>\n",
       "      <th>unique</th>\n",
       "      <td>2</td>\n",
       "      <td>6</td>\n",
       "      <td>4</td>\n",
       "      <td>10</td>\n",
       "      <td>2</td>\n",
       "      <td>9</td>\n",
       "      <td>2</td>\n",
       "      <td>2</td>\n",
       "      <td>2</td>\n",
       "      <td>12</td>\n",
       "      <td>...</td>\n",
       "      <td>4</td>\n",
       "      <td>9</td>\n",
       "      <td>9</td>\n",
       "      <td>1</td>\n",
       "      <td>4</td>\n",
       "      <td>3</td>\n",
       "      <td>5</td>\n",
       "      <td>9</td>\n",
       "      <td>6</td>\n",
       "      <td>7</td>\n",
       "    </tr>\n",
       "    <tr>\n",
       "      <th>top</th>\n",
       "      <td>e</td>\n",
       "      <td>x</td>\n",
       "      <td>y</td>\n",
       "      <td>n</td>\n",
       "      <td>f</td>\n",
       "      <td>n</td>\n",
       "      <td>f</td>\n",
       "      <td>c</td>\n",
       "      <td>b</td>\n",
       "      <td>b</td>\n",
       "      <td>...</td>\n",
       "      <td>s</td>\n",
       "      <td>w</td>\n",
       "      <td>w</td>\n",
       "      <td>p</td>\n",
       "      <td>w</td>\n",
       "      <td>o</td>\n",
       "      <td>p</td>\n",
       "      <td>w</td>\n",
       "      <td>v</td>\n",
       "      <td>d</td>\n",
       "    </tr>\n",
       "    <tr>\n",
       "      <th>freq</th>\n",
       "      <td>4208</td>\n",
       "      <td>3656</td>\n",
       "      <td>3244</td>\n",
       "      <td>2284</td>\n",
       "      <td>4748</td>\n",
       "      <td>3528</td>\n",
       "      <td>7914</td>\n",
       "      <td>6812</td>\n",
       "      <td>5612</td>\n",
       "      <td>1728</td>\n",
       "      <td>...</td>\n",
       "      <td>4936</td>\n",
       "      <td>4464</td>\n",
       "      <td>4384</td>\n",
       "      <td>8124</td>\n",
       "      <td>7924</td>\n",
       "      <td>7488</td>\n",
       "      <td>3968</td>\n",
       "      <td>2388</td>\n",
       "      <td>4040</td>\n",
       "      <td>3148</td>\n",
       "    </tr>\n",
       "  </tbody>\n",
       "</table>\n",
       "<p>4 rows × 23 columns</p>\n",
       "</div>"
      ],
      "text/plain": [
       "       class cap-shape cap-surface cap-color bruises  odor gill-attachment  \\\n",
       "count   8124      8124        8124      8124    8124  8124            8124   \n",
       "unique     2         6           4        10       2     9               2   \n",
       "top        e         x           y         n       f     n               f   \n",
       "freq    4208      3656        3244      2284    4748  3528            7914   \n",
       "\n",
       "       gill-spacing gill-size gill-color   ...   stalk-surface-below-ring  \\\n",
       "count          8124      8124       8124   ...                       8124   \n",
       "unique            2         2         12   ...                          4   \n",
       "top               c         b          b   ...                          s   \n",
       "freq           6812      5612       1728   ...                       4936   \n",
       "\n",
       "       stalk-color-above-ring stalk-color-below-ring veil-type veil-color  \\\n",
       "count                    8124                   8124      8124       8124   \n",
       "unique                      9                      9         1          4   \n",
       "top                         w                      w         p          w   \n",
       "freq                     4464                   4384      8124       7924   \n",
       "\n",
       "       ring-number ring-type spore-print-color population habitat  \n",
       "count         8124      8124              8124       8124    8124  \n",
       "unique           3         5                 9          6       7  \n",
       "top              o         p                 w          v       d  \n",
       "freq          7488      3968              2388       4040    3148  \n",
       "\n",
       "[4 rows x 23 columns]"
      ]
     },
     "execution_count": 35,
     "metadata": {},
     "output_type": "execute_result"
    }
   ],
   "source": [
    "data = pd.read_csv('../Datasets/mushrooms.csv')\n",
    "data.describe()"
   ]
  },
  {
   "cell_type": "code",
   "execution_count": 36,
   "metadata": {
    "collapsed": false
   },
   "outputs": [
    {
     "name": "stdout",
     "output_type": "stream",
     "text": [
      "Example values:\n",
      "\n",
      "class                       e\n",
      "cap-shape                   x\n",
      "cap-surface                 y\n",
      "cap-color                   b\n",
      "bruises                     t\n",
      "odor                        n\n",
      "gill-attachment             f\n",
      "gill-spacing                c\n",
      "gill-size                   b\n",
      "gill-color                  e\n",
      "stalk-shape                 e\n",
      "stalk-root                  ?\n",
      "stalk-surface-above-ring    s\n",
      "stalk-surface-below-ring    s\n",
      "stalk-color-above-ring      e\n",
      "stalk-color-below-ring      w\n",
      "veil-type                   p\n",
      "veil-color                  w\n",
      "ring-number                 t\n",
      "ring-type                   e\n",
      "spore-print-color           w\n",
      "population                  c\n",
      "habitat                     w\n",
      "Name: 3984, dtype: object\n"
     ]
    }
   ],
   "source": [
    "print(\"Example values:\\n\")\n",
    "print(data.iloc[3984]) #this one has a ? value - how are those treated by classifier?"
   ]
  },
  {
   "cell_type": "markdown",
   "metadata": {},
   "source": [
    "### 1.2 Analyze data\n",
    "\n",
    "#### Edibile/poisonous distribution"
   ]
  },
  {
   "cell_type": "code",
   "execution_count": 29,
   "metadata": {
    "collapsed": false
   },
   "outputs": [
    {
     "name": "stdout",
     "output_type": "stream",
     "text": [
      "e    4208\n",
      "p    3916\n",
      "Name: class, dtype: int64\n"
     ]
    },
    {
     "data": {
      "text/plain": [
       "<matplotlib.axes._subplots.AxesSubplot at 0x22946362860>"
      ]
     },
     "execution_count": 29,
     "metadata": {},
     "output_type": "execute_result"
    },
    {
     "data": {
      "image/png": "[encoded data removed]",
      "text/plain": [
       "<matplotlib.figure.Figure at 0x22946362048>"
      ]
     },
     "metadata": {},
     "output_type": "display_data"
    }
   ],
   "source": [
    "#bar chart of classes using pandas plotting\n",
    "print(data['class'].value_counts())\n",
    "data['class'].value_counts().plot(kind='bar')"
   ]
  },
  {
   "cell_type": "markdown",
   "metadata": {},
   "source": [
    "#### Cap shape - edible or poisonous?"
   ]
  },
  {
   "cell_type": "code",
   "execution_count": 31,
   "metadata": {
    "collapsed": false
   },
   "outputs": [
    {
     "data": {
      "image/png": "[encoded data removed]",
      "text/plain": [
       "<matplotlib.figure.Figure at 0x2294666a6a0>"
      ]
     },
     "metadata": {},
     "output_type": "display_data"
    }
   ],
   "source": [
    "#seaborn factorplot to show edible/poisonous breakdown by different factors\n",
    "df_forplot = data.loc[:,('class','cap-shape','gill-color')]\n",
    "g = sns.factorplot(\"class\", col=\"cap-shape\", data=df_forplot,\n",
    "                    kind=\"count\", size=2.5, aspect=.8, col_wrap=6)"
   ]
  },
  {
   "cell_type": "markdown",
   "metadata": {},
   "source": [
    "#### Gill color - edible or poisonous?"
   ]
  },
  {
   "cell_type": "code",
   "execution_count": 37,
   "metadata": {
    "collapsed": false
   },
   "outputs": [
    {
     "data": {
      "image/png": "[encoded data removed]",
      "text/plain": [
       "<matplotlib.figure.Figure at 0x22945a094a8>"
      ]
     },
     "metadata": {},
     "output_type": "display_data"
    }
   ],
   "source": [
    "g = sns.factorplot(\"class\", col=\"gill-color\", data=df_forplot,\n",
    "                    kind=\"count\", size=2.5, aspect=.8, col_wrap=6)"
   ]
  },
  {
   "cell_type": "markdown",
   "metadata": {},
   "source": [
    "### 1.3 Split data"
   ]
  },
  {
   "cell_type": "code",
   "execution_count": 23,
   "metadata": {
    "collapsed": false
   },
   "outputs": [],
   "source": [
    "X = data.iloc[:, 1:]\n",
    "y = data.iloc[:,0]\n",
    "X_train, X_test, y_train, y_test = train_test_split(X, y, test_size = 0.2, random_state = 101)"
   ]
  },
  {
   "cell_type": "markdown",
   "metadata": {},
   "source": [
    "## 2 Classifier\n",
    "\n",
    "Implementation from [Naive Bayes Classification explained with Python code](http://www.datasciencecentral.com/profiles/blogs/naive-bayes-classification-explained-with-python-code) posted by Ahmet Taspinar on December 15."
   ]
  },
  {
   "cell_type": "code",
   "execution_count": 24,
   "metadata": {
    "collapsed": true
   },
   "outputs": [],
   "source": [
    "class NaiveBaseClass:\n",
    "    def calculate_relative_occurences(self, list1):\n",
    "        no_examples = len(list1)\n",
    "        ro_dict = dict(Counter(list1))\n",
    "        for key in ro_dict.keys():\n",
    "            ro_dict[key] = ro_dict[key] / float(no_examples)\n",
    "        return ro_dict\n",
    "\n",
    "    def get_max_value_key(self, d1):\n",
    "        #values = d1.values()\n",
    "        #keys = d1.keys()\n",
    "        #max_value_index = values.index(max(values))\n",
    "        #max_key = keys[max_value_index]\n",
    "        #return max_key\n",
    "        max_value = 0\n",
    "        max_key = -1\n",
    "        for key, value in d1.items():\n",
    "            if value > max_value:\n",
    "                max_value = value\n",
    "                max_key = key\n",
    "        return max_key        \n",
    "        \n",
    "    def initialize_nb_dict(self):\n",
    "        self.nb_dict = {}\n",
    "        for label in self.labels:\n",
    "            self.nb_dict[label] = defaultdict(list)\n",
    "\n",
    "class NaiveBayes(NaiveBaseClass):\n",
    "    \"\"\"\n",
    "    Naive Bayes Classifier:\n",
    "    It is trained with a 2D-array X (dimensions m,n) and a 1D array Y (dimension 1,n).\n",
    "    X should have one column per feature (total m) and one row per training example (total n).\n",
    "    After training a dictionary is filled with the class probabilities per feature.\n",
    "    \"\"\"\n",
    "    def train(self, X, Y):\n",
    "        self.labels = np.unique(Y)\n",
    "        no_rows, no_cols = np.shape(X)\n",
    "        self.initialize_nb_dict()\n",
    "        self.class_probabilities = self.calculate_relative_occurences(Y)\n",
    "        #fill self.nb_dict with the feature values per class\n",
    "        for label in self.labels:\n",
    "            row_indices = np.where(Y == label)[0]\n",
    "            X_ = X[row_indices, :]\n",
    "            no_rows_, no_cols_ = np.shape(X_)\n",
    "            for jj in range(0,no_cols_):\n",
    "                self.nb_dict[label][jj] += list(X_[:,jj])\n",
    "        #transform the dict which contains lists with all feature values \n",
    "        #to a dict with relative feature value occurences per class\n",
    "        for label in self.labels:\n",
    "            for jj in range(0,no_cols):\n",
    "                self.nb_dict[label][jj] = self.calculate_relative_occurences(self.nb_dict[label][jj])\n",
    "\n",
    "    def classify_single_elem(self, X_elem):\n",
    "        Y_dict = {}\n",
    "        for label in self.labels:\n",
    "            class_probability = self.class_probabilities[label]\n",
    "            for ii in range(0,len(X_elem)):\n",
    "              relative_feature_values = self.nb_dict[label][ii]\n",
    "              if X_elem[ii] in relative_feature_values.keys():\n",
    "                class_probability *= relative_feature_values[X_elem[ii]]\n",
    "              else:\n",
    "                class_probability *= 0\n",
    "            Y_dict[label] = class_probability\n",
    "        return self.get_max_value_key(Y_dict)\n",
    "                    \n",
    "    def classify(self, X):\n",
    "        self.predicted_Y_values = []\n",
    "        no_rows, no_cols = np.shape(X)\n",
    "        for ii in range(0,no_rows):\n",
    "            X_elem = X[ii,:]\n",
    "            prediction = self.classify_single_elem(X_elem)\n",
    "            self.predicted_Y_values.append(prediction)\n",
    "        return self.predicted_Y_values"
   ]
  },
  {
   "cell_type": "markdown",
   "metadata": {},
   "source": [
    "## 3 Train"
   ]
  },
  {
   "cell_type": "code",
   "execution_count": 25,
   "metadata": {
    "collapsed": false
   },
   "outputs": [
    {
     "name": "stdout",
     "output_type": "stream",
     "text": [
      "trained\n"
     ]
    }
   ],
   "source": [
    "nbc = NaiveBayes()\n",
    "nbc.train(X_train.values, y_train.values)\n",
    "print(\"trained\")"
   ]
  },
  {
   "cell_type": "markdown",
   "metadata": {},
   "source": [
    "## 4 Predict"
   ]
  },
  {
   "cell_type": "code",
   "execution_count": 26,
   "metadata": {
    "collapsed": false
   },
   "outputs": [
    {
     "name": "stdout",
     "output_type": "stream",
     "text": [
      "Training accuracy: 0.996922603477\n",
      "Testing accuracy: 0.998153846154\n"
     ]
    }
   ],
   "source": [
    "train_predicted_y = nbc.classify(X_train.values)\n",
    "print(\"Training accuracy:\", metrics.accuracy_score(y_train, train_predicted_y))\n",
    "\n",
    "test_predicted_y = nbc.classify(X_test.values)\n",
    "print(\"Testing accuracy:\", metrics.accuracy_score(y_test, test_predicted_y))"
   ]
  },
  {
   "cell_type": "code",
   "execution_count": null,
   "metadata": {
    "collapsed": true
   },
   "outputs": [],
   "source": []
  }
 ],
 "metadata": {
  "kernelspec": {
   "display_name": "Python 3",
   "language": "python",
   "name": "python3"
  },
  "language_info": {
   "codemirror_mode": {
    "name": "ipython",
    "version": 3
   },
   "file_extension": ".py",
   "mimetype": "text/x-python",
   "name": "python",
   "nbconvert_exporter": "python",
   "pygments_lexer": "ipython3",
   "version": "3.6.0"
  }
 },
 "nbformat": 4,
 "nbformat_minor": 2
}
