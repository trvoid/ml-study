{
 "cells": [
  {
   "cell_type": "markdown",
   "id": "a8588981",
   "metadata": {},
   "source": [
    "# Collections 기본 실습"
   ]
  },
  {
   "cell_type": "markdown",
   "id": "3067f525",
   "metadata": {},
   "source": [
    "## list"
   ]
  },
  {
   "cell_type": "markdown",
   "id": "768a271b",
   "metadata": {},
   "source": [
    "### 배열 순서 뒤집기"
   ]
  },
  {
   "cell_type": "code",
   "execution_count": 6,
   "id": "6215c8ec",
   "metadata": {},
   "outputs": [
    {
     "name": "stdout",
     "output_type": "stream",
     "text": [
      "<list_reverseiterator object at 0x7fa483ed5820>\n",
      "[5, 4, 3, 2, 1]\n",
      "[1, 2, 3, 4, 5]\n"
     ]
    }
   ],
   "source": [
    "lst = [1, 2, 3, 4, 5]\n",
    "\n",
    "print(reversed(lst))\n",
    "result = list(reversed(lst))\n",
    "print(result)\n",
    "print(lst)"
   ]
  },
  {
   "cell_type": "markdown",
   "id": "47d2dc3b",
   "metadata": {},
   "source": [
    "배열의 `reverse()` 함수를 사용하면 배열 자체를 뒤집습니다."
   ]
  },
  {
   "cell_type": "code",
   "execution_count": 7,
   "id": "e6fddaba",
   "metadata": {},
   "outputs": [
    {
     "name": "stdout",
     "output_type": "stream",
     "text": [
      "None\n",
      "[5, 4, 3, 2, 1]\n"
     ]
    }
   ],
   "source": [
    "result = lst.reverse()\n",
    "print(result)\n",
    "print(lst)"
   ]
  },
  {
   "cell_type": "code",
   "execution_count": null,
   "id": "50b3b06a",
   "metadata": {},
   "outputs": [],
   "source": []
  }
 ],
 "metadata": {
  "kernelspec": {
   "display_name": "Python 3 (ipykernel)",
   "language": "python",
   "name": "python3"
  },
  "language_info": {
   "codemirror_mode": {
    "name": "ipython",
    "version": 3
   },
   "file_extension": ".py",
   "mimetype": "text/x-python",
   "name": "python",
   "nbconvert_exporter": "python",
   "pygments_lexer": "ipython3",
   "version": "3.9.13"
  }
 },
 "nbformat": 4,
 "nbformat_minor": 5
}
