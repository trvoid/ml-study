{
 "cells": [
  {
   "cell_type": "markdown",
   "id": "00f47e05",
   "metadata": {},
   "source": [
    "# Numpy 기본 실습\n",
    "\n",
    "Numpy 기본 문법을 실습하기 위한 노트북입니다."
   ]
  },
  {
   "cell_type": "markdown",
   "id": "8eef5039",
   "metadata": {},
   "source": [
    "## 메모리 크기"
   ]
  },
  {
   "cell_type": "code",
   "execution_count": 1,
   "id": "ea8fe530",
   "metadata": {},
   "outputs": [
    {
     "name": "stdout",
     "output_type": "stream",
     "text": [
      "Size of the array:  3\n",
      "Memory size of one array element in bytes:  8\n",
      "Memory size of numpy array in bytes: 24\n"
     ]
    }
   ],
   "source": [
    "import numpy as np\n",
    "\n",
    "x = np.array([100,20,34])\n",
    "\n",
    "print(\"Size of the array: \", x.size)\n",
    "print(\"Memory size of one array element in bytes: \", x.itemsize)\n",
    "print(\"Memory size of numpy array in bytes:\", x.size * x.itemsize)"
   ]
  },
  {
   "cell_type": "markdown",
   "id": "a10c93b3",
   "metadata": {},
   "source": [
    "## 상위 N 개의 값 얻기"
   ]
  },
  {
   "cell_type": "code",
   "execution_count": 2,
   "id": "f8e5fc1f",
   "metadata": {},
   "outputs": [
    {
     "name": "stdout",
     "output_type": "stream",
     "text": [
      "[4 3 2 1 0]\n"
     ]
    }
   ],
   "source": [
    "x = np.array([5, 4, 3, 2, 1])\n",
    "args = np.argsort(x)\n",
    "print(args)"
   ]
  },
  {
   "cell_type": "code",
   "execution_count": 4,
   "id": "1285badb",
   "metadata": {},
   "outputs": [
    {
     "name": "stdout",
     "output_type": "stream",
     "text": [
      "[1 0]\n"
     ]
    }
   ],
   "source": [
    "print(args[-2:])"
   ]
  },
  {
   "cell_type": "code",
   "execution_count": null,
   "id": "074ec9a3",
   "metadata": {},
   "outputs": [],
   "source": []
  }
 ],
 "metadata": {
  "kernelspec": {
   "display_name": "Python 3 (ipykernel)",
   "language": "python",
   "name": "python3"
  },
  "language_info": {
   "codemirror_mode": {
    "name": "ipython",
    "version": 3
   },
   "file_extension": ".py",
   "mimetype": "text/x-python",
   "name": "python",
   "nbconvert_exporter": "python",
   "pygments_lexer": "ipython3",
   "version": "3.9.13"
  }
 },
 "nbformat": 4,
 "nbformat_minor": 5
}
