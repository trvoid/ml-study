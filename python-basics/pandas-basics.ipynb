{
 "cells": [
  {
   "cell_type": "markdown",
   "id": "45f25fb8",
   "metadata": {},
   "source": [
    "# Pandas 기본\n",
    "\n",
    "Pandas 기본 문법을 실습하기 위한 노트북입니다."
   ]
  },
  {
   "cell_type": "markdown",
   "id": "4cc3a668",
   "metadata": {},
   "source": [
    "## DataFrame 컬럼을 Python 배열이나 Numpy 배열로 변환하기"
   ]
  },
  {
   "cell_type": "code",
   "execution_count": 1,
   "id": "55710e51",
   "metadata": {},
   "outputs": [
    {
     "name": "stdout",
     "output_type": "stream",
     "text": [
      "DataFrame:\n",
      "   one  two  three\n",
      "a  1.0    1      5\n",
      "b  2.0    2      6\n",
      "c  3.0    3      7\n",
      "d  NaN    4      8\n",
      "\n",
      "column types:\n",
      "one      float64\n",
      "two        int64\n",
      "three      int64\n",
      "dtype: object\n",
      "\n"
     ]
    }
   ],
   "source": [
    "import pandas as pd\n",
    "\n",
    "data_dict = {\n",
    "    'one': pd.Series([1, 2, 3], index=['a', 'b', 'c'])\n",
    "    , 'two': pd.Series([1, 2, 3, 4], index=['a', 'b', 'c', 'd'])\n",
    "    , 'three': pd.Series([5, 6, 7, 8], index=['a', 'b', 'c', 'd'])\n",
    "}\n",
    "\n",
    "df = pd.DataFrame(data_dict)\n",
    "\n",
    "print(f'DataFrame:\\n{df}\\n')\n",
    "print(f'column types:\\n{df.dtypes}\\n')"
   ]
  },
  {
   "cell_type": "code",
   "execution_count": 2,
   "id": "40f6c55d",
   "metadata": {},
   "outputs": [
    {
     "name": "stdout",
     "output_type": "stream",
     "text": [
      "\n",
      "col_one_list:\n",
      "[1.0, 2.0, 3.0, nan]\n",
      "type:<class 'list'>\n",
      "\n",
      "col_one_arr:\n",
      "[ 1.  2.  3. nan]\n",
      "type:<class 'numpy.ndarray'>\n"
     ]
    }
   ],
   "source": [
    "col_one_list = df['one'].tolist()\n",
    "col_one_arr = df['one'].to_numpy()\n",
    "\n",
    "print(f'\\ncol_one_list:\\n{col_one_list}\\ntype:{type(col_one_list)}')\n",
    "print(f'\\ncol_one_arr:\\n{col_one_arr}\\ntype:{type(col_one_arr)}')"
   ]
  },
  {
   "cell_type": "code",
   "execution_count": 3,
   "id": "b4a87be1",
   "metadata": {},
   "outputs": [
    {
     "name": "stdout",
     "output_type": "stream",
     "text": [
      "[[ 1.  1.  5.]\n",
      " [ 2.  2.  6.]\n",
      " [ 3.  3.  7.]\n",
      " [nan  4.  8.]]\n"
     ]
    }
   ],
   "source": [
    "np_arr1 = df.to_numpy()\n",
    "print(np_arr1)"
   ]
  },
  {
   "cell_type": "code",
   "execution_count": 4,
   "id": "db34eeb6",
   "metadata": {},
   "outputs": [
    {
     "name": "stdout",
     "output_type": "stream",
     "text": [
      "[[ 1.  1.]\n",
      " [ 2.  2.]\n",
      " [ 3.  3.]\n",
      " [nan  4.]]\n"
     ]
    }
   ],
   "source": [
    "np_arr2 = df[['one', 'two']].to_numpy()\n",
    "print(np_arr2)"
   ]
  },
  {
   "cell_type": "markdown",
   "id": "fe048dc5",
   "metadata": {},
   "source": [
    "처음 세 행과 첫 번째, 세 번째 열을 출력합니다."
   ]
  },
  {
   "cell_type": "code",
   "execution_count": 5,
   "id": "8412a85b",
   "metadata": {},
   "outputs": [
    {
     "name": "stdout",
     "output_type": "stream",
     "text": [
      "[[1. 5.]\n",
      " [2. 6.]\n",
      " [3. 7.]]\n"
     ]
    }
   ],
   "source": [
    "np_arr3 = df.iloc[[0, 1, 2], [0, 2]].to_numpy()\n",
    "print(np_arr3)"
   ]
  },
  {
   "cell_type": "markdown",
   "id": "e25272d5",
   "metadata": {},
   "source": [
    "## DataFrame 컬럼에 대해 누적 합 구하기\n",
    "\n",
    "참고 자료\n",
    "\n",
    "* [4 Ways to Calculate Pandas Cumulative Sum](https://datagy.io/pandas-cumulative-sum/), Nik Piepenbreier"
   ]
  },
  {
   "cell_type": "code",
   "execution_count": 6,
   "id": "58050303",
   "metadata": {},
   "outputs": [
    {
     "name": "stdout",
     "output_type": "stream",
     "text": [
      "  Type       Date  Sales  Profits\n",
      "0    A  01-Jan-21     10        3\n",
      "1    B  01-Jan-21     15        5\n",
      "2    A  02-Jan-21      7        2\n",
      "3    A  03-Jan-21     23        7\n",
      "4    A  05-Jan-21     18        6\n",
      "5    B  07-Jan-21      7        2\n",
      "6    A  09-Jan-21      3        1\n",
      "7    B  10-Jan-21     10        3\n",
      "8    B  11-Jan-21     25        8\n"
     ]
    }
   ],
   "source": [
    "df = pd.DataFrame.from_dict({\n",
    "    'Type': ['A', 'B', 'A', 'A', 'A', 'B', 'A', 'B', 'B']\n",
    "    , 'Date': ['01-Jan-21', '01-Jan-21', '02-Jan-21', '03-Jan-21', '05-Jan-21', '07-Jan-21', '09-Jan-21', '10-Jan-21', '11-Jan-21']\n",
    "    , 'Sales': [10, 15, 7, 23, 18, 7, 3, 10, 25]\n",
    "    , 'Profits': [3, 5, 2, 7, 6, 2, 1, 3, 8]\n",
    "})\n",
    "\n",
    "print(df)"
   ]
  },
  {
   "cell_type": "markdown",
   "id": "629719a7",
   "metadata": {},
   "source": [
    "`Sales` 열의 누적 합을 구하고 새로운 열 `Cumulative Sales`에 저장합니다."
   ]
  },
  {
   "cell_type": "code",
   "execution_count": 7,
   "id": "35fd00e4",
   "metadata": {},
   "outputs": [
    {
     "name": "stdout",
     "output_type": "stream",
     "text": [
      "  Type       Date  Sales  Profits  Cumulative Sales\n",
      "0    A  01-Jan-21     10        3                10\n",
      "1    B  01-Jan-21     15        5                25\n",
      "2    A  02-Jan-21      7        2                32\n",
      "3    A  03-Jan-21     23        7                55\n",
      "4    A  05-Jan-21     18        6                73\n",
      "5    B  07-Jan-21      7        2                80\n",
      "6    A  09-Jan-21      3        1                83\n",
      "7    B  10-Jan-21     10        3                93\n",
      "8    B  11-Jan-21     25        8               118\n"
     ]
    }
   ],
   "source": [
    "df['Cumulative Sales'] = df['Sales'].cumsum()\n",
    "\n",
    "print(df)"
   ]
  },
  {
   "cell_type": "markdown",
   "id": "de95d1e8",
   "metadata": {},
   "source": [
    "### `Null` 값이 있는 경우에 누적 합 구하기"
   ]
  },
  {
   "cell_type": "code",
   "execution_count": 8,
   "id": "a37647dc",
   "metadata": {},
   "outputs": [
    {
     "name": "stdout",
     "output_type": "stream",
     "text": [
      "  Type       Date  Sales  Profits  Cumulative Sales\n",
      "0    A  01-Jan-21   10.0        3                10\n",
      "1    B  01-Jan-21   15.0        5                25\n",
      "2    A  02-Jan-21    7.0        2                32\n",
      "3    A  03-Jan-21   23.0        7                55\n",
      "4    A  05-Jan-21   18.0        6                73\n",
      "5    B  07-Jan-21    NaN        2                80\n",
      "6    A  09-Jan-21    3.0        1                83\n",
      "7    B  10-Jan-21   10.0        3                93\n",
      "8    B  11-Jan-21   25.0        8               118\n"
     ]
    }
   ],
   "source": [
    "import numpy as np\n",
    "\n",
    "df.loc[5, 'Sales'] = np.NaN\n",
    "\n",
    "print(df)"
   ]
  },
  {
   "cell_type": "code",
   "execution_count": 9,
   "id": "624d434e",
   "metadata": {},
   "outputs": [
    {
     "name": "stdout",
     "output_type": "stream",
     "text": [
      "  Type       Date  Sales  Profits  Cumulative Sales\n",
      "0    A  01-Jan-21   10.0        3              10.0\n",
      "1    B  01-Jan-21   15.0        5              25.0\n",
      "2    A  02-Jan-21    7.0        2              32.0\n",
      "3    A  03-Jan-21   23.0        7              55.0\n",
      "4    A  05-Jan-21   18.0        6              73.0\n",
      "5    B  07-Jan-21    NaN        2               NaN\n",
      "6    A  09-Jan-21    3.0        1              76.0\n",
      "7    B  10-Jan-21   10.0        3              86.0\n",
      "8    B  11-Jan-21   25.0        8             111.0\n"
     ]
    }
   ],
   "source": [
    "df['Cumulative Sales'] = df['Sales'].cumsum()\n",
    "\n",
    "print(df)"
   ]
  },
  {
   "cell_type": "markdown",
   "id": "e99cf91c",
   "metadata": {},
   "source": [
    "`cumsum()` 메쏘드의 `skipna` 파라미터의 값을 `False`로 설정하면 `NaN` 부터는 모든 값을 무시합니다."
   ]
  },
  {
   "cell_type": "code",
   "execution_count": 10,
   "id": "390b8999",
   "metadata": {},
   "outputs": [
    {
     "name": "stdout",
     "output_type": "stream",
     "text": [
      "  Type       Date  Sales  Profits  Cumulative Sales\n",
      "0    A  01-Jan-21   10.0        3              10.0\n",
      "1    B  01-Jan-21   15.0        5              25.0\n",
      "2    A  02-Jan-21    7.0        2              32.0\n",
      "3    A  03-Jan-21   23.0        7              55.0\n",
      "4    A  05-Jan-21   18.0        6              73.0\n",
      "5    B  07-Jan-21    NaN        2               NaN\n",
      "6    A  09-Jan-21    3.0        1               NaN\n",
      "7    B  10-Jan-21   10.0        3               NaN\n",
      "8    B  11-Jan-21   25.0        8               NaN\n"
     ]
    }
   ],
   "source": [
    "df['Cumulative Sales'] = df['Sales'].cumsum(skipna=False)\n",
    "\n",
    "print(df)"
   ]
  },
  {
   "cell_type": "markdown",
   "id": "995e1d71",
   "metadata": {},
   "source": [
    "### 그룹별로 누적 합 구하기 "
   ]
  },
  {
   "cell_type": "code",
   "execution_count": 11,
   "id": "147e0cf9",
   "metadata": {},
   "outputs": [
    {
     "name": "stdout",
     "output_type": "stream",
     "text": [
      "  Type       Date  Sales  Profits  Cumulative Sales  Grouped Cumulative Sum\n",
      "0    A  01-Jan-21   10.0        3              10.0                    10.0\n",
      "1    B  01-Jan-21   15.0        5              25.0                    15.0\n",
      "2    A  02-Jan-21    7.0        2              32.0                    17.0\n",
      "3    A  03-Jan-21   23.0        7              55.0                    40.0\n",
      "4    A  05-Jan-21   18.0        6              73.0                    58.0\n",
      "5    B  07-Jan-21    7.0        2               NaN                    22.0\n",
      "6    A  09-Jan-21    3.0        1               NaN                    61.0\n",
      "7    B  10-Jan-21   10.0        3               NaN                    32.0\n",
      "8    B  11-Jan-21   25.0        8               NaN                    57.0\n"
     ]
    }
   ],
   "source": [
    "# NaN으로 지정했던 값을 원래의 값으로 돌려 놓습니다.\n",
    "df.loc[5, 'Sales'] = 7\n",
    "\n",
    "df['Grouped Cumulative Sum'] = df[['Type', 'Sales']].groupby('Type').cumsum()\n",
    "\n",
    "print(df)"
   ]
  },
  {
   "cell_type": "markdown",
   "id": "c90b5551",
   "metadata": {},
   "source": [
    "### 누적 백분율 구하기"
   ]
  },
  {
   "cell_type": "code",
   "execution_count": 12,
   "id": "3fa51702",
   "metadata": {},
   "outputs": [
    {
     "name": "stdout",
     "output_type": "stream",
     "text": [
      "  Type       Date  Sales  Profits  Cumulative Sales  Grouped Cumulative Sum  \\\n",
      "0    A  01-Jan-21   10.0        3              10.0                    10.0   \n",
      "1    B  01-Jan-21   15.0        5              25.0                    15.0   \n",
      "2    A  02-Jan-21    7.0        2              32.0                    17.0   \n",
      "3    A  03-Jan-21   23.0        7              55.0                    40.0   \n",
      "4    A  05-Jan-21   18.0        6              73.0                    58.0   \n",
      "5    B  07-Jan-21    7.0        2               NaN                    22.0   \n",
      "6    A  09-Jan-21    3.0        1               NaN                    61.0   \n",
      "7    B  10-Jan-21   10.0        3               NaN                    32.0   \n",
      "8    B  11-Jan-21   25.0        8               NaN                    57.0   \n",
      "\n",
      "   Cumulative Sales Percentage  \n",
      "0                     0.084746  \n",
      "1                     0.211864  \n",
      "2                     0.271186  \n",
      "3                     0.466102  \n",
      "4                     0.618644  \n",
      "5                     0.677966  \n",
      "6                     0.703390  \n",
      "7                     0.788136  \n",
      "8                     1.000000  \n"
     ]
    }
   ],
   "source": [
    "df['Cumulative Sales Percentage'] = df['Sales'].cumsum() / df['Sales'].sum()\n",
    "\n",
    "print(df)"
   ]
  },
  {
   "cell_type": "markdown",
   "id": "d64ea8c7",
   "metadata": {},
   "source": [
    "DataFrame의 `apply()` 메쏘드를 통해 백분율 출력 형식을 지정할 수 있습니다."
   ]
  },
  {
   "cell_type": "code",
   "execution_count": 13,
   "id": "9ea48339",
   "metadata": {},
   "outputs": [
    {
     "name": "stdout",
     "output_type": "stream",
     "text": [
      "  Type       Date  Sales  Profits  Cumulative Sales  Grouped Cumulative Sum  \\\n",
      "0    A  01-Jan-21   10.0        3              10.0                    10.0   \n",
      "1    B  01-Jan-21   15.0        5              25.0                    15.0   \n",
      "2    A  02-Jan-21    7.0        2              32.0                    17.0   \n",
      "3    A  03-Jan-21   23.0        7              55.0                    40.0   \n",
      "4    A  05-Jan-21   18.0        6              73.0                    58.0   \n",
      "5    B  07-Jan-21    7.0        2               NaN                    22.0   \n",
      "6    A  09-Jan-21    3.0        1               NaN                    61.0   \n",
      "7    B  10-Jan-21   10.0        3               NaN                    32.0   \n",
      "8    B  11-Jan-21   25.0        8               NaN                    57.0   \n",
      "\n",
      "  Cumulative Sales Percentage  \n",
      "0                       8.47%  \n",
      "1                      21.19%  \n",
      "2                      27.12%  \n",
      "3                      46.61%  \n",
      "4                      61.86%  \n",
      "5                      67.80%  \n",
      "6                      70.34%  \n",
      "7                      78.81%  \n",
      "8                     100.00%  \n"
     ]
    }
   ],
   "source": [
    "df['Cumulative Sales Percentage'] = df['Cumulative Sales Percentage'].apply(lambda x: f'{x:.2%}')\n",
    "\n",
    "print(df)"
   ]
  },
  {
   "cell_type": "code",
   "execution_count": null,
   "id": "d3e47277",
   "metadata": {},
   "outputs": [],
   "source": []
  }
 ],
 "metadata": {
  "kernelspec": {
   "display_name": "Python 3 (ipykernel)",
   "language": "python",
   "name": "python3"
  },
  "language_info": {
   "codemirror_mode": {
    "name": "ipython",
    "version": 3
   },
   "file_extension": ".py",
   "mimetype": "text/x-python",
   "name": "python",
   "nbconvert_exporter": "python",
   "pygments_lexer": "ipython3",
   "version": "3.9.13"
  }
 },
 "nbformat": 4,
 "nbformat_minor": 5
}
