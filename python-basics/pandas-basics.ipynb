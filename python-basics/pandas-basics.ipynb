{
 "cells": [
  {
   "cell_type": "markdown",
   "id": "9b69c97a",
   "metadata": {},
   "source": [
    "# Pandas 기본"
   ]
  },
  {
   "cell_type": "markdown",
   "id": "347e87ea",
   "metadata": {},
   "source": [
    "## DataFrame 컬럼을 Python 배열이나 Numpy 배열로 변환하기"
   ]
  },
  {
   "cell_type": "code",
   "execution_count": 1,
   "id": "7751e3a1",
   "metadata": {},
   "outputs": [
    {
     "name": "stdout",
     "output_type": "stream",
     "text": [
      "DataFrame:\n",
      "   one  two  three\n",
      "a  1.0    1      5\n",
      "b  2.0    2      6\n",
      "c  3.0    3      7\n",
      "d  NaN    4      8\n",
      "\n",
      "column types:\n",
      "one      float64\n",
      "two        int64\n",
      "three      int64\n",
      "dtype: object\n",
      "\n"
     ]
    }
   ],
   "source": [
    "import pandas as pd\n",
    "\n",
    "data_dict = {\n",
    "    'one': pd.Series([1, 2, 3], index=['a', 'b', 'c'])\n",
    "    , 'two': pd.Series([1, 2, 3, 4], index=['a', 'b', 'c', 'd'])\n",
    "    , 'three': pd.Series([5, 6, 7, 8], index=['a', 'b', 'c', 'd'])\n",
    "}\n",
    "\n",
    "df = pd.DataFrame(data_dict)\n",
    "\n",
    "print(f'DataFrame:\\n{df}\\n')\n",
    "print(f'column types:\\n{df.dtypes}\\n')"
   ]
  },
  {
   "cell_type": "code",
   "execution_count": 2,
   "id": "884e71bc",
   "metadata": {},
   "outputs": [
    {
     "name": "stdout",
     "output_type": "stream",
     "text": [
      "\n",
      "col_one_list:\n",
      "[1.0, 2.0, 3.0, nan]\n",
      "type:<class 'list'>\n",
      "\n",
      "col_one_arr:\n",
      "[ 1.  2.  3. nan]\n",
      "type:<class 'numpy.ndarray'>\n"
     ]
    }
   ],
   "source": [
    "col_one_list = df['one'].tolist()\n",
    "col_one_arr = df['one'].to_numpy()\n",
    "\n",
    "print(f'\\ncol_one_list:\\n{col_one_list}\\ntype:{type(col_one_list)}')\n",
    "print(f'\\ncol_one_arr:\\n{col_one_arr}\\ntype:{type(col_one_arr)}')"
   ]
  },
  {
   "cell_type": "code",
   "execution_count": 3,
   "id": "27a3ba50",
   "metadata": {},
   "outputs": [
    {
     "name": "stdout",
     "output_type": "stream",
     "text": [
      "[[ 1.  1.  5.]\n",
      " [ 2.  2.  6.]\n",
      " [ 3.  3.  7.]\n",
      " [nan  4.  8.]]\n"
     ]
    }
   ],
   "source": [
    "np_arr1 = df.to_numpy()\n",
    "print(np_arr1)"
   ]
  },
  {
   "cell_type": "code",
   "execution_count": 4,
   "id": "0d6a47e2",
   "metadata": {},
   "outputs": [
    {
     "name": "stdout",
     "output_type": "stream",
     "text": [
      "[[ 1.  1.]\n",
      " [ 2.  2.]\n",
      " [ 3.  3.]\n",
      " [nan  4.]]\n"
     ]
    }
   ],
   "source": [
    "np_arr2 = df[['one', 'two']].to_numpy()\n",
    "print(np_arr2)"
   ]
  },
  {
   "cell_type": "markdown",
   "id": "9ea2c1b1",
   "metadata": {},
   "source": [
    "처음 세 행과 첫 번째, 세 번째 열을 출력합니다."
   ]
  },
  {
   "cell_type": "code",
   "execution_count": 5,
   "id": "8321f985",
   "metadata": {},
   "outputs": [
    {
     "name": "stdout",
     "output_type": "stream",
     "text": [
      "[[1. 5.]\n",
      " [2. 6.]\n",
      " [3. 7.]]\n"
     ]
    }
   ],
   "source": [
    "np_arr3 = df.iloc[[0, 1, 2], [0, 2]].to_numpy()\n",
    "print(np_arr3)"
   ]
  },
  {
   "cell_type": "code",
   "execution_count": null,
   "id": "67f88e12",
   "metadata": {},
   "outputs": [],
   "source": []
  }
 ],
 "metadata": {
  "kernelspec": {
   "display_name": "Python 3 (ipykernel)",
   "language": "python",
   "name": "python3"
  },
  "language_info": {
   "codemirror_mode": {
    "name": "ipython",
    "version": 3
   },
   "file_extension": ".py",
   "mimetype": "text/x-python",
   "name": "python",
   "nbconvert_exporter": "python",
   "pygments_lexer": "ipython3",
   "version": "3.9.13"
  }
 },
 "nbformat": 4,
 "nbformat_minor": 5
}
