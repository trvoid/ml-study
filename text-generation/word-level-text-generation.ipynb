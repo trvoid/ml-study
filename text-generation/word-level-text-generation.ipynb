{
 "cells": [
  {
   "cell_type": "markdown",
   "id": "9c9995fd",
   "metadata": {},
   "source": [
    "# 단어 수준 텍스트 생성\n",
    "\n",
    "이 노트북은 아래 문서에 실려 있는 예제를 실습하면서 작성한 것입니다.\n",
    "\n",
    "* [How to Develop a Word-Level Neural Language Model and Use it to Generate Text](https://machinelearningmastery.com/how-to-develop-a-word-level-neural-language-model-in-keras/) - Machine Learning Mastery"
   ]
  },
  {
   "cell_type": "markdown",
   "id": "b3866b09",
   "metadata": {},
   "source": [
    "## 데이터 준비\n",
    "\n",
    "* [Download The Republic by Plato (republic.txt)](http://www.gutenberg.org/cache/epub/1497/pg1497.txt)"
   ]
  },
  {
   "cell_type": "markdown",
   "id": "a519df69",
   "metadata": {},
   "source": [
    "### 텍스트 읽기\n",
    "\n",
    "원본 텍스트 파일의 앞 부분과 뒷 부분을 제거한 텍스트를 저장하고 있는 `republic_clean.txt` 파일을 읽습니다."
   ]
  },
  {
   "cell_type": "code",
   "execution_count": 1,
   "id": "87beb03b",
   "metadata": {},
   "outputs": [
    {
     "name": "stdout",
     "output_type": "stream",
     "text": [
      "﻿BOOK I.\n",
      "\n",
      "\n",
      "I went down yesterday to the Piraeus with Glaucon the son of Ariston,\n",
      "that I might offer up my prayers to the goddess (Bendis, the Thracian\n",
      "Artemis.); and also because I wanted to see in wh\n"
     ]
    }
   ],
   "source": [
    "def load_doc(filename):\n",
    "    with open(filename, mode='r', encoding='utf-8') as f:\n",
    "        text = f.read()\n",
    "        \n",
    "    return text\n",
    "\n",
    "in_filename = 'republic_clean.txt'\n",
    "doc = load_doc(in_filename)\n",
    "print(doc[:200])"
   ]
  },
  {
   "cell_type": "markdown",
   "id": "b408e57f",
   "metadata": {},
   "source": [
    "### 텍스트 정제"
   ]
  },
  {
   "cell_type": "code",
   "execution_count": 2,
   "id": "8b701dcd",
   "metadata": {},
   "outputs": [
    {
     "name": "stdout",
     "output_type": "stream",
     "text": [
      "['i', 'i', 'went', 'down', 'yesterday', 'to', 'the', 'piraeus', 'with', 'glaucon', 'the', 'son', 'of', 'ariston', 'that', 'i', 'might', 'offer', 'up', 'my', 'prayers', 'to', 'the', 'goddess', 'bendis', 'the', 'thracian', 'artemis', 'and', 'also', 'because', 'i', 'wanted', 'to', 'see', 'in', 'what', 'manner', 'they', 'would', 'celebrate', 'the', 'festival', 'which', 'was', 'a', 'new', 'thing', 'i', 'was', 'delighted', 'with', 'the', 'procession', 'of', 'the', 'inhabitants', 'but', 'that', 'of', 'the', 'thracians', 'was', 'equally', 'if', 'not', 'more', 'beautiful', 'when', 'we', 'had', 'finished', 'our', 'prayers', 'and', 'viewed', 'the', 'spectacle', 'we', 'turned', 'in', 'the', 'direction', 'of', 'the', 'city', 'and', 'at', 'that', 'instant', 'polemarchus', 'the', 'son', 'of', 'cephalus', 'chanced', 'to', 'catch', 'sight', 'of']\n",
      "Total Tokens: 117341\n",
      "Unique Tokens: 7323\n"
     ]
    }
   ],
   "source": [
    "import string\n",
    "\n",
    "def clean_doc(doc):\n",
    "    doc = doc.replace('--', ' ')\n",
    "    tokens = doc.split()\n",
    "    table = str.maketrans('', '', string.punctuation)\n",
    "    tokens = [w.translate(table) for w in tokens]\n",
    "    tokens = [word for word in tokens if word.isalpha()]\n",
    "    tokens = [word.lower() for word in tokens]\n",
    "    return tokens\n",
    "\n",
    "tokens = clean_doc(doc)\n",
    "print(tokens[:100])\n",
    "print('Total Tokens: %d' % len(tokens))\n",
    "print('Unique Tokens: %d' % len(set(tokens)))"
   ]
  },
  {
   "cell_type": "markdown",
   "id": "a9451a8c",
   "metadata": {},
   "source": [
    "### 훈련 데이터 형식으로 변환\n",
    "\n",
    "일정 개수의 단어를 입력하면 다음 단어를 예측하는 모델에 사용하기 위하여 데이터를 변환합니다."
   ]
  },
  {
   "cell_type": "code",
   "execution_count": 3,
   "id": "4ca7cb17",
   "metadata": {},
   "outputs": [
    {
     "name": "stdout",
     "output_type": "stream",
     "text": [
      "Total Sequences: 117290\n",
      "0> i i went down yesterday to the piraeus with glaucon the son of ariston that i might offer up my prayers to the goddess bendis the thracian artemis and also because i wanted to see in what manner they would celebrate the festival which was a new thing i was delighted\n",
      "1> i went down yesterday to the piraeus with glaucon the son of ariston that i might offer up my prayers to the goddess bendis the thracian artemis and also because i wanted to see in what manner they would celebrate the festival which was a new thing i was delighted with\n",
      "2> went down yesterday to the piraeus with glaucon the son of ariston that i might offer up my prayers to the goddess bendis the thracian artemis and also because i wanted to see in what manner they would celebrate the festival which was a new thing i was delighted with the\n"
     ]
    }
   ],
   "source": [
    "length = 50 + 1\n",
    "sequences = list()\n",
    "for i in range(length, len(tokens)):\n",
    "    seq = tokens[i-length:i]\n",
    "    line = ' '.join(seq)\n",
    "    sequences.append(line)\n",
    "print('Total Sequences: %d' % len(sequences))\n",
    "print('0> ' + sequences[0])\n",
    "print('1> ' + sequences[1])\n",
    "print('2> ' + sequences[2])"
   ]
  },
  {
   "cell_type": "markdown",
   "id": "76e277b7",
   "metadata": {},
   "source": [
    "### 훈련 데이터 저장\n",
    "\n",
    "변환한 데이터를 `republic_sequences.txt` 파일로 저장합니다."
   ]
  },
  {
   "cell_type": "code",
   "execution_count": 4,
   "id": "ab1574f7",
   "metadata": {},
   "outputs": [],
   "source": [
    "def save_doc(lines, filename):\n",
    "    data = '\\n'.join(lines)\n",
    "    with open(filename, mode='w', encoding='utf-8') as f:\n",
    "        f.write(data)\n",
    "        \n",
    "out_filename = 'republic_sequences.txt'\n",
    "save_doc(sequences, out_filename)"
   ]
  },
  {
   "cell_type": "markdown",
   "id": "5dce2dd0",
   "metadata": {},
   "source": [
    "## 언어 모델 훈련"
   ]
  },
  {
   "cell_type": "markdown",
   "id": "c0c109f0",
   "metadata": {},
   "source": [
    "### 훈련 데이터 읽기"
   ]
  },
  {
   "cell_type": "code",
   "execution_count": 5,
   "id": "d64e5431",
   "metadata": {},
   "outputs": [
    {
     "name": "stdout",
     "output_type": "stream",
     "text": [
      "Total Lines: 117290\n",
      "0> i i went down yesterday to the piraeus with glaucon the son of ariston that i might offer up my prayers to the goddess bendis the thracian artemis and also because i wanted to see in what manner they would celebrate the festival which was a new thing i was delighted\n",
      "1> i went down yesterday to the piraeus with glaucon the son of ariston that i might offer up my prayers to the goddess bendis the thracian artemis and also because i wanted to see in what manner they would celebrate the festival which was a new thing i was delighted with\n",
      "2> went down yesterday to the piraeus with glaucon the son of ariston that i might offer up my prayers to the goddess bendis the thracian artemis and also because i wanted to see in what manner they would celebrate the festival which was a new thing i was delighted with the\n"
     ]
    }
   ],
   "source": [
    "def load_doc(filename):\n",
    "    with open(filename, mode='r', encoding='utf-8') as f:\n",
    "        text = f.read()\n",
    "        \n",
    "    return text\n",
    "\n",
    "in_filename = 'republic_sequences.txt'\n",
    "doc = load_doc(in_filename)\n",
    "lines = doc.split('\\n')\n",
    "print('Total Lines: %d' % len(lines))\n",
    "print('0> ' + lines[0])\n",
    "print('1> ' + lines[1])\n",
    "print('2> ' + lines[2])"
   ]
  },
  {
   "cell_type": "markdown",
   "id": "38e42198",
   "metadata": {},
   "source": [
    "### 훈련 데이터 인코딩"
   ]
  },
  {
   "cell_type": "code",
   "execution_count": 6,
   "id": "75e15cc9",
   "metadata": {},
   "outputs": [
    {
     "name": "stderr",
     "output_type": "stream",
     "text": [
      "2024-03-15 14:47:54.812495: I tensorflow/core/platform/cpu_feature_guard.cc:193] This TensorFlow binary is optimized with oneAPI Deep Neural Network Library (oneDNN) to use the following CPU instructions in performance-critical operations:  AVX2 AVX_VNNI FMA\n",
      "To enable them in other operations, rebuild TensorFlow with the appropriate compiler flags.\n",
      "2024-03-15 14:47:55.159093: I tensorflow/core/util/port.cc:104] oneDNN custom operations are on. You may see slightly different numerical results due to floating-point round-off errors from different computation orders. To turn them off, set the environment variable `TF_ENABLE_ONEDNN_OPTS=0`.\n",
      "2024-03-15 14:47:55.241809: W tensorflow/compiler/xla/stream_executor/platform/default/dso_loader.cc:64] Could not load dynamic library 'libcudart.so.11.0'; dlerror: libcudart.so.11.0: cannot open shared object file: No such file or directory\n",
      "2024-03-15 14:47:55.241841: I tensorflow/compiler/xla/stream_executor/cuda/cudart_stub.cc:29] Ignore above cudart dlerror if you do not have a GPU set up on your machine.\n",
      "2024-03-15 14:47:56.298011: W tensorflow/compiler/xla/stream_executor/platform/default/dso_loader.cc:64] Could not load dynamic library 'libnvinfer.so.7'; dlerror: libnvinfer.so.7: cannot open shared object file: No such file or directory\n",
      "2024-03-15 14:47:56.298068: W tensorflow/compiler/xla/stream_executor/platform/default/dso_loader.cc:64] Could not load dynamic library 'libnvinfer_plugin.so.7'; dlerror: libnvinfer_plugin.so.7: cannot open shared object file: No such file or directory\n",
      "2024-03-15 14:47:56.298071: W tensorflow/compiler/tf2tensorrt/utils/py_utils.cc:38] TF-TRT Warning: Cannot dlopen some TensorRT libraries. If you would like to use Nvidia GPU with TensorRT, please make sure the missing libraries mentioned above are installed properly.\n"
     ]
    },
    {
     "name": "stdout",
     "output_type": "stream",
     "text": [
      "[11, 1032, 326, 7323, 4, 1, 2842, 34, 211, 1, 261, 3, 2841, 9, 11, 179, 808, 123, 92, 2840, 4, 1, 2225, 7322, 1, 7321, 7320, 2, 74, 122, 11, 1248, 4, 110, 6, 30, 168, 17, 48, 7319, 1, 1595, 13, 57, 8, 541, 152, 11, 57, 1134, 34]\n"
     ]
    }
   ],
   "source": [
    "from keras.preprocessing.text import Tokenizer\n",
    "\n",
    "tokenizer = Tokenizer()\n",
    "tokenizer.fit_on_texts(lines)\n",
    "sequences = tokenizer.texts_to_sequences(lines)\n",
    "print(sequences[1])"
   ]
  },
  {
   "cell_type": "markdown",
   "id": "7e2015c4",
   "metadata": {},
   "source": [
    "### 입력 데이터와 출력 데이터 분리"
   ]
  },
  {
   "cell_type": "code",
   "execution_count": 7,
   "id": "23265684",
   "metadata": {},
   "outputs": [
    {
     "name": "stdout",
     "output_type": "stream",
     "text": [
      "vocab_size:  7324\n"
     ]
    }
   ],
   "source": [
    "from numpy import array\n",
    "from keras.utils import to_categorical\n",
    "\n",
    "vocab_size = len(tokenizer.word_index) + 1\n",
    "print('vocab_size: ', vocab_size)\n",
    "\n",
    "sequences = array(sequences)\n",
    "X, y = sequences[:,:-1], sequences[:,-1]\n",
    "y = to_categorical(y, num_classes=vocab_size)\n",
    "\n",
    "seq_length = X.shape[1]"
   ]
  },
  {
   "cell_type": "markdown",
   "id": "f3deb512",
   "metadata": {},
   "source": [
    "### 모델 훈련"
   ]
  },
  {
   "cell_type": "code",
   "execution_count": 8,
   "id": "bf491abf",
   "metadata": {},
   "outputs": [
    {
     "name": "stderr",
     "output_type": "stream",
     "text": [
      "2024-03-15 14:48:00.554157: W tensorflow/compiler/xla/stream_executor/platform/default/dso_loader.cc:64] Could not load dynamic library 'libcuda.so.1'; dlerror: libcuda.so.1: cannot open shared object file: No such file or directory\n",
      "2024-03-15 14:48:00.554694: W tensorflow/compiler/xla/stream_executor/cuda/cuda_driver.cc:265] failed call to cuInit: UNKNOWN ERROR (303)\n",
      "2024-03-15 14:48:00.554704: I tensorflow/compiler/xla/stream_executor/cuda/cuda_diagnostics.cc:156] kernel driver does not appear to be running on this host (wjeonng-Victus): /proc/driver/nvidia/version does not exist\n",
      "2024-03-15 14:48:00.555286: I tensorflow/core/platform/cpu_feature_guard.cc:193] This TensorFlow binary is optimized with oneAPI Deep Neural Network Library (oneDNN) to use the following CPU instructions in performance-critical operations:  AVX2 AVX_VNNI FMA\n",
      "To enable them in other operations, rebuild TensorFlow with the appropriate compiler flags.\n"
     ]
    },
    {
     "name": "stdout",
     "output_type": "stream",
     "text": [
      "Model: \"sequential\"\n",
      "_________________________________________________________________\n",
      " Layer (type)                Output Shape              Param #   \n",
      "=================================================================\n",
      " embedding (Embedding)       (None, 50, 30)            219720    \n",
      "                                                                 \n",
      " lstm (LSTM)                 (None, 50, 100)           52400     \n",
      "                                                                 \n",
      " lstm_1 (LSTM)               (None, 100)               80400     \n",
      "                                                                 \n",
      " dense (Dense)               (None, 100)               10100     \n",
      "                                                                 \n",
      " dense_1 (Dense)             (None, 7324)              739724    \n",
      "                                                                 \n",
      "=================================================================\n",
      "Total params: 1,102,344\n",
      "Trainable params: 1,102,344\n",
      "Non-trainable params: 0\n",
      "_________________________________________________________________\n",
      "None\n"
     ]
    },
    {
     "data": {
      "image/png": "[encoded data removed]",
      "text/plain": [
       "<IPython.core.display.Image object>"
      ]
     },
     "execution_count": 8,
     "metadata": {},
     "output_type": "execute_result"
    }
   ],
   "source": [
    "from keras.models import Sequential\n",
    "from keras.layers import Dense\n",
    "from keras.layers import LSTM\n",
    "from keras.layers import Embedding\n",
    "from keras.utils import plot_model\n",
    "\n",
    "# define model\n",
    "model = Sequential()\n",
    "model.add(Embedding(vocab_size, 30, input_length=seq_length))\n",
    "model.add(LSTM(100, return_sequences=True))\n",
    "model.add(LSTM(100))\n",
    "model.add(Dense(100, activation='relu'))\n",
    "model.add(Dense(vocab_size, activation='softmax'))\n",
    "print(model.summary())\n",
    "plot_model(model, show_shapes=True)"
   ]
  },
  {
   "cell_type": "code",
   "execution_count": 46,
   "id": "a2d5dab4",
   "metadata": {},
   "outputs": [
    {
     "name": "stdout",
     "output_type": "stream",
     "text": [
      "Epoch 1/100\n",
      "917/917 [==============================] - 58s 62ms/step - loss: 3.7323 - accuracy: 0.2493\n",
      "Epoch 2/100\n",
      "917/917 [==============================] - 58s 63ms/step - loss: 3.6184 - accuracy: 0.2579\n",
      "Epoch 3/100\n",
      "917/917 [==============================] - 57s 62ms/step - loss: 3.5835 - accuracy: 0.2621\n",
      "Epoch 4/100\n",
      "917/917 [==============================] - 57s 62ms/step - loss: 3.5591 - accuracy: 0.2650\n",
      "Epoch 5/100\n",
      "917/917 [==============================] - 58s 63ms/step - loss: 3.5370 - accuracy: 0.2674\n",
      "Epoch 6/100\n",
      "917/917 [==============================] - 58s 63ms/step - loss: 3.5198 - accuracy: 0.2684\n",
      "Epoch 7/100\n",
      "917/917 [==============================] - 58s 63ms/step - loss: 3.5003 - accuracy: 0.2723\n",
      "Epoch 8/100\n",
      "917/917 [==============================] - 57s 62ms/step - loss: 3.4846 - accuracy: 0.2730\n",
      "Epoch 9/100\n",
      "917/917 [==============================] - 57s 62ms/step - loss: 3.4685 - accuracy: 0.2755\n",
      "Epoch 10/100\n",
      "917/917 [==============================] - 57s 62ms/step - loss: 3.4514 - accuracy: 0.2782\n",
      "Epoch 11/100\n",
      "917/917 [==============================] - 57s 62ms/step - loss: 3.4372 - accuracy: 0.2794\n",
      "Epoch 12/100\n",
      "917/917 [==============================] - 57s 62ms/step - loss: 3.4219 - accuracy: 0.2821\n",
      "Epoch 13/100\n",
      "917/917 [==============================] - 57s 62ms/step - loss: 3.4077 - accuracy: 0.2829\n",
      "Epoch 14/100\n",
      "917/917 [==============================] - 57s 62ms/step - loss: 3.3949 - accuracy: 0.2851\n",
      "Epoch 15/100\n",
      "917/917 [==============================] - 57s 62ms/step - loss: 3.3784 - accuracy: 0.2874\n",
      "Epoch 16/100\n",
      "917/917 [==============================] - 57s 62ms/step - loss: 3.3651 - accuracy: 0.2898\n",
      "Epoch 17/100\n",
      "917/917 [==============================] - 57s 62ms/step - loss: 3.3517 - accuracy: 0.2920\n",
      "Epoch 18/100\n",
      "917/917 [==============================] - 57s 62ms/step - loss: 3.3375 - accuracy: 0.2941\n",
      "Epoch 19/100\n",
      "917/917 [==============================] - 57s 62ms/step - loss: 3.3231 - accuracy: 0.2958\n",
      "Epoch 20/100\n",
      "917/917 [==============================] - 55s 60ms/step - loss: 3.3104 - accuracy: 0.2975\n",
      "Epoch 21/100\n",
      "917/917 [==============================] - 56s 61ms/step - loss: 3.2968 - accuracy: 0.3001\n",
      "Epoch 22/100\n",
      "917/917 [==============================] - 56s 61ms/step - loss: 3.2828 - accuracy: 0.3024\n",
      "Epoch 23/100\n",
      "917/917 [==============================] - 56s 61ms/step - loss: 3.2705 - accuracy: 0.3037\n",
      "Epoch 24/100\n",
      "917/917 [==============================] - 56s 61ms/step - loss: 3.2571 - accuracy: 0.3054\n",
      "Epoch 25/100\n",
      "917/917 [==============================] - 57s 62ms/step - loss: 3.2441 - accuracy: 0.3082\n",
      "Epoch 26/100\n",
      "917/917 [==============================] - 57s 62ms/step - loss: 3.2324 - accuracy: 0.3093\n",
      "Epoch 27/100\n",
      "917/917 [==============================] - 57s 63ms/step - loss: 3.2189 - accuracy: 0.3109\n",
      "Epoch 28/100\n",
      "917/917 [==============================] - 57s 63ms/step - loss: 3.2063 - accuracy: 0.3128\n",
      "Epoch 29/100\n",
      "917/917 [==============================] - 57s 63ms/step - loss: 3.1939 - accuracy: 0.3152\n",
      "Epoch 30/100\n",
      "917/917 [==============================] - 57s 63ms/step - loss: 3.1816 - accuracy: 0.3167\n",
      "Epoch 31/100\n",
      "917/917 [==============================] - 58s 63ms/step - loss: 3.1661 - accuracy: 0.3187\n",
      "Epoch 32/100\n",
      "917/917 [==============================] - 57s 63ms/step - loss: 3.1555 - accuracy: 0.3209\n",
      "Epoch 33/100\n",
      "917/917 [==============================] - 57s 63ms/step - loss: 3.1451 - accuracy: 0.3227\n",
      "Epoch 34/100\n",
      "917/917 [==============================] - 57s 63ms/step - loss: 3.1324 - accuracy: 0.3242\n",
      "Epoch 35/100\n",
      "917/917 [==============================] - 57s 62ms/step - loss: 3.1172 - accuracy: 0.3275\n",
      "Epoch 36/100\n",
      "917/917 [==============================] - 54s 59ms/step - loss: 3.1074 - accuracy: 0.3288\n",
      "Epoch 37/100\n",
      "917/917 [==============================] - 54s 59ms/step - loss: 3.0951 - accuracy: 0.3299\n",
      "Epoch 38/100\n",
      "917/917 [==============================] - 55s 60ms/step - loss: 3.0837 - accuracy: 0.3313\n",
      "Epoch 39/100\n",
      "917/917 [==============================] - 55s 60ms/step - loss: 3.0700 - accuracy: 0.3343\n",
      "Epoch 40/100\n",
      "917/917 [==============================] - 56s 61ms/step - loss: 3.0626 - accuracy: 0.3342\n",
      "Epoch 41/100\n",
      "917/917 [==============================] - 57s 62ms/step - loss: 3.0454 - accuracy: 0.3377\n",
      "Epoch 42/100\n",
      "917/917 [==============================] - 57s 62ms/step - loss: 3.0355 - accuracy: 0.3396\n",
      "Epoch 43/100\n",
      "917/917 [==============================] - 58s 63ms/step - loss: 3.0248 - accuracy: 0.3414\n",
      "Epoch 44/100\n",
      "917/917 [==============================] - 58s 63ms/step - loss: 3.0119 - accuracy: 0.3435\n",
      "Epoch 45/100\n",
      "917/917 [==============================] - 58s 63ms/step - loss: 3.0030 - accuracy: 0.3431\n",
      "Epoch 46/100\n",
      "917/917 [==============================] - 56s 62ms/step - loss: 2.9904 - accuracy: 0.3462\n",
      "Epoch 47/100\n",
      "917/917 [==============================] - 55s 60ms/step - loss: 2.9805 - accuracy: 0.3485\n",
      "Epoch 48/100\n",
      "917/917 [==============================] - 55s 60ms/step - loss: 2.9687 - accuracy: 0.3504\n",
      "Epoch 49/100\n",
      "917/917 [==============================] - 56s 61ms/step - loss: 2.9580 - accuracy: 0.3527\n",
      "Epoch 50/100\n",
      "917/917 [==============================] - 56s 61ms/step - loss: 2.9458 - accuracy: 0.3540\n",
      "Epoch 51/100\n",
      "917/917 [==============================] - 57s 62ms/step - loss: 2.9335 - accuracy: 0.3567\n",
      "Epoch 52/100\n",
      "917/917 [==============================] - 57s 62ms/step - loss: 2.9288 - accuracy: 0.3569\n",
      "Epoch 53/100\n",
      "917/917 [==============================] - 57s 62ms/step - loss: 2.9142 - accuracy: 0.3598\n",
      "Epoch 54/100\n",
      "917/917 [==============================] - 57s 63ms/step - loss: 2.9045 - accuracy: 0.3607\n",
      "Epoch 55/100\n",
      "917/917 [==============================] - 58s 63ms/step - loss: 2.8945 - accuracy: 0.3623\n",
      "Epoch 56/100\n",
      "917/917 [==============================] - 57s 62ms/step - loss: 2.8841 - accuracy: 0.3648\n",
      "Epoch 57/100\n",
      "917/917 [==============================] - 57s 62ms/step - loss: 2.8736 - accuracy: 0.3654\n",
      "Epoch 58/100\n",
      "917/917 [==============================] - 58s 63ms/step - loss: 2.8655 - accuracy: 0.3676\n",
      "Epoch 59/100\n",
      "917/917 [==============================] - 58s 63ms/step - loss: 2.8523 - accuracy: 0.3699\n",
      "Epoch 60/100\n",
      "917/917 [==============================] - 57s 62ms/step - loss: 2.8381 - accuracy: 0.3731\n",
      "Epoch 61/100\n",
      "917/917 [==============================] - 55s 60ms/step - loss: 2.8326 - accuracy: 0.3727\n",
      "Epoch 62/100\n",
      "917/917 [==============================] - 56s 61ms/step - loss: 2.8264 - accuracy: 0.3750\n",
      "Epoch 63/100\n",
      "917/917 [==============================] - 56s 61ms/step - loss: 2.8093 - accuracy: 0.3765\n",
      "Epoch 64/100\n",
      "917/917 [==============================] - 57s 62ms/step - loss: 2.8033 - accuracy: 0.3776\n",
      "Epoch 65/100\n",
      "917/917 [==============================] - 58s 63ms/step - loss: 2.7942 - accuracy: 0.3800\n",
      "Epoch 66/100\n",
      "917/917 [==============================] - 58s 63ms/step - loss: 2.7854 - accuracy: 0.3815\n",
      "Epoch 67/100\n",
      "917/917 [==============================] - 58s 63ms/step - loss: 2.7761 - accuracy: 0.3832\n",
      "Epoch 68/100\n",
      "917/917 [==============================] - 57s 63ms/step - loss: 2.7635 - accuracy: 0.3836\n",
      "Epoch 69/100\n",
      "917/917 [==============================] - 57s 62ms/step - loss: 2.7552 - accuracy: 0.3848\n",
      "Epoch 70/100\n",
      "917/917 [==============================] - 54s 59ms/step - loss: 2.7412 - accuracy: 0.3888\n",
      "Epoch 71/100\n",
      "917/917 [==============================] - 55s 60ms/step - loss: 2.7349 - accuracy: 0.3901\n",
      "Epoch 72/100\n",
      "917/917 [==============================] - 55s 60ms/step - loss: 2.7257 - accuracy: 0.3905\n",
      "Epoch 73/100\n",
      "917/917 [==============================] - 56s 61ms/step - loss: 2.7167 - accuracy: 0.3925\n",
      "Epoch 74/100\n",
      "917/917 [==============================] - 56s 61ms/step - loss: 2.7094 - accuracy: 0.3942\n",
      "Epoch 75/100\n",
      "917/917 [==============================] - 57s 62ms/step - loss: 2.6972 - accuracy: 0.3968\n",
      "Epoch 76/100\n",
      "917/917 [==============================] - 57s 63ms/step - loss: 2.6935 - accuracy: 0.3980\n",
      "Epoch 77/100\n",
      "917/917 [==============================] - 57s 62ms/step - loss: 2.6811 - accuracy: 0.3992\n",
      "Epoch 78/100\n",
      "917/917 [==============================] - 57s 62ms/step - loss: 2.6706 - accuracy: 0.4007\n",
      "Epoch 79/100\n"
     ]
    },
    {
     "name": "stdout",
     "output_type": "stream",
     "text": [
      "917/917 [==============================] - 57s 63ms/step - loss: 2.6649 - accuracy: 0.4015\n",
      "Epoch 80/100\n",
      "917/917 [==============================] - 58s 63ms/step - loss: 2.6559 - accuracy: 0.4028\n",
      "Epoch 81/100\n",
      "917/917 [==============================] - 58s 63ms/step - loss: 2.6476 - accuracy: 0.4045\n",
      "Epoch 82/100\n",
      "917/917 [==============================] - 58s 63ms/step - loss: 2.6354 - accuracy: 0.4075\n",
      "Epoch 83/100\n",
      "917/917 [==============================] - 58s 63ms/step - loss: 2.6320 - accuracy: 0.4074\n",
      "Epoch 84/100\n",
      "917/917 [==============================] - 57s 63ms/step - loss: 2.6195 - accuracy: 0.4106\n",
      "Epoch 85/100\n",
      "917/917 [==============================] - 57s 63ms/step - loss: 2.6139 - accuracy: 0.4114\n",
      "Epoch 86/100\n",
      "917/917 [==============================] - 58s 63ms/step - loss: 2.6056 - accuracy: 0.4125\n",
      "Epoch 87/100\n",
      "917/917 [==============================] - 57s 62ms/step - loss: 2.5958 - accuracy: 0.4145\n",
      "Epoch 88/100\n",
      "917/917 [==============================] - 58s 63ms/step - loss: 2.5878 - accuracy: 0.4162\n",
      "Epoch 89/100\n",
      "917/917 [==============================] - 58s 63ms/step - loss: 2.5805 - accuracy: 0.4162\n",
      "Epoch 90/100\n",
      "917/917 [==============================] - 58s 63ms/step - loss: 2.5743 - accuracy: 0.4179\n",
      "Epoch 91/100\n",
      "917/917 [==============================] - 58s 63ms/step - loss: 2.5678 - accuracy: 0.4191\n",
      "Epoch 92/100\n",
      "917/917 [==============================] - 58s 63ms/step - loss: 2.5543 - accuracy: 0.4230\n",
      "Epoch 93/100\n",
      "917/917 [==============================] - 57s 63ms/step - loss: 2.5474 - accuracy: 0.4230\n",
      "Epoch 94/100\n",
      "917/917 [==============================] - 58s 63ms/step - loss: 2.5400 - accuracy: 0.4249\n",
      "Epoch 95/100\n",
      "917/917 [==============================] - 57s 62ms/step - loss: 2.5302 - accuracy: 0.4260\n",
      "Epoch 96/100\n",
      "917/917 [==============================] - 57s 63ms/step - loss: 2.5230 - accuracy: 0.4275\n",
      "Epoch 97/100\n",
      "917/917 [==============================] - 58s 63ms/step - loss: 2.5173 - accuracy: 0.4287\n",
      "Epoch 98/100\n",
      "917/917 [==============================] - 58s 63ms/step - loss: 2.5096 - accuracy: 0.4304\n",
      "Epoch 99/100\n",
      "917/917 [==============================] - 58s 63ms/step - loss: 2.4979 - accuracy: 0.4329\n",
      "Epoch 100/100\n",
      "917/917 [==============================] - 58s 63ms/step - loss: 2.4904 - accuracy: 0.4340\n"
     ]
    }
   ],
   "source": [
    "# compile model\n",
    "model.compile(loss='categorical_crossentropy', optimizer='adam', metrics=['accuracy'])\n",
    "# fit model\n",
    "history = model.fit(X, y, batch_size=128, epochs=100)"
   ]
  },
  {
   "cell_type": "code",
   "execution_count": 47,
   "id": "677a84f6",
   "metadata": {},
   "outputs": [
    {
     "name": "stdout",
     "output_type": "stream",
     "text": [
      "dict_keys(['loss', 'accuracy'])\n"
     ]
    },
    {
     "data": {
      "image/png": "[encoded data removed]",
      "text/plain": [
       "<Figure size 640x480 with 1 Axes>"
      ]
     },
     "metadata": {},
     "output_type": "display_data"
    },
    {
     "data": {
      "image/png": "[encoded data removed]",
      "text/plain": [
       "<Figure size 640x480 with 1 Axes>"
      ]
     },
     "metadata": {},
     "output_type": "display_data"
    }
   ],
   "source": [
    "import matplotlib.pyplot as plt\n",
    "%matplotlib inline\n",
    "\n",
    "print(history.history.keys())\n",
    "\n",
    "plt.plot(history.history['loss'])\n",
    "plt.xlabel('epoch')\n",
    "plt.ylabel('loss')\n",
    "plt.title('Model training history: loss')\n",
    "plt.legend(['loss'], loc='upper right')\n",
    "plt.show()\n",
    "\n",
    "plt.plot(history.history['accuracy'])\n",
    "plt.xlabel('epoch')\n",
    "plt.ylabel('accuracy')\n",
    "plt.title('Model training history: accuracy')\n",
    "plt.legend(['accuracy'], loc='upper right')\n",
    "plt.show()"
   ]
  },
  {
   "cell_type": "markdown",
   "id": "939546e1",
   "metadata": {},
   "source": [
    "### 모델 저장"
   ]
  },
  {
   "cell_type": "code",
   "execution_count": 48,
   "id": "dfcff32d",
   "metadata": {},
   "outputs": [],
   "source": [
    "from pickle import dump\n",
    "\n",
    "# save the model to file\n",
    "model.save('model.h5')\n",
    "# save the tokenizer\n",
    "dump(tokenizer, open('tokenizer.pkl', 'wb'))"
   ]
  },
  {
   "cell_type": "markdown",
   "id": "ea025469",
   "metadata": {},
   "source": [
    "## 모델 사용\n",
    "\n",
    "훈련에 사용했던 데이터 중의 일부를 사용하여 모델을 테스트합니다."
   ]
  },
  {
   "cell_type": "code",
   "execution_count": 49,
   "id": "dde441fa",
   "metadata": {},
   "outputs": [
    {
     "name": "stdout",
     "output_type": "stream",
     "text": [
      "50\n"
     ]
    }
   ],
   "source": [
    "in_filename = 'republic_sequences.txt'\n",
    "doc = load_doc(in_filename)\n",
    "lines = doc.split('\\n')\n",
    "\n",
    "seq_length = len(lines[0].split()) - 1\n",
    "print(seq_length)"
   ]
  },
  {
   "cell_type": "markdown",
   "id": "6796845a",
   "metadata": {},
   "source": [
    "### 모델 적재\n",
    "\n",
    "파일로부터 모델을 읽어서 적재합니다."
   ]
  },
  {
   "cell_type": "code",
   "execution_count": 50,
   "id": "c3388782",
   "metadata": {},
   "outputs": [],
   "source": [
    "from pickle import load\n",
    "from keras.models import load_model\n",
    "\n",
    "model = load_model('model.h5')\n",
    "# load the tokenizer\n",
    "tokenizer = load(open('tokenizer.pkl', 'rb'))"
   ]
  },
  {
   "cell_type": "markdown",
   "id": "345b8c98",
   "metadata": {},
   "source": [
    "### 텍스트 생성"
   ]
  },
  {
   "cell_type": "code",
   "execution_count": 51,
   "id": "6ed2b5c3",
   "metadata": {},
   "outputs": [
    {
     "name": "stdout",
     "output_type": "stream",
     "text": [
      "fixed rate of pay enough to meet the expenses of the year and no more and they will go to mess and live together like soldiers in a camp gold and silver we will tell them that they have from god the diviner metal is within them and they have therefore\n",
      "[876, 841, 3, 654, 253, 4, 745, 1, 3424, 3, 1, 2095, 2, 46, 62, 2, 17, 18, 175, 4, 5125, 2, 380, 288, 69, 859, 6, 8, 1614, 440, 2, 578, 21, 18, 180, 24, 9, 17, 23, 52, 227, 1, 5126, 2613, 5, 345, 24, 2, 17, 23, 126]\n",
      "[876, 841, 3, 654, 253, 4, 745, 1, 3424, 3, 1, 2095, 2, 46, 62, 2, 17, 18, 175, 4, 5125, 2, 380, 288, 69, 859, 6, 8, 1614, 440, 2, 578, 21, 18, 180, 24, 9, 17, 23, 52, 227, 1, 5126, 2613, 5, 345, 24, 2, 17, 23]\n"
     ]
    }
   ],
   "source": [
    "from random import randint\n",
    "\n",
    "# select a seed text\n",
    "seed_text = lines[randint(0,len(lines))]\n",
    "print(seed_text)\n",
    "\n",
    "encoded = tokenizer.texts_to_sequences([seed_text])[0]\n",
    "print(encoded)\n",
    "encoded = encoded[:-1]\n",
    "print(encoded)"
   ]
  },
  {
   "cell_type": "code",
   "execution_count": 52,
   "id": "50f70600",
   "metadata": {},
   "outputs": [
    {
     "name": "stdout",
     "output_type": "stream",
     "text": [
      "1/1 [==============================] - 0s 315ms/step\n",
      "(1, 7324)\n",
      "830\n",
      "distinguished\n"
     ]
    }
   ],
   "source": [
    "# predict probabilities for each word\n",
    "yhat = model.predict([encoded])\n",
    "print(yhat.shape)\n",
    "pred_y = yhat.argmax(axis=1)[0]\n",
    "print(pred_y)\n",
    "\n",
    "out_word = ''\n",
    "for word, index in tokenizer.word_index.items():\n",
    "    if index == pred_y:\n",
    "        out_word = word\n",
    "        break\n",
    "        \n",
    "print(out_word)"
   ]
  },
  {
   "cell_type": "code",
   "execution_count": 53,
   "id": "0565efba",
   "metadata": {},
   "outputs": [
    {
     "name": "stdout",
     "output_type": "stream",
     "text": [
      "[[ 876  841    3  654  253    4  745    1 3424    3    1 2095    2   46\n",
      "    62    2   17   18  175    4 5125    2  380  288   69  859    6    8\n",
      "  1614  440    2  578   21   18  180   24    9   17   23   52  227    1\n",
      "  5126 2613    5  345   24    2   17   23]]\n"
     ]
    }
   ],
   "source": [
    "from keras_preprocessing.sequence import pad_sequences\n",
    "\n",
    "encoded = pad_sequences([encoded], maxlen=seq_length, truncating='pre')\n",
    "print(encoded)"
   ]
  },
  {
   "cell_type": "code",
   "execution_count": 54,
   "id": "54351fa8",
   "metadata": {},
   "outputs": [],
   "source": [
    "# generate a sequence from a language model\n",
    "def generate_seq(model, tokenizer, seq_length, seed_text, n_words):\n",
    "    result = list()\n",
    "    \n",
    "    in_text = seed_text\n",
    "    \n",
    "    # generate a fixed number of words\n",
    "    for _ in range(n_words):\n",
    "        # encode the text as integer\n",
    "        encoded = tokenizer.texts_to_sequences([in_text])[0]\n",
    "        # truncate sequences to a fixed length\n",
    "        encoded = pad_sequences([encoded], maxlen=seq_length, truncating='pre')\n",
    "        \n",
    "        # predict probabilities for each word\n",
    "        yhat = model.predict([encoded], verbose=0)\n",
    "        yhat = yhat.argmax(axis=1)[0]\n",
    "        \n",
    "        # map predicted word index to word\n",
    "        out_word = ''\n",
    "        for word, index in tokenizer.word_index.items():\n",
    "            if index == yhat:\n",
    "                out_word = word\n",
    "                break\n",
    "        \n",
    "        # append to input\n",
    "        in_text += ' ' + out_word\n",
    "        \n",
    "        result.append(out_word)\n",
    "        \n",
    "    return ' '.join(result)"
   ]
  },
  {
   "cell_type": "markdown",
   "id": "a1103881",
   "metadata": {},
   "source": [
    "하나의 입력 데이터를 시작점으로 하여 순차적으로 50개의 단어를 생성합니다."
   ]
  },
  {
   "cell_type": "code",
   "execution_count": 55,
   "id": "9d701a71",
   "metadata": {},
   "outputs": [
    {
     "name": "stdout",
     "output_type": "stream",
     "text": [
      "== seed_text (chosen) ==\n",
      "replied very good thrasymachus i said and now to take the case of the arts you would admit that one man is a musician and another not a musician yes and which is wise and which is foolish clearly the musician is wise and he who is not a musician is\n",
      "== next to seed_text ==\n",
      "is foolish and he is good in as far as he is wise and bad in as far as he is foolish yes and you would say the same sort of thing of the physician yes and do you think my excellent friend that a musician when he adjusts the lyre\n",
      "== seed_text (truncated the last word) ==\n",
      "replied very good thrasymachus i said and now to take the case of the arts you would admit that one man is a musician and another not a musician yes and which is wise and which is foolish clearly the musician is wise and he who is not a musician\n",
      "== generated ==\n",
      "is foolish and are incapable of action and the other greeks revered the unjust and the other are of the state and the sufferings which are incapable of action and the other number of the state and the other valiant and the other bad and aristocratic as they are revealed\n"
     ]
    }
   ],
   "source": [
    "# generate new text\n",
    "rand_idx = randint(0,len(lines))\n",
    "seed_text = lines[rand_idx]\n",
    "print('== seed_text (chosen) ==')\n",
    "print(seed_text)\n",
    "\n",
    "print('== next to seed_text ==')\n",
    "print(lines[rand_idx + 50])\n",
    "\n",
    "seed_text_words = seed_text.split()[:-1]\n",
    "seed_text = ' '.join(seed_text_words)\n",
    "print('== seed_text (truncated the last word) ==')\n",
    "print(seed_text)\n",
    "\n",
    "generated = generate_seq(model, tokenizer, seq_length, seed_text, 50)\n",
    "print('== generated ==')\n",
    "print(generated)"
   ]
  },
  {
   "cell_type": "code",
   "execution_count": null,
   "id": "538ebfb2",
   "metadata": {},
   "outputs": [],
   "source": []
  }
 ],
 "metadata": {
  "kernelspec": {
   "display_name": "Python 3 (ipykernel)",
   "language": "python",
   "name": "python3"
  },
  "language_info": {
   "codemirror_mode": {
    "name": "ipython",
    "version": 3
   },
   "file_extension": ".py",
   "mimetype": "text/x-python",
   "name": "python",
   "nbconvert_exporter": "python",
   "pygments_lexer": "ipython3",
   "version": "3.9.13"
  }
 },
 "nbformat": 4,
 "nbformat_minor": 5
}
