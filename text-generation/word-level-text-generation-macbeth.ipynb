{
 "cells": [
  {
   "cell_type": "markdown",
   "id": "e4e14466",
   "metadata": {},
   "source": [
    "# 단어 수준 텍스트 생성\n",
    "\n",
    "이 노트북은 아래 문서에 실려 있는 예제를 실습하면서 작성한 것입니다.\n",
    "\n",
    "* [Python for NLP: Deep Learning Text Generation with Keras](https://stackabuse.com/python-for-nlp-deep-learning-text-generation-with-keras/) - Usman Malik on Stack Abuse"
   ]
  },
  {
   "cell_type": "markdown",
   "id": "ea52aac9",
   "metadata": {},
   "source": [
    "## 라이브러리 및 데이터 세트 준비"
   ]
  },
  {
   "cell_type": "code",
   "execution_count": 1,
   "id": "07fd700a",
   "metadata": {},
   "outputs": [
    {
     "name": "stderr",
     "output_type": "stream",
     "text": [
      "2024-03-15 18:25:43.651959: I tensorflow/core/platform/cpu_feature_guard.cc:193] This TensorFlow binary is optimized with oneAPI Deep Neural Network Library (oneDNN) to use the following CPU instructions in performance-critical operations:  AVX2 AVX_VNNI FMA\n",
      "To enable them in other operations, rebuild TensorFlow with the appropriate compiler flags.\n",
      "2024-03-15 18:25:43.730686: I tensorflow/core/util/port.cc:104] oneDNN custom operations are on. You may see slightly different numerical results due to floating-point round-off errors from different computation orders. To turn them off, set the environment variable `TF_ENABLE_ONEDNN_OPTS=0`.\n",
      "2024-03-15 18:25:43.732863: W tensorflow/compiler/xla/stream_executor/platform/default/dso_loader.cc:64] Could not load dynamic library 'libcudart.so.11.0'; dlerror: libcudart.so.11.0: cannot open shared object file: No such file or directory\n",
      "2024-03-15 18:25:43.732872: I tensorflow/compiler/xla/stream_executor/cuda/cudart_stub.cc:29] Ignore above cudart dlerror if you do not have a GPU set up on your machine.\n",
      "2024-03-15 18:25:44.024070: W tensorflow/compiler/xla/stream_executor/platform/default/dso_loader.cc:64] Could not load dynamic library 'libnvinfer.so.7'; dlerror: libnvinfer.so.7: cannot open shared object file: No such file or directory\n",
      "2024-03-15 18:25:44.024105: W tensorflow/compiler/xla/stream_executor/platform/default/dso_loader.cc:64] Could not load dynamic library 'libnvinfer_plugin.so.7'; dlerror: libnvinfer_plugin.so.7: cannot open shared object file: No such file or directory\n",
      "2024-03-15 18:25:44.024108: W tensorflow/compiler/tf2tensorrt/utils/py_utils.cc:38] TF-TRT Warning: Cannot dlopen some TensorRT libraries. If you would like to use Nvidia GPU with TensorRT, please make sure the missing libraries mentioned above are installed properly.\n"
     ]
    }
   ],
   "source": [
    "import numpy as np\n",
    "from keras.models import Sequential, load_model\n",
    "from keras.layers import Dense, Embedding, LSTM, Dropout\n",
    "from keras.utils import to_categorical\n",
    "from random import randint\n",
    "import re"
   ]
  },
  {
   "cell_type": "code",
   "execution_count": 2,
   "id": "6f81092c",
   "metadata": {},
   "outputs": [
    {
     "name": "stderr",
     "output_type": "stream",
     "text": [
      "[nltk_data] Downloading package gutenberg to /home/wjeong/nltk_data...\n"
     ]
    },
    {
     "name": "stdout",
     "output_type": "stream",
     "text": [
      "['austen-emma.txt', 'austen-persuasion.txt', 'austen-sense.txt', 'bible-kjv.txt', 'blake-poems.txt', 'bryant-stories.txt', 'burgess-busterbrown.txt', 'carroll-alice.txt', 'chesterton-ball.txt', 'chesterton-brown.txt', 'chesterton-thursday.txt', 'edgeworth-parents.txt', 'melville-moby_dick.txt', 'milton-paradise.txt', 'shakespeare-caesar.txt', 'shakespeare-hamlet.txt', 'shakespeare-macbeth.txt', 'whitman-leaves.txt']\n"
     ]
    },
    {
     "name": "stderr",
     "output_type": "stream",
     "text": [
      "[nltk_data]   Unzipping corpora/gutenberg.zip.\n"
     ]
    }
   ],
   "source": [
    "import nltk\n",
    "nltk.download('gutenberg')\n",
    "from nltk.corpus import gutenberg as gut\n",
    "\n",
    "print(gut.fileids())"
   ]
  },
  {
   "cell_type": "code",
   "execution_count": 4,
   "id": "a3d14949",
   "metadata": {},
   "outputs": [
    {
     "name": "stdout",
     "output_type": "stream",
     "text": [
      "[The Tragedie of Macbeth by William Shakespeare 1603]\n",
      "\n",
      "\n",
      "Actus Primus. Scoena Prima.\n",
      "\n",
      "Thunder and Lightning. Enter three Witches.\n",
      "\n",
      "  1. When shall we three meet againe?\n",
      "In Thunder, Lightning, or in Raine?\n",
      "  2. When the Hurley-burley's done,\n",
      "When the Battaile's lost, and wonne\n",
      "\n",
      "   3. That will be ere the set of Sunne\n",
      "\n",
      "   1. Where the place?\n",
      "  2. Vpon the Heath\n",
      "\n",
      "   3. There to meet with Macbeth\n",
      "\n",
      "   1. I come, Gray-Malkin\n",
      "\n",
      "   All. Padock calls anon: faire is foule, and foule is faire,\n",
      "Houer through \n"
     ]
    }
   ],
   "source": [
    "macbeth_text = nltk.corpus.gutenberg.raw('shakespeare-macbeth.txt')\n",
    "print(macbeth_text[:500])"
   ]
  },
  {
   "cell_type": "markdown",
   "id": "58a7323c",
   "metadata": {},
   "source": [
    "## 데이터 정제"
   ]
  },
  {
   "cell_type": "code",
   "execution_count": 5,
   "id": "e2aea8a6",
   "metadata": {},
   "outputs": [
    {
     "data": {
      "text/plain": [
       "' the tragedie of macbeth by william shakespeare actus primus scoena prima thunder and lightning enter three witches when shall we three meet againe in thunder lightning or in raine when the hurley burley done when the battaile lost and wonne that will be ere the set of sunne where the place vpon the heath there to meet with macbeth come gray malkin all padock calls anon faire is foule and foule is faire houer through the fogge and filthie ayre exeunt scena secunda alarum within enter king malcom'"
      ]
     },
     "execution_count": 5,
     "metadata": {},
     "output_type": "execute_result"
    }
   ],
   "source": [
    "def preprocess_text(sen):\n",
    "    # Remove punctuations and numbers\n",
    "    sentence = re.sub('[^a-zA-Z]', ' ', sen)\n",
    "\n",
    "    # Single character removal\n",
    "    sentence = re.sub(r\"\\s+[a-zA-Z]\\s+\", ' ', sentence)\n",
    "\n",
    "    # Removing multiple spaces\n",
    "    sentence = re.sub(r'\\s+', ' ', sentence)\n",
    "\n",
    "    return sentence.lower()\n",
    "\n",
    "macbeth_text = preprocess_text(macbeth_text)\n",
    "macbeth_text[:500]"
   ]
  },
  {
   "cell_type": "markdown",
   "id": "32d35871",
   "metadata": {},
   "source": [
    "## 텍스트 인코딩"
   ]
  },
  {
   "cell_type": "code",
   "execution_count": 7,
   "id": "57c9d752",
   "metadata": {},
   "outputs": [
    {
     "name": "stdout",
     "output_type": "stream",
     "text": [
      "Total Words: 17250\n",
      "Unique Words: 3436\n"
     ]
    }
   ],
   "source": [
    "from nltk.tokenize import word_tokenize\n",
    "\n",
    "macbeth_text_words = (word_tokenize(macbeth_text))\n",
    "n_words = len(macbeth_text_words)\n",
    "unique_words = len(set(macbeth_text_words))\n",
    "\n",
    "print('Total Words: %d' % n_words)\n",
    "print('Unique Words: %d' % unique_words)"
   ]
  },
  {
   "cell_type": "code",
   "execution_count": 8,
   "id": "ffda799a",
   "metadata": {},
   "outputs": [
    {
     "name": "stdout",
     "output_type": "stream",
     "text": [
      "comparisons\n",
      "1456\n"
     ]
    }
   ],
   "source": [
    "from keras.preprocessing.text import Tokenizer\n",
    "tokenizer = Tokenizer(num_words=3437)\n",
    "tokenizer.fit_on_texts(macbeth_text_words)\n",
    "\n",
    "vocab_size = len(tokenizer.word_index) + 1\n",
    "word_2_index = tokenizer.word_index\n",
    "\n",
    "print(macbeth_text_words[500])\n",
    "print(word_2_index[macbeth_text_words[500]])"
   ]
  },
  {
   "cell_type": "markdown",
   "id": "08429f9c",
   "metadata": {},
   "source": [
    "## 훈련 데이터 준비"
   ]
  },
  {
   "cell_type": "code",
   "execution_count": 9,
   "id": "3ab2c383",
   "metadata": {},
   "outputs": [
    {
     "name": "stdout",
     "output_type": "stream",
     "text": [
      "[1, 869, 4, 40, 60, 1358, 1359, 408, 1360, 1361, 409, 265, 2, 870, 31, 190, 291, 76, 36, 30, 190, 327, 128, 8, 265, 870, 83, 8, 1362, 76, 1, 1363, 1364, 86, 76, 1, 1365, 354, 2, 871, 5, 34, 14, 168, 1, 292, 4, 649, 77, 1, 220, 41, 1, 872, 53, 3, 327, 12, 40, 52, 1366, 1367, 25, 1368, 873, 328, 355, 9, 410, 2, 410, 9, 355, 1369, 356, 1, 1370, 2, 874, 169, 103, 127, 411, 357, 149, 31, 51, 1371, 329, 107, 12, 358, 412, 875, 1372, 51, 20, 170, 92, 9]\n"
     ]
    }
   ],
   "source": [
    "input_sequence = []\n",
    "output_words = []\n",
    "input_seq_length = 100\n",
    "\n",
    "for i in range(0, n_words - input_seq_length , 1):\n",
    "    in_seq = macbeth_text_words[i:i + input_seq_length]\n",
    "    out_seq = macbeth_text_words[i + input_seq_length]\n",
    "    input_sequence.append([word_2_index[word] for word in in_seq])\n",
    "    output_words.append(word_2_index[out_seq])\n",
    "    \n",
    "print(input_sequence[0])"
   ]
  },
  {
   "cell_type": "code",
   "execution_count": 10,
   "id": "987f0dcd",
   "metadata": {},
   "outputs": [
    {
     "name": "stdout",
     "output_type": "stream",
     "text": [
      "X shape: (17150, 100, 1)\n",
      "y shape: (17150, 3437)\n"
     ]
    }
   ],
   "source": [
    "X = np.reshape(input_sequence, (len(input_sequence), input_seq_length, 1))\n",
    "X = X / float(vocab_size)\n",
    "\n",
    "y = to_categorical(output_words)\n",
    "\n",
    "print(\"X shape:\", X.shape)\n",
    "print(\"y shape:\", y.shape)"
   ]
  },
  {
   "cell_type": "markdown",
   "id": "d8baea92",
   "metadata": {},
   "source": [
    "## 모델 구성"
   ]
  },
  {
   "cell_type": "code",
   "execution_count": 17,
   "id": "4677bcaa",
   "metadata": {},
   "outputs": [
    {
     "name": "stdout",
     "output_type": "stream",
     "text": [
      "Model: \"sequential_2\"\n",
      "_________________________________________________________________\n",
      " Layer (type)                Output Shape              Param #   \n",
      "=================================================================\n",
      " lstm_6 (LSTM)               (None, 100, 100)          40800     \n",
      "                                                                 \n",
      " lstm_7 (LSTM)               (None, 100, 100)          80400     \n",
      "                                                                 \n",
      " lstm_8 (LSTM)               (None, 100)               80400     \n",
      "                                                                 \n",
      " dense_2 (Dense)             (None, 3437)              347137    \n",
      "                                                                 \n",
      "=================================================================\n",
      "Total params: 548,737\n",
      "Trainable params: 548,737\n",
      "Non-trainable params: 0\n",
      "_________________________________________________________________\n"
     ]
    }
   ],
   "source": [
    "model = Sequential()\n",
    "model.add(LSTM(100, input_shape=(X.shape[1], X.shape[2]), return_sequences=True))\n",
    "model.add(LSTM(100, return_sequences=True))\n",
    "model.add(LSTM(100))\n",
    "model.add(Dense(y.shape[1], activation='softmax'))\n",
    "\n",
    "model.summary()\n",
    "\n",
    "model.compile(loss='categorical_crossentropy', optimizer='adam', metrics=['accuracy'])"
   ]
  },
  {
   "cell_type": "markdown",
   "id": "d84616c6",
   "metadata": {},
   "source": [
    "## 모델 훈련"
   ]
  },
  {
   "cell_type": "code",
   "execution_count": 18,
   "id": "98a3a974",
   "metadata": {},
   "outputs": [
    {
     "name": "stdout",
     "output_type": "stream",
     "text": [
      "Epoch 1/100\n",
      "134/134 [==============================] - 25s 168ms/step - loss: 7.0367 - accuracy: 0.0360\n",
      "Epoch 2/100\n",
      "134/134 [==============================] - 22s 165ms/step - loss: 6.6551 - accuracy: 0.0362\n",
      "Epoch 3/100\n",
      "134/134 [==============================] - 22s 163ms/step - loss: 6.6370 - accuracy: 0.0367\n",
      "Epoch 4/100\n",
      "134/134 [==============================] - 22s 164ms/step - loss: 6.6308 - accuracy: 0.0363\n",
      "Epoch 5/100\n",
      "134/134 [==============================] - 22s 165ms/step - loss: 6.6275 - accuracy: 0.0362\n",
      "Epoch 6/100\n",
      "134/134 [==============================] - 22s 167ms/step - loss: 6.6245 - accuracy: 0.0375\n",
      "Epoch 7/100\n",
      "134/134 [==============================] - 23s 171ms/step - loss: 6.6209 - accuracy: 0.0375\n",
      "Epoch 8/100\n",
      "134/134 [==============================] - 23s 169ms/step - loss: 6.6184 - accuracy: 0.0382\n",
      "Epoch 9/100\n",
      "134/134 [==============================] - 22s 167ms/step - loss: 6.6169 - accuracy: 0.0366\n",
      "Epoch 10/100\n",
      "134/134 [==============================] - 22s 168ms/step - loss: 6.6144 - accuracy: 0.0371\n",
      "Epoch 11/100\n",
      "134/134 [==============================] - 22s 166ms/step - loss: 6.6103 - accuracy: 0.0371\n",
      "Epoch 12/100\n",
      "134/134 [==============================] - 22s 167ms/step - loss: 6.6104 - accuracy: 0.0359\n",
      "Epoch 13/100\n",
      "134/134 [==============================] - 23s 169ms/step - loss: 6.6065 - accuracy: 0.0371\n",
      "Epoch 14/100\n",
      "134/134 [==============================] - 22s 166ms/step - loss: 6.6029 - accuracy: 0.0379\n",
      "Epoch 15/100\n",
      "134/134 [==============================] - 22s 166ms/step - loss: 6.5994 - accuracy: 0.0370\n",
      "Epoch 16/100\n",
      "134/134 [==============================] - 23s 170ms/step - loss: 6.5959 - accuracy: 0.0398\n",
      "Epoch 17/100\n",
      "134/134 [==============================] - 22s 167ms/step - loss: 6.5867 - accuracy: 0.0403\n",
      "Epoch 18/100\n",
      "134/134 [==============================] - 22s 165ms/step - loss: 6.5688 - accuracy: 0.0416\n",
      "Epoch 19/100\n",
      "134/134 [==============================] - 22s 166ms/step - loss: 6.5464 - accuracy: 0.0425\n",
      "Epoch 20/100\n",
      "134/134 [==============================] - 22s 166ms/step - loss: 6.5182 - accuracy: 0.0433\n",
      "Epoch 21/100\n",
      "134/134 [==============================] - 22s 165ms/step - loss: 6.4849 - accuracy: 0.0424\n",
      "Epoch 22/100\n",
      "134/134 [==============================] - 22s 168ms/step - loss: 6.4473 - accuracy: 0.0432\n",
      "Epoch 23/100\n",
      "134/134 [==============================] - 22s 167ms/step - loss: 6.4128 - accuracy: 0.0436\n",
      "Epoch 24/100\n",
      "134/134 [==============================] - 22s 166ms/step - loss: 6.3774 - accuracy: 0.0430\n",
      "Epoch 25/100\n",
      "134/134 [==============================] - 22s 164ms/step - loss: 6.3424 - accuracy: 0.0443\n",
      "Epoch 26/100\n",
      "134/134 [==============================] - 22s 166ms/step - loss: 6.3086 - accuracy: 0.0442\n",
      "Epoch 27/100\n",
      "134/134 [==============================] - 22s 166ms/step - loss: 6.2724 - accuracy: 0.0439\n",
      "Epoch 28/100\n",
      "134/134 [==============================] - 22s 165ms/step - loss: 6.2388 - accuracy: 0.0443\n",
      "Epoch 29/100\n",
      "134/134 [==============================] - 22s 163ms/step - loss: 6.2031 - accuracy: 0.0446\n",
      "Epoch 30/100\n",
      "134/134 [==============================] - 22s 163ms/step - loss: 6.1671 - accuracy: 0.0443\n",
      "Epoch 31/100\n",
      "134/134 [==============================] - 22s 164ms/step - loss: 6.1327 - accuracy: 0.0448\n",
      "Epoch 32/100\n",
      "134/134 [==============================] - 22s 167ms/step - loss: 6.0979 - accuracy: 0.0451\n",
      "Epoch 33/100\n",
      "134/134 [==============================] - 22s 167ms/step - loss: 6.0624 - accuracy: 0.0461\n",
      "Epoch 34/100\n",
      "134/134 [==============================] - 23s 168ms/step - loss: 6.0302 - accuracy: 0.0458\n",
      "Epoch 35/100\n",
      "134/134 [==============================] - 22s 165ms/step - loss: 5.9954 - accuracy: 0.0457\n",
      "Epoch 36/100\n",
      "134/134 [==============================] - 22s 164ms/step - loss: 5.9613 - accuracy: 0.0454\n",
      "Epoch 37/100\n",
      "134/134 [==============================] - 22s 165ms/step - loss: 5.9269 - accuracy: 0.0446\n",
      "Epoch 38/100\n",
      "134/134 [==============================] - 22s 164ms/step - loss: 5.8962 - accuracy: 0.0456\n",
      "Epoch 39/100\n",
      "134/134 [==============================] - 22s 164ms/step - loss: 5.8604 - accuracy: 0.0457\n",
      "Epoch 40/100\n",
      "134/134 [==============================] - 22s 166ms/step - loss: 5.8268 - accuracy: 0.0454\n",
      "Epoch 41/100\n",
      "134/134 [==============================] - 22s 165ms/step - loss: 5.7946 - accuracy: 0.0463\n",
      "Epoch 42/100\n",
      "134/134 [==============================] - 22s 164ms/step - loss: 5.7613 - accuracy: 0.0456\n",
      "Epoch 43/100\n",
      "134/134 [==============================] - 22s 165ms/step - loss: 5.7290 - accuracy: 0.0459\n",
      "Epoch 44/100\n",
      "134/134 [==============================] - 22s 164ms/step - loss: 5.6959 - accuracy: 0.0465\n",
      "Epoch 45/100\n",
      "134/134 [==============================] - 22s 164ms/step - loss: 5.6620 - accuracy: 0.0454\n",
      "Epoch 46/100\n",
      "134/134 [==============================] - 22s 166ms/step - loss: 5.6327 - accuracy: 0.0465\n",
      "Epoch 47/100\n",
      "134/134 [==============================] - 22s 167ms/step - loss: 5.5980 - accuracy: 0.0468\n",
      "Epoch 48/100\n",
      "134/134 [==============================] - 22s 166ms/step - loss: 5.5657 - accuracy: 0.0475\n",
      "Epoch 49/100\n",
      "134/134 [==============================] - 22s 166ms/step - loss: 5.5345 - accuracy: 0.0469\n",
      "Epoch 50/100\n",
      "134/134 [==============================] - 22s 164ms/step - loss: 5.5033 - accuracy: 0.0471\n",
      "Epoch 51/100\n",
      "134/134 [==============================] - 22s 165ms/step - loss: 5.4732 - accuracy: 0.0475\n",
      "Epoch 52/100\n",
      "134/134 [==============================] - 22s 165ms/step - loss: 5.4425 - accuracy: 0.0481\n",
      "Epoch 53/100\n",
      "134/134 [==============================] - 22s 167ms/step - loss: 5.4107 - accuracy: 0.0477\n",
      "Epoch 54/100\n",
      "134/134 [==============================] - 22s 165ms/step - loss: 5.3798 - accuracy: 0.0481\n",
      "Epoch 55/100\n",
      "134/134 [==============================] - 23s 168ms/step - loss: 5.3508 - accuracy: 0.0480\n",
      "Epoch 56/100\n",
      "134/134 [==============================] - 22s 165ms/step - loss: 5.3226 - accuracy: 0.0490\n",
      "Epoch 57/100\n",
      "134/134 [==============================] - 22s 164ms/step - loss: 5.2927 - accuracy: 0.0494\n",
      "Epoch 58/100\n",
      "134/134 [==============================] - 22s 165ms/step - loss: 5.2622 - accuracy: 0.0490\n",
      "Epoch 59/100\n",
      "134/134 [==============================] - 22s 164ms/step - loss: 5.2337 - accuracy: 0.0506\n",
      "Epoch 60/100\n",
      "134/134 [==============================] - 22s 164ms/step - loss: 5.2084 - accuracy: 0.0501\n",
      "Epoch 61/100\n",
      "134/134 [==============================] - 22s 164ms/step - loss: 5.1777 - accuracy: 0.0523\n",
      "Epoch 62/100\n",
      "134/134 [==============================] - 22s 165ms/step - loss: 5.1515 - accuracy: 0.0523\n",
      "Epoch 63/100\n",
      "134/134 [==============================] - 22s 167ms/step - loss: 5.1263 - accuracy: 0.0528\n",
      "Epoch 64/100\n",
      "134/134 [==============================] - 23s 169ms/step - loss: 5.0978 - accuracy: 0.0548\n",
      "Epoch 65/100\n",
      "134/134 [==============================] - 22s 165ms/step - loss: 5.0766 - accuracy: 0.0573\n",
      "Epoch 66/100\n",
      "134/134 [==============================] - 22s 167ms/step - loss: 5.0455 - accuracy: 0.0592\n",
      "Epoch 67/100\n",
      "134/134 [==============================] - 22s 164ms/step - loss: 5.0223 - accuracy: 0.0614\n",
      "Epoch 68/100\n",
      "134/134 [==============================] - 22s 164ms/step - loss: 4.9954 - accuracy: 0.0629\n",
      "Epoch 69/100\n",
      "134/134 [==============================] - 22s 164ms/step - loss: 4.9706 - accuracy: 0.0655\n",
      "Epoch 70/100\n",
      "134/134 [==============================] - 22s 168ms/step - loss: 4.9465 - accuracy: 0.0685\n",
      "Epoch 71/100\n",
      "134/134 [==============================] - 22s 167ms/step - loss: 4.9263 - accuracy: 0.0726\n",
      "Epoch 72/100\n",
      "134/134 [==============================] - 22s 165ms/step - loss: 4.8982 - accuracy: 0.0772\n",
      "Epoch 73/100\n",
      "134/134 [==============================] - 22s 166ms/step - loss: 4.8735 - accuracy: 0.0785\n",
      "Epoch 74/100\n",
      "134/134 [==============================] - 22s 164ms/step - loss: 4.8510 - accuracy: 0.0838\n",
      "Epoch 75/100\n",
      "134/134 [==============================] - 22s 168ms/step - loss: 4.8287 - accuracy: 0.0885\n",
      "Epoch 76/100\n",
      "134/134 [==============================] - 22s 166ms/step - loss: 4.8064 - accuracy: 0.0906\n",
      "Epoch 77/100\n",
      "134/134 [==============================] - 22s 165ms/step - loss: 4.7819 - accuracy: 0.0954\n",
      "Epoch 78/100\n",
      "134/134 [==============================] - 22s 164ms/step - loss: 5.0964 - accuracy: 0.0804\n",
      "Epoch 79/100\n"
     ]
    },
    {
     "name": "stdout",
     "output_type": "stream",
     "text": [
      "134/134 [==============================] - 22s 164ms/step - loss: 4.9940 - accuracy: 0.0654\n",
      "Epoch 80/100\n",
      "134/134 [==============================] - 22s 165ms/step - loss: 4.8816 - accuracy: 0.0762\n",
      "Epoch 81/100\n",
      "134/134 [==============================] - 22s 167ms/step - loss: 4.8473 - accuracy: 0.0827\n",
      "Epoch 82/100\n",
      "134/134 [==============================] - 22s 165ms/step - loss: 4.8172 - accuracy: 0.0889\n",
      "Epoch 83/100\n",
      "134/134 [==============================] - 22s 163ms/step - loss: 4.7940 - accuracy: 0.0935\n",
      "Epoch 84/100\n",
      "134/134 [==============================] - 22s 165ms/step - loss: 4.7715 - accuracy: 0.0983\n",
      "Epoch 85/100\n",
      "134/134 [==============================] - 22s 165ms/step - loss: 4.7511 - accuracy: 0.1013\n",
      "Epoch 86/100\n",
      "134/134 [==============================] - 22s 166ms/step - loss: 4.7323 - accuracy: 0.1030\n",
      "Epoch 87/100\n",
      "134/134 [==============================] - 22s 164ms/step - loss: 4.7101 - accuracy: 0.1084\n",
      "Epoch 88/100\n",
      "134/134 [==============================] - 22s 163ms/step - loss: 4.6918 - accuracy: 0.1116\n",
      "Epoch 89/100\n",
      "134/134 [==============================] - 22s 164ms/step - loss: 4.6772 - accuracy: 0.1118\n",
      "Epoch 90/100\n",
      "134/134 [==============================] - 22s 165ms/step - loss: 4.6539 - accuracy: 0.1164\n",
      "Epoch 91/100\n",
      "134/134 [==============================] - 22s 166ms/step - loss: 4.6381 - accuracy: 0.1203\n",
      "Epoch 92/100\n",
      "134/134 [==============================] - 22s 165ms/step - loss: 4.6187 - accuracy: 0.1212\n",
      "Epoch 93/100\n",
      "134/134 [==============================] - 22s 164ms/step - loss: 4.5985 - accuracy: 0.1254\n",
      "Epoch 94/100\n",
      "134/134 [==============================] - 22s 164ms/step - loss: 4.5809 - accuracy: 0.1282\n",
      "Epoch 95/100\n",
      "134/134 [==============================] - 22s 164ms/step - loss: 4.5615 - accuracy: 0.1314\n",
      "Epoch 96/100\n",
      "134/134 [==============================] - 22s 165ms/step - loss: 4.5447 - accuracy: 0.1336\n",
      "Epoch 97/100\n",
      "134/134 [==============================] - 22s 164ms/step - loss: 4.5281 - accuracy: 0.1356\n",
      "Epoch 98/100\n",
      "134/134 [==============================] - 22s 165ms/step - loss: 4.5114 - accuracy: 0.1404\n",
      "Epoch 99/100\n",
      "134/134 [==============================] - 22s 166ms/step - loss: 4.4955 - accuracy: 0.1414\n",
      "Epoch 100/100\n",
      "134/134 [==============================] - 22s 165ms/step - loss: 4.4791 - accuracy: 0.1436\n"
     ]
    }
   ],
   "source": [
    "history = model.fit(X, y, batch_size=128, epochs=100, verbose=1)"
   ]
  },
  {
   "cell_type": "code",
   "execution_count": 19,
   "id": "6282284f",
   "metadata": {},
   "outputs": [
    {
     "name": "stdout",
     "output_type": "stream",
     "text": [
      "dict_keys(['loss', 'accuracy'])\n"
     ]
    },
    {
     "data": {
      "image/png": "[encoded data removed]",
      "text/plain": [
       "<Figure size 640x480 with 1 Axes>"
      ]
     },
     "metadata": {},
     "output_type": "display_data"
    },
    {
     "data": {
      "image/png": "[encoded data removed]",
      "text/plain": [
       "<Figure size 640x480 with 1 Axes>"
      ]
     },
     "metadata": {},
     "output_type": "display_data"
    }
   ],
   "source": [
    "import matplotlib.pyplot as plt\n",
    "%matplotlib inline\n",
    "\n",
    "print(history.history.keys())\n",
    "\n",
    "plt.plot(history.history['loss'])\n",
    "plt.xlabel('epoch')\n",
    "plt.ylabel('loss')\n",
    "plt.title('Model training history: loss')\n",
    "plt.legend(['loss'], loc='upper right')\n",
    "plt.show()\n",
    "\n",
    "plt.plot(history.history['accuracy'])\n",
    "plt.xlabel('epoch')\n",
    "plt.ylabel('accuracy')\n",
    "plt.title('Model training history: accuracy')\n",
    "plt.legend(['accuracy'], loc='upper right')\n",
    "plt.show()"
   ]
  },
  {
   "cell_type": "markdown",
   "id": "1549a66a",
   "metadata": {},
   "source": [
    "## 텍스트 생성\n",
    "\n",
    "입력 텍스트를 선택합니다."
   ]
  },
  {
   "cell_type": "code",
   "execution_count": 20,
   "id": "2694c665",
   "metadata": {},
   "outputs": [
    {
     "name": "stdout",
     "output_type": "stream",
     "text": [
      "how much is done exeunt scaena quarta banquet prepar enter macbeth lady rosse lenox lords and attendants macb you know your owne degrees sit downe at first and last the hearty welcome lords thankes to your maiesty macb our selfe will mingle with society and play the humble host our hostesse keepes her state but in best time we will require her welcome la pronounce it for me sir to all our friends for my heart speakes they are welcome enter first murtherer macb see they encounter thee with their harts thanks both sides are euen heere ile sit th\n"
     ]
    }
   ],
   "source": [
    "random_seq_index = np.random.randint(0, len(input_sequence)-1)\n",
    "random_seq = input_sequence[random_seq_index]\n",
    "\n",
    "index_2_word = dict(map(reversed, word_2_index.items()))\n",
    "\n",
    "word_sequence = [index_2_word[value] for value in random_seq]\n",
    "\n",
    "print(' '.join(word_sequence))"
   ]
  },
  {
   "cell_type": "markdown",
   "id": "008f4b6e",
   "metadata": {},
   "source": [
    "예측 결과와 비교하기 위하여 입력 데이터 이후의 단어 100개를 출력합니다."
   ]
  },
  {
   "cell_type": "code",
   "execution_count": 28,
   "id": "673c55b1",
   "metadata": {},
   "outputs": [
    {
     "name": "stdout",
     "output_type": "stream",
     "text": [
      "mid st be large in mirth anon wee drinke measure the table round there blood vpon thy face mur tis banquo then macb tis better thee without then he within is he dispatch mur my lord his throat is cut that did for him mac thou art the best th cut throats yet hee good that did the like for fleans if thou did st it thou art the non pareill mur most royall sir fleans is scap macb then comes my fit againe had else beene perfect whole as the marble founded as the rocke as broad and generall\n"
     ]
    }
   ],
   "source": [
    "random_seq_2 = input_sequence[random_seq_index+100]\n",
    "word_sequence_2 = [index_2_word[value] for value in random_seq_2]\n",
    "\n",
    "print(' '.join(word_sequence_2))"
   ]
  },
  {
   "cell_type": "markdown",
   "id": "0d563a39",
   "metadata": {},
   "source": [
    "입력 데이터 이후의 단어 100개를 생성합니다."
   ]
  },
  {
   "cell_type": "code",
   "execution_count": 29,
   "id": "ea57de52",
   "metadata": {},
   "outputs": [
    {
     "name": "stdout",
     "output_type": "stream",
     "text": [
      " how much is done exeunt scaena quarta banquet prepar enter macbeth lady rosse lenox lords and attendants macb you know your owne degrees sit downe at first and last the hearty welcome lords thankes to your maiesty macb our selfe will mingle with society and play the humble host our hostesse keepes her state but in best time we will require her welcome la pronounce it for me sir to all our friends for my heart speakes they are welcome enter first murtherer macb see they encounter thee with their harts thanks both sides are euen heere ile sit th mid and the titles of the the deuoure of the the deuoure of the the deuoure of the the deuoure of the the deuoure of the the deuoure of the the deuoure of the the deuoure of the the deuoure of the the deuoure of the the deuoure of the the deuoure of the the deuoure of the the deuoure of the the deuoure of the the deuoure of the the deuoure of the the deuoure of the the deuoure of the the deuoure of the the deuoure of the the deuoure of the the deuoure of the the deuoure of the the deuoure of the the deuoure of the the deuoure of the the deuoure of the the deuoure of the the deuoure of the the deuoure of the the deuoure of the the deuoure of the the deuoure of the the deuoure of the the deuoure of the the deuoure of the the deuoure of the the deuoure of the the deuoure of the the deuoure of the the deuoure of the the deuoure of the the deuoure of the the deuoure of the the deuoure of the the deuoure of the the deuoure of the the deuoure\n"
     ]
    }
   ],
   "source": [
    "for i in range(100):\n",
    "    int_sample = np.reshape(random_seq, (1, len(random_seq), 1))\n",
    "    int_sample = int_sample / float(vocab_size)\n",
    "\n",
    "    predicted_word_index = model.predict(int_sample, verbose=0)\n",
    "\n",
    "    predicted_word_id = np.argmax(predicted_word_index)\n",
    "    seq_in = [index_2_word[index] for index in random_seq]\n",
    "\n",
    "    word_sequence.append(index_2_word[ predicted_word_id])\n",
    "\n",
    "    random_seq.append(predicted_word_id)\n",
    "    random_seq = random_seq[1:len(random_seq)]\n",
    "    \n",
    "final_output = \"\"\n",
    "for word in word_sequence:\n",
    "    final_output = final_output + \" \" + word\n",
    "\n",
    "print(final_output)"
   ]
  },
  {
   "cell_type": "code",
   "execution_count": null,
   "id": "8bf63a1e",
   "metadata": {},
   "outputs": [],
   "source": []
  }
 ],
 "metadata": {
  "kernelspec": {
   "display_name": "Python 3 (ipykernel)",
   "language": "python",
   "name": "python3"
  },
  "language_info": {
   "codemirror_mode": {
    "name": "ipython",
    "version": 3
   },
   "file_extension": ".py",
   "mimetype": "text/x-python",
   "name": "python",
   "nbconvert_exporter": "python",
   "pygments_lexer": "ipython3",
   "version": "3.9.13"
  }
 },
 "nbformat": 4,
 "nbformat_minor": 5
}
