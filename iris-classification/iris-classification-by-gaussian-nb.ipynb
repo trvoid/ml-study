{
 "cells": [
  {
   "cell_type": "markdown",
   "metadata": {},
   "source": [
    "# 붓꽃 분류 - Gaussian Naive Bayes 모델\n",
    "\n",
    "이 글에서는 붓꽃의 꼳받침과 꽃잎의 특징을 사용하여 어떻게 꽃의 종류를 예측할 수 있는지 베이지안 추론 방식으로 보여줍니다. 이 글의 전개 과정은 아래와 같습니다. \n",
    "\n",
    "1. 붓꽃 데이터 세트를 준비합니다.\n",
    "2. 꽃 종류별로 측정값의 히스토그램을 그려서 분포를 확인합니다.\n",
    "3. 꽃 종류에 따라서 측정값이 어떻게 달라질 수 있는지 설명하는 모델을 정의합니다.\n",
    "4. 측정값이 주어질 때 꽃의 종류를 예측하는 분류기를 구현합니다.\n",
    "5. 데이터 세트를 훈련 데이터와 검증 데이터로 나누어 훈련 데이터로 모델을 훈련시키고 검증 데이터로 분류기의 예측 성능을 구합니다."
   ]
  },
  {
   "cell_type": "markdown",
   "metadata": {},
   "source": [
    "## 라이브러리 준비\n",
    "\n",
    "사용할 파이썬 라이브러리들을 임포트합니다."
   ]
  },
  {
   "cell_type": "code",
   "execution_count": 1,
   "metadata": {},
   "outputs": [],
   "source": [
    "from collections import defaultdict\n",
    "import numpy as np\n",
    "import pandas as pd\n",
    "from sklearn.datasets import load_iris\n",
    "from sklearn.model_selection import train_test_split\n",
    "from scipy.stats import norm\n",
    "import matplotlib.pyplot as plt\n",
    "\n",
    "%matplotlib inline\n",
    "\n",
    "np.set_printoptions(precision=6)\n",
    "np.random.seed(7)"
   ]
  },
  {
   "cell_type": "markdown",
   "metadata": {},
   "source": [
    "## 데이터 준비\n",
    "\n",
    "**scikit-learn**에서 제공하는 API `load_iris()`를 사용하여 Iris 데이터 세트를 준비합니다.\n",
    "\n",
    "* 붓꽃 세 종류에 대하여 종류별로 50개의 측정 데이터를 가짐\n",
    "  * 꽃 종류: setosa, versicolor, virginica\n",
    "  * 측정 데이터 열: 꽃받침 길이, 꽃받침 넓이, 꽃잎 길이, 꽃잎 넓이"
   ]
  },
  {
   "cell_type": "markdown",
   "metadata": {},
   "source": [
    "### 데이터 읽기"
   ]
  },
  {
   "cell_type": "code",
   "execution_count": 2,
   "metadata": {},
   "outputs": [
    {
     "name": "stdout",
     "output_type": "stream",
     "text": [
      "['setosa' 'versicolor' 'virginica']\n",
      "['sepal length (cm)', 'sepal width (cm)', 'petal length (cm)', 'petal width (cm)']\n"
     ]
    }
   ],
   "source": [
    "ds_iris = load_iris()\n",
    "\n",
    "print(ds_iris.target_names)\n",
    "print(ds_iris.feature_names)"
   ]
  },
  {
   "cell_type": "markdown",
   "metadata": {},
   "source": [
    "데이터 앞부분의 내용은 다음과 같습니다."
   ]
  },
  {
   "cell_type": "code",
   "execution_count": 3,
   "metadata": {},
   "outputs": [
    {
     "data": {
      "text/html": [
       "<div>\n",
       "<style scoped>\n",
       "    .dataframe tbody tr th:only-of-type {\n",
       "        vertical-align: middle;\n",
       "    }\n",
       "\n",
       "    .dataframe tbody tr th {\n",
       "        vertical-align: top;\n",
       "    }\n",
       "\n",
       "    .dataframe thead th {\n",
       "        text-align: right;\n",
       "    }\n",
       "</style>\n",
       "<table border=\"1\" class=\"dataframe\">\n",
       "  <thead>\n",
       "    <tr style=\"text-align: right;\">\n",
       "      <th></th>\n",
       "      <th>sepal length (cm)</th>\n",
       "      <th>sepal width (cm)</th>\n",
       "      <th>petal length (cm)</th>\n",
       "      <th>petal width (cm)</th>\n",
       "    </tr>\n",
       "  </thead>\n",
       "  <tbody>\n",
       "    <tr>\n",
       "      <th>0</th>\n",
       "      <td>5.1</td>\n",
       "      <td>3.5</td>\n",
       "      <td>1.4</td>\n",
       "      <td>0.2</td>\n",
       "    </tr>\n",
       "    <tr>\n",
       "      <th>1</th>\n",
       "      <td>4.9</td>\n",
       "      <td>3.0</td>\n",
       "      <td>1.4</td>\n",
       "      <td>0.2</td>\n",
       "    </tr>\n",
       "    <tr>\n",
       "      <th>2</th>\n",
       "      <td>4.7</td>\n",
       "      <td>3.2</td>\n",
       "      <td>1.3</td>\n",
       "      <td>0.2</td>\n",
       "    </tr>\n",
       "    <tr>\n",
       "      <th>3</th>\n",
       "      <td>4.6</td>\n",
       "      <td>3.1</td>\n",
       "      <td>1.5</td>\n",
       "      <td>0.2</td>\n",
       "    </tr>\n",
       "    <tr>\n",
       "      <th>4</th>\n",
       "      <td>5.0</td>\n",
       "      <td>3.6</td>\n",
       "      <td>1.4</td>\n",
       "      <td>0.2</td>\n",
       "    </tr>\n",
       "  </tbody>\n",
       "</table>\n",
       "</div>"
      ],
      "text/plain": [
       "   sepal length (cm)  sepal width (cm)  petal length (cm)  petal width (cm)\n",
       "0                5.1               3.5                1.4               0.2\n",
       "1                4.9               3.0                1.4               0.2\n",
       "2                4.7               3.2                1.3               0.2\n",
       "3                4.6               3.1                1.5               0.2\n",
       "4                5.0               3.6                1.4               0.2"
      ]
     },
     "execution_count": 3,
     "metadata": {},
     "output_type": "execute_result"
    }
   ],
   "source": [
    "df_data = pd.DataFrame(ds_iris.data, columns=ds_iris.feature_names)\n",
    "df_data.head()"
   ]
  },
  {
   "cell_type": "markdown",
   "metadata": {},
   "source": [
    "## 데이터 탐색\n",
    "\n",
    "### 데이터 통계"
   ]
  },
  {
   "cell_type": "code",
   "execution_count": 4,
   "metadata": {},
   "outputs": [
    {
     "data": {
      "text/html": [
       "<div>\n",
       "<style scoped>\n",
       "    .dataframe tbody tr th:only-of-type {\n",
       "        vertical-align: middle;\n",
       "    }\n",
       "\n",
       "    .dataframe tbody tr th {\n",
       "        vertical-align: top;\n",
       "    }\n",
       "\n",
       "    .dataframe thead th {\n",
       "        text-align: right;\n",
       "    }\n",
       "</style>\n",
       "<table border=\"1\" class=\"dataframe\">\n",
       "  <thead>\n",
       "    <tr style=\"text-align: right;\">\n",
       "      <th></th>\n",
       "      <th>sepal length (cm)</th>\n",
       "      <th>sepal width (cm)</th>\n",
       "      <th>petal length (cm)</th>\n",
       "      <th>petal width (cm)</th>\n",
       "    </tr>\n",
       "  </thead>\n",
       "  <tbody>\n",
       "    <tr>\n",
       "      <th>count</th>\n",
       "      <td>150.000000</td>\n",
       "      <td>150.000000</td>\n",
       "      <td>150.000000</td>\n",
       "      <td>150.000000</td>\n",
       "    </tr>\n",
       "    <tr>\n",
       "      <th>mean</th>\n",
       "      <td>5.843333</td>\n",
       "      <td>3.057333</td>\n",
       "      <td>3.758000</td>\n",
       "      <td>1.199333</td>\n",
       "    </tr>\n",
       "    <tr>\n",
       "      <th>std</th>\n",
       "      <td>0.828066</td>\n",
       "      <td>0.435866</td>\n",
       "      <td>1.765298</td>\n",
       "      <td>0.762238</td>\n",
       "    </tr>\n",
       "    <tr>\n",
       "      <th>min</th>\n",
       "      <td>4.300000</td>\n",
       "      <td>2.000000</td>\n",
       "      <td>1.000000</td>\n",
       "      <td>0.100000</td>\n",
       "    </tr>\n",
       "    <tr>\n",
       "      <th>25%</th>\n",
       "      <td>5.100000</td>\n",
       "      <td>2.800000</td>\n",
       "      <td>1.600000</td>\n",
       "      <td>0.300000</td>\n",
       "    </tr>\n",
       "    <tr>\n",
       "      <th>50%</th>\n",
       "      <td>5.800000</td>\n",
       "      <td>3.000000</td>\n",
       "      <td>4.350000</td>\n",
       "      <td>1.300000</td>\n",
       "    </tr>\n",
       "    <tr>\n",
       "      <th>75%</th>\n",
       "      <td>6.400000</td>\n",
       "      <td>3.300000</td>\n",
       "      <td>5.100000</td>\n",
       "      <td>1.800000</td>\n",
       "    </tr>\n",
       "    <tr>\n",
       "      <th>max</th>\n",
       "      <td>7.900000</td>\n",
       "      <td>4.400000</td>\n",
       "      <td>6.900000</td>\n",
       "      <td>2.500000</td>\n",
       "    </tr>\n",
       "  </tbody>\n",
       "</table>\n",
       "</div>"
      ],
      "text/plain": [
       "       sepal length (cm)  sepal width (cm)  petal length (cm)  \\\n",
       "count         150.000000        150.000000         150.000000   \n",
       "mean            5.843333          3.057333           3.758000   \n",
       "std             0.828066          0.435866           1.765298   \n",
       "min             4.300000          2.000000           1.000000   \n",
       "25%             5.100000          2.800000           1.600000   \n",
       "50%             5.800000          3.000000           4.350000   \n",
       "75%             6.400000          3.300000           5.100000   \n",
       "max             7.900000          4.400000           6.900000   \n",
       "\n",
       "       petal width (cm)  \n",
       "count        150.000000  \n",
       "mean           1.199333  \n",
       "std            0.762238  \n",
       "min            0.100000  \n",
       "25%            0.300000  \n",
       "50%            1.300000  \n",
       "75%            1.800000  \n",
       "max            2.500000  "
      ]
     },
     "execution_count": 4,
     "metadata": {},
     "output_type": "execute_result"
    }
   ],
   "source": [
    "df_data.describe()"
   ]
  },
  {
   "cell_type": "markdown",
   "metadata": {},
   "source": [
    "### 꽃 종류별 측정값의 히스토그램\n",
    "\n",
    "꽃 종류별로 측정값의 히스토그램을 그립니다. 이것을 참고하여 꽃 종류에 따라 측정값이 어떤 분포를 따르는지 정의할 수 있습니다."
   ]
  },
  {
   "cell_type": "code",
   "execution_count": 5,
   "metadata": {},
   "outputs": [
    {
     "data": {
      "image/png": "[encoded data removed]",
      "text/plain": [
       "<Figure size 1152x288 with 4 Axes>"
      ]
     },
     "metadata": {
      "needs_background": "light"
     },
     "output_type": "display_data"
    },
    {
     "data": {
      "image/png": "[encoded data removed]",
      "text/plain": [
       "<Figure size 1152x288 with 4 Axes>"
      ]
     },
     "metadata": {
      "needs_background": "light"
     },
     "output_type": "display_data"
    },
    {
     "data": {
      "image/png": "[encoded data removed]",
      "text/plain": [
       "<Figure size 1152x288 with 4 Axes>"
      ]
     },
     "metadata": {
      "needs_background": "light"
     },
     "output_type": "display_data"
    }
   ],
   "source": [
    "def separate_by_targets(X, y):\n",
    "    separated = defaultdict(lambda: [])\n",
    "    \n",
    "    row_count = X.shape[0]\n",
    "    for row in np.arange(row_count):\n",
    "        measured = X[row, :]\n",
    "        target = y[row]\n",
    "        separated[target].append(measured)\n",
    "    \n",
    "    for target in separated.keys():\n",
    "        separated[target] = np.array(separated[target])\n",
    "        \n",
    "    return separated\n",
    "\n",
    "def plot_feature_histograms_for_a_target(separated, target, feature_names, target_name):\n",
    "    ds_measured = separated[target]\n",
    "    \n",
    "    fig = plt.figure(figsize = (16,4))\n",
    "    fig.suptitle(f'feature histograms for a target: {target_name}')\n",
    "    for col in np.arange(len(feature_names)):\n",
    "        plt.subplot(141 + col)\n",
    "        plt.hist(ds_measured[:, col], bins=24, range=(0, 8))\n",
    "        plt.ylim(0, 45)\n",
    "        plt.grid(True)\n",
    "        plt.xlabel('measured')\n",
    "        plt.ylabel('frequency')\n",
    "        plt.title(feature_names[col])\n",
    "    \n",
    "    plt.show()\n",
    "    \n",
    "separated = separate_by_targets(ds_iris.data, ds_iris.target)\n",
    "for target in np.arange(len(separated.keys())):\n",
    "    feature_names = ds_iris.feature_names\n",
    "    target_name = ds_iris.target_names[target]\n",
    "    plot_feature_histograms_for_a_target(separated, target, feature_names, target_name)"
   ]
  },
  {
   "cell_type": "markdown",
   "metadata": {},
   "source": [
    "### 꽃 종류별 측정값의 상자그림\n",
    "\n",
    "꽃 종류에 따라 측정값의 통계가 어떻게 달라지는지 더 명확하게 파악하기 위하여 꽃 종류별로 측정값의 상자그림을 그려봅니다."
   ]
  },
  {
   "cell_type": "code",
   "execution_count": 6,
   "metadata": {},
   "outputs": [
    {
     "data": {
      "image/png": "[encoded data removed]",
      "text/plain": [
       "<Figure size 1152x288 with 4 Axes>"
      ]
     },
     "metadata": {
      "needs_background": "light"
     },
     "output_type": "display_data"
    }
   ],
   "source": [
    "plt.figure(figsize = (16,4))\n",
    "plt.suptitle('box plots of features')\n",
    "for col in np.arange(len(ds_iris.feature_names)):\n",
    "    plt.subplot(141 + col)\n",
    "    data_for_boxplot = []\n",
    "    labels = []\n",
    "    for target in np.arange(len(separated.keys())):\n",
    "        data_for_boxplot.append(separated[target][:, col])\n",
    "        labels.append(ds_iris.target_names[target])\n",
    "    plt.boxplot(data_for_boxplot, labels = labels)\n",
    "    plt.ylim(0.0, 8.0)\n",
    "    plt.grid(True)\n",
    "    plt.xlabel('target')\n",
    "    plt.ylabel('measured')\n",
    "    plt.title(f'{ds_iris.feature_names[col]}')\n",
    "plt.show()"
   ]
  },
  {
   "cell_type": "markdown",
   "metadata": {},
   "source": [
    "위의 상자그림들로부터 **setosa**는 꽃잎 길이나 넓이 측정값만으로 나머지 두 가지 꽃 종류와 완전하게 구분될 수 있음을 알 수 있습니다."
   ]
  },
  {
   "cell_type": "markdown",
   "metadata": {},
   "source": [
    "## 모델 정의\n",
    "\n",
    "**꽃 종류에 따른 측정값의 분포**를 설명하기 위하여 모델을 정의합니다. 여기에서는 꽃 종류가 주어질 때 측정을 수행하여 얻는 값들의 발생 가능성은 아래의 분포를 따른다고 가정합니다.\n",
    "\n",
    "* 조사대상군으로부터 수집한 데이터에서 구한 꽃 종류별 측정값 평균과 표준편차를 사용하는 정규분포\n",
    "\n",
    "예를 들어 꽃 종류가 **setosa**일 때 꽃받침 길이에 해당하는 값들의 발생 가능성이 어떻게 분포하는지는 아래의 방법으로 구합니다.\n",
    "\n",
    "1. 데이터 세트에서 **setosa**에 해당하는 것들만 따로 모읍니다.\n",
    "2. 꽃받침 길이 값들의 평균과 표준편차를 구합니다.\n",
    "3. 위에서 구한 평균과 표준편차를 사용하는 정규분포를 그립니다. \n",
    "\n",
    "이제 꽃 종류별 측정값 평균과 표준편차를 구하여 테이블 형태로 저장합니다."
   ]
  },
  {
   "cell_type": "code",
   "execution_count": 7,
   "metadata": {},
   "outputs": [],
   "source": [
    "def get_norm_params(separated):\n",
    "    targets = separated.keys()\n",
    "    target_count = len(targets)\n",
    "    feature_count = separated[0].shape[1]\n",
    "\n",
    "    thetas = np.zeros((target_count, feature_count))\n",
    "    sigmas = np.zeros((target_count, feature_count))\n",
    "    \n",
    "    for target in targets:\n",
    "        ds_measured = separated[target]\n",
    "        thetas[target,:] = np.mean(ds_measured, axis=0)\n",
    "        sigmas[target,:] = np.std(ds_measured, axis=0)\n",
    "        \n",
    "    return thetas, sigmas\n",
    "\n",
    "thetas, sigmas = get_norm_params(separated)"
   ]
  },
  {
   "cell_type": "markdown",
   "metadata": {},
   "source": [
    "<img src='thetas and sigmas.png' alt='thetas and sigmas of features for per target' width='800' align='left'/>"
   ]
  },
  {
   "cell_type": "markdown",
   "metadata": {},
   "source": [
    "## 베이지안 추론\n",
    "\n",
    "베이즈 정리에 기반하여 다음과 같이 세 단계를 거쳐 추론하는 것을 베이지안 추론이라고 합니다.\n",
    "\n",
    "1. 기존의 믿음 (prior belief)\n",
    "2. 새로운 증거 (new evidence)\n",
    "3. 믿음의 수정 (update belief -> posterior belief)\n",
    "\n",
    "### 베이즈 정리\n",
    "\n",
    "베이즈 정리는 아래의 식으로 표현됩니다.\n",
    "\n",
    "* $P(H|E) = \\frac{P(E|H)\\times P(H)}{P(E)}$\n",
    "\n",
    "위 식에서 각 항목의 의미는 다음과 같습니다.\n",
    "\n",
    "* $E$ : 사건 (event)\n",
    "* $H$ : 추론하고자 하는 값 (hypothesis)\n",
    "* $P(H)$ : E가 발생하기 전의 H에 대한 확률분포 (prior probability distribution)\n",
    "* $P(E|H)$ : H를 알고 있을 때 E의 발생 가능도 (likelihood)\n",
    "* $P(E)$ : H에 관계없이 E의  발생 가능도 (marginal likelihood)\n",
    "* $P(H|E)$ : E가 발생한 후의 H에 대한 확률분포 (posterior probability distribution)\n",
    "\n",
    "위의 식을 붓꽃 종류 분류 문제에 적용하기 위하여 E와 H를 다음과 같이 정의합니다.\n",
    "\n",
    "* E: 측정값 ($v_{measured}$)\n",
    "* H: 측정값으로부터 추정하는 실제값 ($v_{actual}$)\n",
    "\n",
    "측정값이 $v_{measured}$일때 **추정**하는 실제값 $v_{actual}$의 확률분포를 아래와 같이 조건부확률로 표현할 수 있습니다.\n",
    "\n",
    "* $P(v_{actual}|v_{measured})$\n",
    "\n",
    "이를 베이즈 정리에 따라 표현하면 아래와 같습니다.\n",
    "\n",
    "* $P(v_{actual}|v_{measured})=\\frac { P(v_{measured}|v_{actual})\\times P(v_{actual}) }{ P(v_{measured}) }$\n",
    "\n",
    "위 식의 각 항목에 대한 의미는 다음과 같습니다.\n",
    "\n",
    "* $P(v_{actual})$ : 측정값을 알기 전의 실제값 $v_{actual}$에 대한 확률분포\n",
    "* $P(v_{measured}|v_{actual})$ : 실제값이 $v_{actual}$일때 측정값 $v_{measured}$을 얻을 가능도\n",
    "* $P(v_{measured})$ : 실제값이 무엇이냐에 관계없이 측정값 $v_{measured}$을 얻을 가능도\n",
    "* $P(v_{actual}|v_{measured})$ : 측정값이 $v_{measured}$일때 **추정**하는 실제값 $v_{actual}$에 대한 확률분포"
   ]
  },
  {
   "cell_type": "markdown",
   "metadata": {},
   "source": [
    "### 기존의 믿음\n",
    "\n",
    "붓꽃 데이터 세트로부터 얻은 꽃 종류의 분포를 기존의 믿음으로 간주합니다. 즉 새로운 꽃의 꽃받침과 꽃잎의 길이와 넓이를 측정하기 전에는 꽃 종류는 데이터 세트로부터 얻은 분포를 따른다고 믿는 것입니다. 이를 **사전확률(prior probability)**이라고 합니다."
   ]
  },
  {
   "cell_type": "code",
   "execution_count": 8,
   "metadata": {},
   "outputs": [
    {
     "name": "stdout",
     "output_type": "stream",
     "text": [
      "[0.333333 0.333333 0.333333]\n"
     ]
    }
   ],
   "source": [
    "def get_priors(separated):\n",
    "    targets = separated.keys()\n",
    "\n",
    "    priors = np.zeros(len(targets))\n",
    "    \n",
    "    total_count = 0\n",
    "    for target in targets:\n",
    "        count = separated[target].shape[0]\n",
    "        total_count += count\n",
    "        priors[target] = count\n",
    "    \n",
    "    priors /= total_count\n",
    "    \n",
    "    return priors\n",
    "\n",
    "priors = get_priors(separated)\n",
    "print(priors)"
   ]
  },
  {
   "cell_type": "markdown",
   "metadata": {},
   "source": [
    "위의 결과로부터 어떤 붓꽃이 주어졌을 때 측정을 하기 전까지는 아래의 확률로 꽃 종류를 추정해 볼 수 있습니다.\n",
    "\n",
    "* setosa: $\\frac {1}{3}$\n",
    "* versicolor: $\\frac {1}{3}$\n",
    "* verginica: $\\frac {1}{3}$"
   ]
  },
  {
   "cell_type": "markdown",
   "metadata": {},
   "source": [
    "### 새로운 증거\n",
    "\n",
    "네 개의 붗꽃을 측정하여 얻은 값은 다음과 같다고 가정합니다."
   ]
  },
  {
   "cell_type": "code",
   "execution_count": 9,
   "metadata": {},
   "outputs": [],
   "source": [
    "measured = np.array([[5.1, 3.3, 1.4, 0.2], [6.1, 3.3, 5.1, 2.4], [6.1, 3.3, 5.1, 1.4], [5.5, 3.0, 4.7, 2.0]])"
   ]
  },
  {
   "cell_type": "markdown",
   "metadata": {},
   "source": [
    "측정값이 `measured`일 때 실제값이 `actual`일 가능성을 나타내는 **가능도(likelihood)**는 아래와 같이 구합니다.\n",
    "\n",
    "* $P(measured|actual) = P(sl={m}_{00}|target=0) \\times P(sw={m}_{01}|target=0) \\times P(pl={m}_{02}|target=0) \\times P(pw={m}_{03}|target=0)$\n",
    "\n",
    "그래서 측정값이 $sl={m}_{00}, sw={m}_{01}, pl={m}_{02}, pw={m}_{03}$일 때 $target = 0$일 가능성은 아래 네 값을 곱해서 얻습니다.\n",
    "\n",
    "* $target = 0$일 가능성은 아래 네 값을 곱해서 얻습니다.\n",
    "  * $P(sl={m}_{00}|target=0) = norm.pdf({m}_{00}, {\\theta}_{00}, {\\sigma}_{00})$\n",
    "  * $P(sw={m}_{01}|target=0) = norm.pdf({m}_{01}, {\\theta}_{01}, {\\sigma}_{01})$\n",
    "  * $P(pl={m}_{02}|target=0) = norm.pdf({m}_{02}, {\\theta}_{02}, {\\sigma}_{02})$\n",
    "  * $P(pw={m}_{03}|target=0) = norm.pdf({m}_{03}, {\\theta}_{03}, {\\sigma}_{03})$\n",
    "* $target = 1$일 가능성은 아래 네 값을 곱해서 얻습니다.\n",
    "  * $P(sl={m}_{00}|target=1) = norm.pdf({m}_{00}, {\\theta}_{10}, {\\sigma}_{10})$\n",
    "  * $P(sw={m}_{01}|target=1) = norm.pdf({m}_{01}, {\\theta}_{11}, {\\sigma}_{11})$\n",
    "  * $P(pl={m}_{02}|target=1) = norm.pdf({m}_{02}, {\\theta}_{12}, {\\sigma}_{12})$\n",
    "  * $P(pw={m}_{03}|target=1) = norm.pdf({m}_{03}, {\\theta}_{13}, {\\sigma}_{13})$\n",
    "* $target = 2$일 가능성은 아래 네 값을 곱해서 얻습니다.\n",
    "  * $P(sl={m}_{00}|target=2) = norm.pdf({m}_{00}, {\\theta}_{20}, {\\sigma}_{20})$\n",
    "  * $P(sw={m}_{01}|target=2) = norm.pdf({m}_{01}, {\\theta}_{21}, {\\sigma}_{21})$\n",
    "  * $P(pl={m}_{02}|target=2) = norm.pdf({m}_{02}, {\\theta}_{22}, {\\sigma}_{22})$\n",
    "  * $P(pw={m}_{03}|target=2) = norm.pdf({m}_{03}, {\\theta}_{23}, {\\sigma}_{23})$"
   ]
  },
  {
   "cell_type": "code",
   "execution_count": 10,
   "metadata": {},
   "outputs": [],
   "source": [
    "def get_likelihoods(thetas, sigmas, measured):\n",
    "    target_count = thetas.shape[0]\n",
    "    instance_count = measured.shape[0]\n",
    "\n",
    "    likelihoods = np.zeros((instance_count, target_count))\n",
    "    \n",
    "    for target in np.arange(target_count):\n",
    "        l = norm.pdf(measured, thetas[target, :], sigmas[target, :])\n",
    "        likelihoods[:, target] = np.prod(l, axis=1)\n",
    "        \n",
    "    return likelihoods\n",
    "\n",
    "likelihoods = get_likelihoods(thetas, sigmas, measured)"
   ]
  },
  {
   "cell_type": "markdown",
   "metadata": {},
   "source": [
    "실제값과 관계없이 `measured` 값을 얻을 가능성을 나타내는 **주변가능도(marginal likelihood)**는 아래와 같이 구합니다."
   ]
  },
  {
   "cell_type": "code",
   "execution_count": 11,
   "metadata": {},
   "outputs": [],
   "source": [
    "marginal_likelihoods = np.sum(likelihoods * priors, axis=1)"
   ]
  },
  {
   "cell_type": "markdown",
   "metadata": {},
   "source": [
    "### 믿음의 수정\n",
    "\n",
    "**새로운 증거(new evidence)**를 활용하여 **기존의 믿음(prior)**을 수정합니다. 이렇게 얻은 확률을 **사후확률 (posterior)**이라고 부릅니다."
   ]
  },
  {
   "cell_type": "code",
   "execution_count": 12,
   "metadata": {},
   "outputs": [
    {
     "name": "stdout",
     "output_type": "stream",
     "text": [
      "[[1.000000e+000 5.214082e-018 1.707447e-025]\n",
      " [1.138157e-190 2.153695e-007 9.999998e-001]\n",
      " [1.302006e-124 7.910229e-001 2.089771e-001]\n",
      " [1.394651e-137 2.739744e-002 9.726026e-001]]\n"
     ]
    }
   ],
   "source": [
    "def get_posteriors(priors, thetas, sigmas, X):\n",
    "    likelihoods = get_likelihoods(thetas, sigmas, X)\n",
    "    marginal_likelihoods = np.sum(likelihoods * priors, axis=1)\n",
    "    likelihood_ratios = likelihoods / marginal_likelihoods.reshape(len(marginal_likelihoods), -1)\n",
    "    posteriors = likelihood_ratios * priors\n",
    "    return posteriors\n",
    "\n",
    "posteriors = get_posteriors(priors, thetas, sigmas, measured)\n",
    "print(posteriors)"
   ]
  },
  {
   "cell_type": "markdown",
   "metadata": {},
   "source": [
    "`measured` 값이 주어진 상태에서 `actual` 값을 바꾸어 가면서 `posterior`를 구합니다. 그 중에서 최대 `posterior`에 해당하는 `actual`값을 실제값으로 간주합니다. 이 과정을 **Maximum A Posteriori(MAP) 추정**이라고 부릅니다."
   ]
  },
  {
   "cell_type": "code",
   "execution_count": 13,
   "metadata": {},
   "outputs": [
    {
     "data": {
      "image/png": "[encoded data removed]",
      "text/plain": [
       "<Figure size 1152x288 with 4 Axes>"
      ]
     },
     "metadata": {
      "needs_background": "light"
     },
     "output_type": "display_data"
    }
   ],
   "source": [
    "plt.figure(figsize = (16, 4))\n",
    "plt.suptitle('posterior distribution')\n",
    "for i in np.arange(measured.shape[0]):\n",
    "    plt.subplot(141+i)\n",
    "    plt.bar(ds_iris.target_names, posteriors[i,:], width=0.6)\n",
    "    plt.grid(True)\n",
    "    plt.title(f'sample: {i}')\n",
    "plt.show()"
   ]
  },
  {
   "cell_type": "code",
   "execution_count": 14,
   "metadata": {},
   "outputs": [
    {
     "name": "stdout",
     "output_type": "stream",
     "text": [
      "[5.1 3.3 1.4 0.2] => setosa\n",
      "[6.1 3.3 5.1 2.4] => virginica\n",
      "[6.1 3.3 5.1 1.4] => versicolor\n",
      "[5.5 3.  4.7 2. ] => virginica\n"
     ]
    }
   ],
   "source": [
    "predicted = np.argmax(posteriors, axis=1)\n",
    "\n",
    "for i in np.arange(measured.shape[0]):\n",
    "    print(f'{measured[i,:]} => {ds_iris.target_names[predicted[i]]}')"
   ]
  },
  {
   "cell_type": "markdown",
   "metadata": {},
   "source": [
    "위의 사후확률 그래프를 토대로 아래와 같이 말할 수 있습니다.\n",
    "\n",
    "* sample 0:\n",
    "    * setosa일 확률은 1.0\n",
    "* sample 1: \n",
    "    * virginica일 확률은 1.0\n",
    "* sample 2:\n",
    "    * versicolor일 확률은 0.79\n",
    "    * virginica일 확률은 0.21\n",
    "* sample 3\n",
    "    * versicolor일 확률은 0.03\n",
    "    * virginical일 확률은 0.97"
   ]
  },
  {
   "cell_type": "markdown",
   "metadata": {},
   "source": [
    "## 분류기 구현"
   ]
  },
  {
   "cell_type": "code",
   "execution_count": 16,
   "metadata": {},
   "outputs": [],
   "source": [
    "class GaussianNB:\n",
    "    def fit(self, X, y):\n",
    "        # separate by targets\n",
    "        separated = separate_by_targets(X, y)\n",
    "        \n",
    "        # get priors\n",
    "        self.priors = get_priors(separated)\n",
    "        \n",
    "        # get norm parameters\n",
    "        self.thetas, self.sigmas = get_norm_params(separated)\n",
    "        \n",
    "    def predict(self, X):\n",
    "        posteriors = get_posteriors(self.priors, self.thetas, self.sigmas, X)\n",
    "        predicted = np.argmax(posteriors, axis=1)\n",
    "        return predicted\n",
    "        \n",
    "    def score(self, X, y):\n",
    "        return sum(self.predict(X) == y) / len(y)"
   ]
  },
  {
   "cell_type": "markdown",
   "metadata": {},
   "source": [
    "### 예측 성능"
   ]
  },
  {
   "cell_type": "code",
   "execution_count": 18,
   "metadata": {},
   "outputs": [
    {
     "name": "stdout",
     "output_type": "stream",
     "text": [
      "0.9667\n"
     ]
    }
   ],
   "source": [
    "X, y = ds_iris.data, ds_iris.target\n",
    "X_train, X_test, y_train, y_test = train_test_split(X, y, test_size=0.2)\n",
    "\n",
    "nb = GaussianNB()\n",
    "nb.fit(X_train, y_train)\n",
    "    \n",
    "score = nb.score(X_test, y_test)\n",
    "print(f'{score:.4f}')"
   ]
  },
  {
   "cell_type": "markdown",
   "metadata": {},
   "source": [
    "## 마무리\n",
    "\n",
    "* 이 글에서 제시한 방식은 베이지안 분류기에 해당합니다."
   ]
  },
  {
   "cell_type": "code",
   "execution_count": null,
   "metadata": {},
   "outputs": [],
   "source": []
  }
 ],
 "metadata": {
  "kernelspec": {
   "display_name": "Python 3",
   "language": "python",
   "name": "python3"
  },
  "language_info": {
   "codemirror_mode": {
    "name": "ipython",
    "version": 3
   },
   "file_extension": ".py",
   "mimetype": "text/x-python",
   "name": "python",
   "nbconvert_exporter": "python",
   "pygments_lexer": "ipython3",
   "version": "3.7.3"
  }
 },
 "nbformat": 4,
 "nbformat_minor": 2
}
