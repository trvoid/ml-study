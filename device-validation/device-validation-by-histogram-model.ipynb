{
 "cells": [
  {
   "cell_type": "markdown",
   "metadata": {},
   "source": [
    "# 새로운 측정기기의 유효성 판단 방법 - 히스토그램 모델\n",
    "\n",
    "이 글에서는 새로운 측정기기(이하 신규기기)의 측정값과 표준 측정기기(이하 표준기기)의 측정값간의 상관계수가 크고 작음에 신규기기의 유효성에 어떤 영향을 미치는지 베이지안 추론 방식으로 보여줍니다."
   ]
  },
  {
   "cell_type": "markdown",
   "metadata": {},
   "source": [
    "## 모델 정의\n",
    "\n",
    "표준기기를 사용하여 얻는 측정값을 실제값으로 간주합니다. 그리고 실제값의 변화에 따른 신규기기의 측정값 변화를 설명하기 위하여 모델을 정의합니다. 여기에서는 별도의 수학식을 고안하지 않고 표본으로부터 수집한 데이터의 히스토그램 자체를 모델로 사용합니다."
   ]
  },
  {
   "cell_type": "markdown",
   "metadata": {},
   "source": [
    "## 라이브러리 준비\n",
    "\n",
    "사용할 파이썬 라이브러리들을 임포트합니다."
   ]
  },
  {
   "cell_type": "code",
   "execution_count": 2,
   "metadata": {},
   "outputs": [],
   "source": [
    "import numpy as np\n",
    "import pandas as pd\n",
    "from scipy.stats import pearsonr\n",
    "import matplotlib.pyplot as plt\n",
    "\n",
    "%matplotlib inline\n",
    "\n",
    "np.random.seed(7)"
   ]
  },
  {
   "cell_type": "markdown",
   "metadata": {},
   "source": [
    "## 데이터 준비\n",
    "\n",
    "표준기기 **GOLD_STANDARD**와 두 종류의 신규기기 **DEVICE_A**, **DEVICE_B**를 사용하여 데이터를 수집합니다.\n",
    "\n",
    "* **GOLD_STANDARD**와 **DEVICE_A**의 측정값간의 상관관계: **강함**\n",
    "* **GOLD_STANDARD**와 **DEVICE_B**의 측정값간의 상관관계: **약함**"
   ]
  },
  {
   "cell_type": "code",
   "execution_count": 3,
   "metadata": {},
   "outputs": [],
   "source": [
    "def create_data(sample_count):\n",
    "    gold_standard = np.random.normal(200, 50, sample_count)\n",
    "    \n",
    "    r = np.random.normal(3, 5, sample_count)\n",
    "    device_a = 0.3 * gold_standard - 10 + r\n",
    "    \n",
    "    r = np.random.normal(3, 5, sample_count)\n",
    "    device_b = 0.01 * gold_standard + 70 + r\n",
    "    \n",
    "    dataset_a = list(zip(device_a, gold_standard))\n",
    "    dataset_b = list(zip(device_b, gold_standard))\n",
    "    \n",
    "    dataframe_a = pd.DataFrame(dataset_a, columns = ['new_device', 'gold_standard'])\n",
    "    dataframe_b = pd.DataFrame(dataset_b, columns = ['new_device', 'gold_standard'])\n",
    "    \n",
    "    return dataframe_a, dataframe_b\n",
    "\n",
    "def save_data(dataframe, filename):\n",
    "    dataframe.to_csv(filename, index = None, header = True)\n",
    "    \n",
    "def load_data(filename):\n",
    "    return pd.read_csv(filename)"
   ]
  },
  {
   "cell_type": "markdown",
   "metadata": {},
   "source": [
    "미리 준비한 데이터 파일이 없다면 실습을 위하여 아래와 같이 두 신규기기와 표준기기의 데이터 파일을 생성합니다."
   ]
  },
  {
   "cell_type": "code",
   "execution_count": 4,
   "metadata": {},
   "outputs": [
    {
     "name": "stdout",
     "output_type": "stream",
     "text": [
      "Correlation between DEVICE_A and GOLD_STANDARD = 0.95\n",
      "Correlation between DEVICE_B and GOLD_STANDARD = 0.15\n"
     ]
    }
   ],
   "source": [
    "SAMPLE_COUNT = 200\n",
    "\n",
    "dataframe_a, dataframe_b = create_data(SAMPLE_COUNT)\n",
    "save_data(dataframe_a, 'dataset_a.csv')\n",
    "save_data(dataframe_b, 'dataset_b.csv')\n",
    "\n",
    "correlation_a, _ = pearsonr(dataframe_a['new_device'], dataframe_a['gold_standard'])\n",
    "correlation_b, _ = pearsonr(dataframe_b['new_device'], dataframe_b['gold_standard'])\n",
    "print(f'Correlation between DEVICE_A and GOLD_STANDARD = {correlation_a:.2f}')\n",
    "print(f'Correlation between DEVICE_B and GOLD_STANDARD = {correlation_b:.2f}')"
   ]
  },
  {
   "cell_type": "markdown",
   "metadata": {},
   "source": [
    "두 신규기기와 표준기기의 데이터 파일로부터 데이터를 읽어들입니다."
   ]
  },
  {
   "cell_type": "code",
   "execution_count": 5,
   "metadata": {},
   "outputs": [],
   "source": [
    "dataframe_a = load_data('dataset_a.csv')\n",
    "dataframe_b = load_data('dataset_b.csv')\n",
    "\n",
    "data_actual = dataframe_a['gold_standard']\n",
    "data_measured_a = dataframe_a['new_device']\n",
    "data_measured_b = dataframe_b['new_device']"
   ]
  },
  {
   "cell_type": "markdown",
   "metadata": {},
   "source": [
    "## 데이터 탐색\n",
    "\n",
    "표준기기의 측정값을 실제값으로 간주하고 `actual`로 표기합니다. 그리고 신규기기의 측정값은 `measured`로 표기합니다. 이는 예측 모델이 수립된 이후부터는 신규기기로 측정을 하고 그 값으로 표준기기의 측정값, 즉 실제값을 추정하기 때문입니다.\n",
    "\n",
    "### 데이터 통계"
   ]
  },
  {
   "cell_type": "code",
   "execution_count": 6,
   "metadata": {},
   "outputs": [
    {
     "data": {
      "text/plain": [
       "count    200.000000\n",
       "mean     198.601767\n",
       "std       49.645335\n",
       "min       85.584245\n",
       "25%      166.030918\n",
       "50%      198.559295\n",
       "75%      230.473855\n",
       "max      312.997349\n",
       "Name: gold_standard, dtype: float64"
      ]
     },
     "execution_count": 6,
     "metadata": {},
     "output_type": "execute_result"
    }
   ],
   "source": [
    "data_actual.describe()"
   ]
  },
  {
   "cell_type": "code",
   "execution_count": 7,
   "metadata": {},
   "outputs": [
    {
     "data": {
      "text/plain": [
       "count    200.000000\n",
       "mean      52.219818\n",
       "std       15.602004\n",
       "min       14.174403\n",
       "25%       41.371465\n",
       "50%       52.319938\n",
       "75%       64.063497\n",
       "max       96.088177\n",
       "Name: new_device, dtype: float64"
      ]
     },
     "execution_count": 7,
     "metadata": {},
     "output_type": "execute_result"
    }
   ],
   "source": [
    "data_measured_a.describe()"
   ]
  },
  {
   "cell_type": "code",
   "execution_count": 8,
   "metadata": {},
   "outputs": [
    {
     "data": {
      "text/plain": [
       "count    200.000000\n",
       "mean      74.697722\n",
       "std        4.867561\n",
       "min       60.429150\n",
       "25%       71.415884\n",
       "50%       74.728767\n",
       "75%       78.444109\n",
       "max       87.792226\n",
       "Name: new_device, dtype: float64"
      ]
     },
     "execution_count": 8,
     "metadata": {},
     "output_type": "execute_result"
    }
   ],
   "source": [
    "data_measured_b.describe()"
   ]
  },
  {
   "cell_type": "markdown",
   "metadata": {},
   "source": [
    "### 산포도\n",
    "\n",
    "표준기기의 측정값과 두 신규기기의 측정값간의 상관관계를 시각적으로 파악하기 위하여 산포도를 그립니다."
   ]
  },
  {
   "cell_type": "code",
   "execution_count": 9,
   "metadata": {},
   "outputs": [
    {
     "data": {
      "image/png": "[encoded data removed]",
      "text/plain": [
       "<Figure size 1080x288 with 2 Axes>"
      ]
     },
     "metadata": {
      "needs_background": "light"
     },
     "output_type": "display_data"
    }
   ],
   "source": [
    "plt.figure(figsize = (15, 4))\n",
    "\n",
    "plt.subplot(121)\n",
    "plt.scatter(data_actual, data_measured_a)\n",
    "plt.xlim(0, 400)\n",
    "plt.ylim(0, 100)\n",
    "plt.grid(True)\n",
    "plt.xlabel('actual')\n",
    "plt.ylabel('measured')\n",
    "plt.title(f'dataset_a (corr = {correlation_a:.2f})')\n",
    "\n",
    "plt.subplot(122)\n",
    "plt.scatter(data_actual, data_measured_b)\n",
    "plt.xlim(0, 400)\n",
    "plt.ylim(0, 100)\n",
    "plt.grid(True)\n",
    "plt.xlabel('actual')\n",
    "plt.ylabel('measured')\n",
    "plt.title(f'dataset_b (corr = {correlation_b:.2f})')\n",
    "\n",
    "plt.show()"
   ]
  },
  {
   "cell_type": "markdown",
   "metadata": {},
   "source": [
    "### 히스토그램\n",
    "\n",
    "위의 데이터 통계와 산포도를 참고하여 히스토그램을 그리기에 적합한 구간 개수와 값의 범위를 지정합니다."
   ]
  },
  {
   "cell_type": "code",
   "execution_count": 10,
   "metadata": {},
   "outputs": [],
   "source": [
    "BINS_ACTUAL = 8\n",
    "RANGE_ACTUAL = (0, 400)\n",
    "\n",
    "BINS_MEASURED = 10\n",
    "RANGE_MEASURED = (0, 100)"
   ]
  },
  {
   "cell_type": "markdown",
   "metadata": {},
   "source": [
    "세 기기 **GOLD_STANDARD**, **DEVICE_A**, **DEVICE_B**의 측정값들의 분포를 파악하기 위하여 히스토그램을 그립니다."
   ]
  },
  {
   "cell_type": "code",
   "execution_count": 11,
   "metadata": {},
   "outputs": [
    {
     "data": {
      "text/plain": [
       "Text(0.5, 1.0, 'GOLD_STANDARD')"
      ]
     },
     "execution_count": 11,
     "metadata": {},
     "output_type": "execute_result"
    },
    {
     "data": {
      "image/png": "[encoded data removed]",
      "text/plain": [
       "<Figure size 576x288 with 1 Axes>"
      ]
     },
     "metadata": {
      "needs_background": "light"
     },
     "output_type": "display_data"
    }
   ],
   "source": [
    "dataframe_a.hist(column = 'gold_standard', bins = BINS_ACTUAL, range = RANGE_ACTUAL, figsize = (8, 4))\n",
    "plt.xlim(RANGE_ACTUAL[0], RANGE_ACTUAL[1])\n",
    "plt.ylim(0, 80)\n",
    "plt.xlabel('actual')\n",
    "plt.ylabel('frequency')\n",
    "plt.title('GOLD_STANDARD')"
   ]
  },
  {
   "cell_type": "code",
   "execution_count": 12,
   "metadata": {},
   "outputs": [
    {
     "data": {
      "text/plain": [
       "Text(0.5, 1.0, 'DEVICE_A')"
      ]
     },
     "execution_count": 12,
     "metadata": {},
     "output_type": "execute_result"
    },
    {
     "data": {
      "image/png": "[encoded data removed]",
      "text/plain": [
       "<Figure size 576x288 with 1 Axes>"
      ]
     },
     "metadata": {
      "needs_background": "light"
     },
     "output_type": "display_data"
    }
   ],
   "source": [
    "dataframe_a.hist(column = 'new_device', bins = BINS_MEASURED, range = RANGE_MEASURED, figsize = (8, 4))\n",
    "plt.xlim(RANGE_MEASURED[0], RANGE_MEASURED[1])\n",
    "plt.ylim(0, 60)\n",
    "plt.xlabel('measured')\n",
    "plt.ylabel('frequency')\n",
    "plt.title('DEVICE_A')"
   ]
  },
  {
   "cell_type": "code",
   "execution_count": 13,
   "metadata": {},
   "outputs": [
    {
     "data": {
      "text/plain": [
       "Text(0.5, 1.0, 'DEVICE_B')"
      ]
     },
     "execution_count": 13,
     "metadata": {},
     "output_type": "execute_result"
    },
    {
     "data": {
      "image/png": "[encoded data removed]",
      "text/plain": [
       "<Figure size 576x288 with 1 Axes>"
      ]
     },
     "metadata": {
      "needs_background": "light"
     },
     "output_type": "display_data"
    }
   ],
   "source": [
    "dataframe_b.hist(column = 'new_device', bins = BINS_MEASURED, range = RANGE_MEASURED, figsize = (8, 4))\n",
    "plt.xlim(RANGE_MEASURED[0], RANGE_MEASURED[1])\n",
    "plt.ylim(0, 160)\n",
    "plt.xlabel('measured')\n",
    "plt.ylabel('frequency')\n",
    "plt.title('DEVICE_B')"
   ]
  },
  {
   "cell_type": "markdown",
   "metadata": {},
   "source": [
    "### 히스토그램 테이블\n",
    "\n",
    "표준기기 측정값의 구간별로 신규기기 측정값의 도수분포표를 구합니다."
   ]
  },
  {
   "cell_type": "code",
   "execution_count": 14,
   "metadata": {},
   "outputs": [],
   "source": [
    "def get_frequency_table(data_measured):\n",
    "    min = RANGE_ACTUAL[0]\n",
    "    max = RANGE_ACTUAL[1]\n",
    "    bin_width = (max - min) / BINS_ACTUAL\n",
    "    \n",
    "    frequency_table = {}\n",
    "    \n",
    "    for bin_index in np.arange(BINS_ACTUAL):\n",
    "        frequency_table[bin_index] = []\n",
    "    \n",
    "    for i in np.arange(len(data_actual)):\n",
    "        bin_index = int((data_actual[i] - min) / bin_width)\n",
    "        frequency_table[bin_index].append(data_measured[i])\n",
    "        \n",
    "    return frequency_table\n",
    "\n",
    "frequency_table_a = get_frequency_table(data_measured_a)\n",
    "frequency_table_b = get_frequency_table(data_measured_b)\n",
    "\n",
    "def get_hist_table(frequency_table):\n",
    "    hist_table = {}\n",
    "    for bin_index in np.arange(BINS_ACTUAL):\n",
    "        hist, _ = np.histogram(frequency_table[bin_index], BINS_MEASURED, RANGE_MEASURED)\n",
    "        hist_table[bin_index] = hist\n",
    "        \n",
    "    return hist_table\n",
    "        \n",
    "hist_table_a = get_hist_table(frequency_table_a)\n",
    "hist_table_b = get_hist_table(frequency_table_b)"
   ]
  },
  {
   "cell_type": "markdown",
   "metadata": {},
   "source": [
    "위에서 구한 히스토그램 테이블을 바탕으로 표준기기 측정값의 구간별로 신규기기 측정값의 히스토그램을 그려봅니다."
   ]
  },
  {
   "cell_type": "code",
   "execution_count": 15,
   "metadata": {},
   "outputs": [
    {
     "data": {
      "image/png": "[encoded data removed]",
      "text/plain": [
       "<Figure size 1080x576 with 8 Axes>"
      ]
     },
     "metadata": {
      "needs_background": "light"
     },
     "output_type": "display_data"
    }
   ],
   "source": [
    "plt.figure(figsize = (15, 8))\n",
    "for i in np.arange(BINS_ACTUAL):\n",
    "    plt.subplot(241 + i)\n",
    "    plt.hist(frequency_table_a[i], bins = BINS_MEASURED, range = RANGE_MEASURED, align = 'mid')\n",
    "    plt.xlim(RANGE_MEASURED[0], RANGE_MEASURED[1])\n",
    "    plt.ylim(0, 40)\n",
    "    plt.title(f'bins = {i} for DEVICE_A')\n",
    "plt.show()"
   ]
  },
  {
   "cell_type": "code",
   "execution_count": 16,
   "metadata": {},
   "outputs": [
    {
     "data": {
      "image/png": "[encoded data removed]",
      "text/plain": [
       "<Figure size 1080x576 with 8 Axes>"
      ]
     },
     "metadata": {
      "needs_background": "light"
     },
     "output_type": "display_data"
    }
   ],
   "source": [
    "plt.figure(figsize = (15, 8))\n",
    "for i in np.arange(BINS_ACTUAL):\n",
    "    plt.subplot(241 + i)\n",
    "    plt.hist(frequency_table_b[i], bins = BINS_MEASURED, range = RANGE_MEASURED, align = 'mid')\n",
    "    plt.xlim(RANGE_MEASURED[0], RANGE_MEASURED[1])\n",
    "    plt.ylim(0, 60)\n",
    "    plt.title(f'bins = {i} for DEVICE_B')\n",
    "plt.show()"
   ]
  },
  {
   "cell_type": "markdown",
   "metadata": {},
   "source": [
    "## 베이즈 추론"
   ]
  },
  {
   "cell_type": "markdown",
   "metadata": {},
   "source": [
    "### 기존의 믿음\n",
    "\n",
    "조사대상군에 대하여 표준기기로 측정한 값의 분포를 기존의 믿음으로 간주합니다. 즉 어떤 사람을 신규기기로 측정하기 전에는 그의 실제값은 조사대상군에 대하여 표준기기로 측정한 값의 분포를 따른다고 믿는 것입니다. 이를 **사전확률(prior probability)**이라고 합니다."
   ]
  },
  {
   "cell_type": "code",
   "execution_count": 17,
   "metadata": {},
   "outputs": [
    {
     "data": {
      "image/png": "[encoded data removed]",
      "text/plain": [
       "<Figure size 576x288 with 1 Axes>"
      ]
     },
     "metadata": {
      "needs_background": "light"
     },
     "output_type": "display_data"
    }
   ],
   "source": [
    "def get_bin_index(bins, range, value):\n",
    "    min = range[0]\n",
    "    max = range[1]\n",
    "    bin_width = (max - min) / bins\n",
    "    bin_index = int((value - min) / bin_width)\n",
    "    return bin_index\n",
    "    \n",
    "def get_probability(data, bins, range, value):\n",
    "    hist, bin_edges = np.histogram(data, bins = bins, range = range)\n",
    "    bin_index = get_bin_index(bins, range, value)\n",
    "    probability = hist[bin_index] / len(data)\n",
    "    return probability\n",
    "\n",
    "def get_prior(actual):\n",
    "    prior = get_probability(data_actual, BINS_ACTUAL, RANGE_ACTUAL, actual)\n",
    "    return prior\n",
    "\n",
    "actual_arr = np.linspace(RANGE_ACTUAL[0], RANGE_ACTUAL[1], BINS_ACTUAL, endpoint = False)\n",
    "prior_arr = []\n",
    "for actual in actual_arr:\n",
    "    prior = get_prior(actual)\n",
    "    prior_arr.append(prior)\n",
    "    \n",
    "plt.figure(figsize = (8, 4))\n",
    "plt.bar(actual_arr, prior_arr, width = 50, align = 'edge')\n",
    "plt.grid(True)\n",
    "plt.xlabel('actual')\n",
    "plt.ylabel('probability')\n",
    "plt.title('prior probability distribution')\n",
    "plt.show()"
   ]
  },
  {
   "cell_type": "markdown",
   "metadata": {},
   "source": [
    "### 새로운 증거\n",
    "\n",
    "두 종류의 새로운 측정기기를 사용하여 얻은 값은 다음과 같다고 가정합니다.\n",
    "\n",
    "* Device A: 70\n",
    "* Device B: 70"
   ]
  },
  {
   "cell_type": "code",
   "execution_count": 18,
   "metadata": {},
   "outputs": [],
   "source": [
    "measured_a = 70\n",
    "measured_b = 70"
   ]
  },
  {
   "cell_type": "markdown",
   "metadata": {},
   "source": [
    "측정값이 `measured`일 때 실제값이 `actual`일 가능성을 나타내는 **가능도(likelihood)**는 아래와 같이 구합니다."
   ]
  },
  {
   "cell_type": "code",
   "execution_count": 19,
   "metadata": {},
   "outputs": [],
   "source": [
    "def get_likelihood(hist_table, actual, measured):\n",
    "    bin_index_actual = get_bin_index(BINS_ACTUAL, RANGE_ACTUAL, actual)\n",
    "    bin_index_measured = get_bin_index(BINS_MEASURED, RANGE_MEASURED, measured)\n",
    "    hist = hist_table[bin_index_actual]\n",
    "    if np.sum(hist) == 0:\n",
    "        likelihood = 0\n",
    "    else:\n",
    "        likelihood = hist[bin_index_measured] / np.sum(hist)\n",
    "    return likelihood"
   ]
  },
  {
   "cell_type": "markdown",
   "metadata": {},
   "source": [
    "실제값과 관계없이 `measured` 값을 얻을 가능성을 나타내는 **주변가능도(marginal likelihood)**는 아래와 같이 구합니다."
   ]
  },
  {
   "cell_type": "code",
   "execution_count": 20,
   "metadata": {},
   "outputs": [],
   "source": [
    "def get_marginal_likelihood(hist_table, measured):\n",
    "    total_count = 0\n",
    "    for bin_index_actual in np.arange(BINS_ACTUAL):\n",
    "        hist = hist_table[bin_index_actual]\n",
    "        total_count += np.sum(hist)\n",
    "    \n",
    "    bin_index_measured = get_bin_index(BINS_MEASURED, RANGE_MEASURED, measured)\n",
    "    \n",
    "    marginal_likelihood = 0\n",
    "    for bin_index_actual in np.arange(BINS_ACTUAL):\n",
    "        hist = hist_table[bin_index_actual]\n",
    "        marginal_likelihood += hist[bin_index_measured] / total_count\n",
    "        \n",
    "    return marginal_likelihood"
   ]
  },
  {
   "cell_type": "markdown",
   "metadata": {},
   "source": [
    "### 믿음 수정\n",
    "\n",
    "**새로운 증거(new evidence)**를 활용하여 **기존의 믿음(prior)**을 수정합니다. 이렇게 얻은 확률을 **사후확률 (posterior)**이라고 부릅니다."
   ]
  },
  {
   "cell_type": "code",
   "execution_count": 21,
   "metadata": {},
   "outputs": [],
   "source": [
    "def get_posterior(hist_table, actual, measured):\n",
    "    prior = get_prior(actual)\n",
    "    likelihood = get_likelihood(hist_table, actual, measured)\n",
    "    marginal_likelihood = get_marginal_likelihood(hist_table, measured)\n",
    "    if marginal_likelihood == 0:\n",
    "        posterior = 0\n",
    "    else:\n",
    "        posterior = likelihood * prior / marginal_likelihood    \n",
    "    return posterior"
   ]
  },
  {
   "cell_type": "markdown",
   "metadata": {},
   "source": [
    "`measured` 값이 주어진 상태에서 `actual` 값을 바꾸어 가면서 `posterior`를 구합니다. 그 중에서 최대 `posterior`에 해당하는 `actual`값을 실제값으로 간주합니다. 이 과정을 **Maximum A Posteriori(MAP) 추정**이라고 부릅니다."
   ]
  },
  {
   "cell_type": "code",
   "execution_count": 22,
   "metadata": {},
   "outputs": [
    {
     "data": {
      "image/png": "[encoded data removed]",
      "text/plain": [
       "<Figure size 864x288 with 2 Axes>"
      ]
     },
     "metadata": {
      "needs_background": "light"
     },
     "output_type": "display_data"
    }
   ],
   "source": [
    "actual_arr = np.linspace(RANGE_ACTUAL[0], RANGE_ACTUAL[1], 400, endpoint = False)\n",
    "posterior_a = []\n",
    "posterior_b = []\n",
    "for actual in actual_arr:\n",
    "    p = get_posterior(hist_table_a, actual, measured_a)\n",
    "    posterior_a.append(p)\n",
    "for actual in actual_arr:\n",
    "    p = get_posterior(hist_table_b, actual, measured_b)\n",
    "    posterior_b.append(p)\n",
    "\n",
    "plt.figure(figsize = (12, 4))\n",
    "\n",
    "plt.subplot(121)\n",
    "plt.plot(actual_arr, posterior_a)\n",
    "plt.grid(True)\n",
    "plt.xlim(RANGE_ACTUAL[0], RANGE_ACTUAL[1])\n",
    "plt.ylim(0, 1.0)\n",
    "plt.xlabel('actual')\n",
    "plt.ylabel('probability')\n",
    "plt.title('posterior probability distribution for DEVICE_A')\n",
    "\n",
    "plt.subplot(122)\n",
    "plt.plot(actual_arr, posterior_b)\n",
    "plt.grid(True)\n",
    "plt.xlim(RANGE_ACTUAL[0], RANGE_ACTUAL[1])\n",
    "plt.ylim(0, 1.0)\n",
    "plt.xlabel('actual')\n",
    "plt.ylabel('probability')\n",
    "plt.title('posterior probability distribution for DEVICE_B')\n",
    "\n",
    "plt.show()"
   ]
  },
  {
   "cell_type": "markdown",
   "metadata": {},
   "source": [
    "위의 사후확률 그래프를 토대로 아래와 같이 말할 수 있습니다.\n",
    "\n",
    "두 신규기기의 측정값이 각각 70, 70일때\n",
    "\n",
    "* DEVICE_A:\n",
    "    * 실제값은 약 0.8의 확률로 250 ~ 300 구간에 속할 것이라 추정\n",
    "    * 실제값은 약 0.2의 확률로 200 ~ 250 구간에 속할 것이라 추정\n",
    "* DEVICE_B: \n",
    "    * 실제값은 약 0.7의 확률로 150 ~ 250 구간에 속할 것이라 추정\n",
    "    * 실제값은 약 0.3의 확률로 100 ~ 150, 250 ~ 300 구간에 속할 것이라 추정\n",
    "\n",
    "이것은 **DEVICE_A**를 사용하면 **DEVICE_B**를 사용할 때보다 더 강한 믿음을 가지고 실제값을 예측할 수 있음을 나타냅니다."
   ]
  },
  {
   "cell_type": "markdown",
   "metadata": {},
   "source": [
    "## 결론\n",
    "\n",
    "*신규기기의 측정값과 표준기기의 측정값간의 상관계수가 크면 신규기기의 유효성이 높고 상관계수가 작으면 신규기기의 유효성이 낮다.*"
   ]
  },
  {
   "cell_type": "code",
   "execution_count": null,
   "metadata": {},
   "outputs": [],
   "source": []
  }
 ],
 "metadata": {
  "kernelspec": {
   "display_name": "Python 3",
   "language": "python",
   "name": "python3"
  },
  "language_info": {
   "codemirror_mode": {
    "name": "ipython",
    "version": 3
   },
   "file_extension": ".py",
   "mimetype": "text/x-python",
   "name": "python",
   "nbconvert_exporter": "python",
   "pygments_lexer": "ipython3",
   "version": "3.7.3"
  }
 },
 "nbformat": 4,
 "nbformat_minor": 2
}
