{
 "cells": [
  {
   "cell_type": "markdown",
   "metadata": {},
   "source": [
    "새로 개발한 측정기기의 측정값과 기존의 표준기기 측정값간의 상관관계"
   ]
  },
  {
   "cell_type": "code",
   "execution_count": 25,
   "metadata": {},
   "outputs": [],
   "source": [
    "import numpy as np\n",
    "import pandas as pd\n",
    "import matplotlib.pyplot as plt\n",
    "\n",
    "%matplotlib inline\n",
    "\n",
    "np.random.seed(7)"
   ]
  },
  {
   "cell_type": "markdown",
   "metadata": {},
   "source": [
    "## 데이터 준비"
   ]
  },
  {
   "cell_type": "code",
   "execution_count": 37,
   "metadata": {},
   "outputs": [],
   "source": [
    "def create_data():\n",
    "    g = np.random.normal(200, 50, 100)\n",
    "\n",
    "    r = np.random.normal(3, 5, 100)\n",
    "    a = 0.3 * g - 10 + r\n",
    "    \n",
    "    r = np.random.normal(3, 5, 100)\n",
    "    b = 70 + r\n",
    "    \n",
    "    ds_a = list(zip(a, g))\n",
    "    ds_b = list(zip(b, g))\n",
    "    \n",
    "    df_a = pd.DataFrame(ds_a, columns = ['measured', 'gold_standard'])\n",
    "    df_b = pd.DataFrame(ds_b, columns = ['measured', 'gold_standard'])\n",
    "\n",
    "    df_a.to_csv(r'dataset_a.csv', index = None, header = True)\n",
    "    df_b.to_csv(r'dataset_b.csv', index = None, header = True)\n",
    "    \n",
    "def load_data(filename):\n",
    "    return pd.read_csv(filename)\n",
    "\n",
    "create_data()\n",
    "\n",
    "df_a = load_data('dataset_a.csv')\n",
    "df_b = load_data('dataset_b.csv')"
   ]
  },
  {
   "cell_type": "markdown",
   "metadata": {},
   "source": [
    "## 데이터 탐색"
   ]
  },
  {
   "cell_type": "code",
   "execution_count": 38,
   "metadata": {
    "scrolled": true
   },
   "outputs": [
    {
     "data": {
      "text/html": [
       "<div>\n",
       "<style scoped>\n",
       "    .dataframe tbody tr th:only-of-type {\n",
       "        vertical-align: middle;\n",
       "    }\n",
       "\n",
       "    .dataframe tbody tr th {\n",
       "        vertical-align: top;\n",
       "    }\n",
       "\n",
       "    .dataframe thead th {\n",
       "        text-align: right;\n",
       "    }\n",
       "</style>\n",
       "<table border=\"1\" class=\"dataframe\">\n",
       "  <thead>\n",
       "    <tr style=\"text-align: right;\">\n",
       "      <th></th>\n",
       "      <th>measured</th>\n",
       "      <th>gold_standard</th>\n",
       "    </tr>\n",
       "  </thead>\n",
       "  <tbody>\n",
       "    <tr>\n",
       "      <th>0</th>\n",
       "      <td>48.997042</td>\n",
       "      <td>173.121722</td>\n",
       "    </tr>\n",
       "    <tr>\n",
       "      <th>1</th>\n",
       "      <td>66.384895</td>\n",
       "      <td>215.555755</td>\n",
       "    </tr>\n",
       "    <tr>\n",
       "      <th>2</th>\n",
       "      <td>54.169527</td>\n",
       "      <td>227.285628</td>\n",
       "    </tr>\n",
       "    <tr>\n",
       "      <th>3</th>\n",
       "      <td>11.803856</td>\n",
       "      <td>62.305237</td>\n",
       "    </tr>\n",
       "    <tr>\n",
       "      <th>4</th>\n",
       "      <td>23.364769</td>\n",
       "      <td>105.985468</td>\n",
       "    </tr>\n",
       "  </tbody>\n",
       "</table>\n",
       "</div>"
      ],
      "text/plain": [
       "    measured  gold_standard\n",
       "0  48.997042     173.121722\n",
       "1  66.384895     215.555755\n",
       "2  54.169527     227.285628\n",
       "3  11.803856      62.305237\n",
       "4  23.364769     105.985468"
      ]
     },
     "execution_count": 38,
     "metadata": {},
     "output_type": "execute_result"
    }
   ],
   "source": [
    "df_a.head()"
   ]
  },
  {
   "cell_type": "code",
   "execution_count": 39,
   "metadata": {},
   "outputs": [
    {
     "data": {
      "text/html": [
       "<div>\n",
       "<style scoped>\n",
       "    .dataframe tbody tr th:only-of-type {\n",
       "        vertical-align: middle;\n",
       "    }\n",
       "\n",
       "    .dataframe tbody tr th {\n",
       "        vertical-align: top;\n",
       "    }\n",
       "\n",
       "    .dataframe thead th {\n",
       "        text-align: right;\n",
       "    }\n",
       "</style>\n",
       "<table border=\"1\" class=\"dataframe\">\n",
       "  <thead>\n",
       "    <tr style=\"text-align: right;\">\n",
       "      <th></th>\n",
       "      <th>measured</th>\n",
       "      <th>gold_standard</th>\n",
       "    </tr>\n",
       "  </thead>\n",
       "  <tbody>\n",
       "    <tr>\n",
       "      <th>count</th>\n",
       "      <td>100.000000</td>\n",
       "      <td>100.000000</td>\n",
       "    </tr>\n",
       "    <tr>\n",
       "      <th>mean</th>\n",
       "      <td>49.143287</td>\n",
       "      <td>187.619552</td>\n",
       "    </tr>\n",
       "    <tr>\n",
       "      <th>std</th>\n",
       "      <td>14.776443</td>\n",
       "      <td>45.691928</td>\n",
       "    </tr>\n",
       "    <tr>\n",
       "      <th>min</th>\n",
       "      <td>11.803856</td>\n",
       "      <td>62.305237</td>\n",
       "    </tr>\n",
       "    <tr>\n",
       "      <th>25%</th>\n",
       "      <td>39.434315</td>\n",
       "      <td>161.724897</td>\n",
       "    </tr>\n",
       "    <tr>\n",
       "      <th>50%</th>\n",
       "      <td>51.650021</td>\n",
       "      <td>193.901841</td>\n",
       "    </tr>\n",
       "    <tr>\n",
       "      <th>75%</th>\n",
       "      <td>57.449533</td>\n",
       "      <td>215.602525</td>\n",
       "    </tr>\n",
       "    <tr>\n",
       "      <th>max</th>\n",
       "      <td>83.975727</td>\n",
       "      <td>307.195953</td>\n",
       "    </tr>\n",
       "  </tbody>\n",
       "</table>\n",
       "</div>"
      ],
      "text/plain": [
       "         measured  gold_standard\n",
       "count  100.000000     100.000000\n",
       "mean    49.143287     187.619552\n",
       "std     14.776443      45.691928\n",
       "min     11.803856      62.305237\n",
       "25%     39.434315     161.724897\n",
       "50%     51.650021     193.901841\n",
       "75%     57.449533     215.602525\n",
       "max     83.975727     307.195953"
      ]
     },
     "execution_count": 39,
     "metadata": {},
     "output_type": "execute_result"
    }
   ],
   "source": [
    "df_a.describe()"
   ]
  },
  {
   "cell_type": "code",
   "execution_count": 40,
   "metadata": {},
   "outputs": [
    {
     "data": {
      "text/html": [
       "<div>\n",
       "<style scoped>\n",
       "    .dataframe tbody tr th:only-of-type {\n",
       "        vertical-align: middle;\n",
       "    }\n",
       "\n",
       "    .dataframe tbody tr th {\n",
       "        vertical-align: top;\n",
       "    }\n",
       "\n",
       "    .dataframe thead th {\n",
       "        text-align: right;\n",
       "    }\n",
       "</style>\n",
       "<table border=\"1\" class=\"dataframe\">\n",
       "  <thead>\n",
       "    <tr style=\"text-align: right;\">\n",
       "      <th></th>\n",
       "      <th>measured</th>\n",
       "      <th>gold_standard</th>\n",
       "    </tr>\n",
       "  </thead>\n",
       "  <tbody>\n",
       "    <tr>\n",
       "      <th>0</th>\n",
       "      <td>68.986977</td>\n",
       "      <td>173.121722</td>\n",
       "    </tr>\n",
       "    <tr>\n",
       "      <th>1</th>\n",
       "      <td>74.534323</td>\n",
       "      <td>215.555755</td>\n",
       "    </tr>\n",
       "    <tr>\n",
       "      <th>2</th>\n",
       "      <td>71.582926</td>\n",
       "      <td>227.285628</td>\n",
       "    </tr>\n",
       "    <tr>\n",
       "      <th>3</th>\n",
       "      <td>75.300071</td>\n",
       "      <td>62.305237</td>\n",
       "    </tr>\n",
       "    <tr>\n",
       "      <th>4</th>\n",
       "      <td>68.681635</td>\n",
       "      <td>105.985468</td>\n",
       "    </tr>\n",
       "  </tbody>\n",
       "</table>\n",
       "</div>"
      ],
      "text/plain": [
       "    measured  gold_standard\n",
       "0  68.986977     173.121722\n",
       "1  74.534323     215.555755\n",
       "2  71.582926     227.285628\n",
       "3  75.300071      62.305237\n",
       "4  68.681635     105.985468"
      ]
     },
     "execution_count": 40,
     "metadata": {},
     "output_type": "execute_result"
    }
   ],
   "source": [
    "df_b.head()"
   ]
  },
  {
   "cell_type": "code",
   "execution_count": 41,
   "metadata": {},
   "outputs": [
    {
     "data": {
      "text/html": [
       "<div>\n",
       "<style scoped>\n",
       "    .dataframe tbody tr th:only-of-type {\n",
       "        vertical-align: middle;\n",
       "    }\n",
       "\n",
       "    .dataframe tbody tr th {\n",
       "        vertical-align: top;\n",
       "    }\n",
       "\n",
       "    .dataframe thead th {\n",
       "        text-align: right;\n",
       "    }\n",
       "</style>\n",
       "<table border=\"1\" class=\"dataframe\">\n",
       "  <thead>\n",
       "    <tr style=\"text-align: right;\">\n",
       "      <th></th>\n",
       "      <th>measured</th>\n",
       "      <th>gold_standard</th>\n",
       "    </tr>\n",
       "  </thead>\n",
       "  <tbody>\n",
       "    <tr>\n",
       "      <th>count</th>\n",
       "      <td>100.000000</td>\n",
       "      <td>100.000000</td>\n",
       "    </tr>\n",
       "    <tr>\n",
       "      <th>mean</th>\n",
       "      <td>72.494860</td>\n",
       "      <td>187.619552</td>\n",
       "    </tr>\n",
       "    <tr>\n",
       "      <th>std</th>\n",
       "      <td>4.880996</td>\n",
       "      <td>45.691928</td>\n",
       "    </tr>\n",
       "    <tr>\n",
       "      <th>min</th>\n",
       "      <td>58.043020</td>\n",
       "      <td>62.305237</td>\n",
       "    </tr>\n",
       "    <tr>\n",
       "      <th>25%</th>\n",
       "      <td>69.131574</td>\n",
       "      <td>161.724897</td>\n",
       "    </tr>\n",
       "    <tr>\n",
       "      <th>50%</th>\n",
       "      <td>71.916884</td>\n",
       "      <td>193.901841</td>\n",
       "    </tr>\n",
       "    <tr>\n",
       "      <th>75%</th>\n",
       "      <td>75.590695</td>\n",
       "      <td>215.602525</td>\n",
       "    </tr>\n",
       "    <tr>\n",
       "      <th>max</th>\n",
       "      <td>85.640166</td>\n",
       "      <td>307.195953</td>\n",
       "    </tr>\n",
       "  </tbody>\n",
       "</table>\n",
       "</div>"
      ],
      "text/plain": [
       "         measured  gold_standard\n",
       "count  100.000000     100.000000\n",
       "mean    72.494860     187.619552\n",
       "std      4.880996      45.691928\n",
       "min     58.043020      62.305237\n",
       "25%     69.131574     161.724897\n",
       "50%     71.916884     193.901841\n",
       "75%     75.590695     215.602525\n",
       "max     85.640166     307.195953"
      ]
     },
     "execution_count": 41,
     "metadata": {},
     "output_type": "execute_result"
    }
   ],
   "source": [
    "df_b.describe()"
   ]
  },
  {
   "cell_type": "code",
   "execution_count": 57,
   "metadata": {},
   "outputs": [
    {
     "data": {
      "image/png": "[encoded data removed]",
      "text/plain": [
       "<Figure size 1080x288 with 2 Axes>"
      ]
     },
     "metadata": {
      "needs_background": "light"
     },
     "output_type": "display_data"
    }
   ],
   "source": [
    "g = df_a['gold_standard']\n",
    "a = df_a['measured']\n",
    "b = df_b['measured']\n",
    "\n",
    "plt.figure(figsize = (15, 4))\n",
    "\n",
    "plt.subplot(121)\n",
    "plt.scatter(g, a)\n",
    "plt.xlim(0, 400)\n",
    "plt.ylim(0, 100)\n",
    "plt.grid(True)\n",
    "plt.xlabel('gold_standard')\n",
    "plt.ylabel('measured')\n",
    "plt.title('dataset_a')\n",
    "\n",
    "plt.subplot(122)\n",
    "plt.scatter(g, b)\n",
    "plt.xlim(0, 400)\n",
    "plt.ylim(0, 100)\n",
    "plt.grid(True)\n",
    "plt.xlabel('gold_standard')\n",
    "plt.ylabel('measured')\n",
    "plt.title('dataset_b')\n",
    "\n",
    "plt.show()"
   ]
  },
  {
   "cell_type": "markdown",
   "metadata": {},
   "source": [
    "## 기존의 믿음"
   ]
  },
  {
   "cell_type": "code",
   "execution_count": 81,
   "metadata": {},
   "outputs": [
    {
     "data": {
      "text/plain": [
       "(0, 32)"
      ]
     },
     "execution_count": 81,
     "metadata": {},
     "output_type": "execute_result"
    },
    {
     "data": {
      "image/png": "[encoded data removed]",
      "text/plain": [
       "<Figure size 576x288 with 1 Axes>"
      ]
     },
     "metadata": {
      "needs_background": "light"
     },
     "output_type": "display_data"
    }
   ],
   "source": [
    "df_a.hist(column = 'gold_standard', bins = 10, range = (50, 350), figsize = (8, 4))\n",
    "plt.xlim(0, 400)\n",
    "plt.ylim(0, 32)"
   ]
  },
  {
   "cell_type": "code",
   "execution_count": 65,
   "metadata": {},
   "outputs": [
    {
     "data": {
      "image/png": "[encoded data removed]",
      "text/plain": [
       "<Figure size 576x288 with 1 Axes>"
      ]
     },
     "metadata": {
      "needs_background": "light"
     },
     "output_type": "display_data"
    }
   ],
   "source": [
    "frequency_table = np.zeros(40)\n",
    "for v in g:\n",
    "    idx = int(v / 10)\n",
    "    frequency_table[idx] += 1\n",
    "    \n",
    "x = np.arange(40)\n",
    "\n",
    "plt.figure(figsize = (8, 4))\n",
    "plt.bar(x, frequency_table)\n",
    "plt.xlim(0, 40)\n",
    "plt.ylim(0, 12)\n",
    "plt.show()"
   ]
  },
  {
   "cell_type": "markdown",
   "metadata": {},
   "source": [
    "## 가능도"
   ]
  },
  {
   "cell_type": "code",
   "execution_count": null,
   "metadata": {},
   "outputs": [],
   "source": []
  },
  {
   "cell_type": "code",
   "execution_count": null,
   "metadata": {},
   "outputs": [],
   "source": [
    "def get_posteriori(w_prior, w_actual, w_measured_arr):\n",
    "    l_measured = stats.norm.pdf(w_measured_arr, w_actual, s_actual)\n",
    "    weighting = stats.norm.pdf(w_actual, w_prior, s_prior)\n",
    "    posteriori = np.prod(l_measured * weighting)\n",
    "    return posteriori"
   ]
  },
  {
   "cell_type": "code",
   "execution_count": null,
   "metadata": {},
   "outputs": [],
   "source": []
  }
 ],
 "metadata": {
  "kernelspec": {
   "display_name": "Python 3",
   "language": "python",
   "name": "python3"
  },
  "language_info": {
   "codemirror_mode": {
    "name": "ipython",
    "version": 3
   },
   "file_extension": ".py",
   "mimetype": "text/x-python",
   "name": "python",
   "nbconvert_exporter": "python",
   "pygments_lexer": "ipython3",
   "version": "3.7.3"
  }
 },
 "nbformat": 4,
 "nbformat_minor": 2
}
